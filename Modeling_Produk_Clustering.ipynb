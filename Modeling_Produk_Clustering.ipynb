{
  "cells": [
    {
      "cell_type": "markdown",
      "metadata": {
        "id": "sD8Z4uCHFXVP"
      },
      "source": [
        "#**IMPORTING LIBRARY**\n",
        "\n",
        "\n"
      ]
    },
    {
      "cell_type": "code",
      "execution_count": null,
      "metadata": {
        "id": "YWc0kU7u746q"
      },
      "outputs": [],
      "source": [
        "import math \n",
        "from collections import Counter, defaultdict \n",
        "from functools import partial\n",
        "\n",
        "import graphviz \n",
        "import matplotlib.pyplot as plt \n",
        "import numpy as np \n",
        "import pandas as pd \n",
        "import seaborn as sns \n",
        "plt.style.use(\"fivethirtyeight\")\n"
      ]
    },
    {
      "cell_type": "code",
      "execution_count": null,
      "metadata": {
        "colab": {
          "base_uri": "https://localhost:8080/"
        },
        "id": "ORibESGh8Ifs",
        "outputId": "0cb7b0cd-bdc3-47f7-94fd-f93bf88800eb"
      },
      "outputs": [
        {
          "output_type": "stream",
          "name": "stdout",
          "text": [
            "Mounted at /content/drive\n"
          ]
        }
      ],
      "source": [
        "from google.colab import drive\n",
        "drive.mount('/content/drive')"
      ]
    },
    {
      "cell_type": "markdown",
      "metadata": {
        "id": "GamS38ITGsw_"
      },
      "source": [
        "#**IMPORTING FILE**"
      ]
    },
    {
      "cell_type": "code",
      "execution_count": null,
      "metadata": {
        "id": "vuS6tUpE8hCG"
      },
      "outputs": [],
      "source": [
        "dfprodm=pd.read_csv('/content/drive/MyDrive/FINAL PROJECT RG 210/dept_product/inv_distribution_center_men.csv')\n",
        "dfprodw=pd.read_csv('/content/drive/MyDrive/FINAL PROJECT RG 210/dept_product/inv_distribution_center_women.csv')"
      ]
    },
    {
      "cell_type": "code",
      "execution_count": null,
      "metadata": {
        "colab": {
          "base_uri": "https://localhost:8080/"
        },
        "id": "wfNpk6pD9Dgk",
        "outputId": "be7003c4-6168-4501-8ebf-773cc45c08d2"
      },
      "outputs": [
        {
          "output_type": "execute_result",
          "data": {
            "text/plain": [
              "            id  product_id           created_at              sold_at    cost  \\\n",
              "0        90967       16898  2021-07-19 02:20:10  2021-07-20 14:34:10  13.925   \n",
              "1        90968       16898  2020-04-13 07:46:00                  NaN  13.925   \n",
              "2        90969       16898  2020-09-02 17:43:00                  NaN  13.925   \n",
              "3        90970       16898  2021-08-19 15:17:00                  NaN  13.925   \n",
              "4        96715       16898  2020-05-09 11:16:10  2020-06-23 23:59:10  13.925   \n",
              "...        ...         ...                  ...                  ...     ...   \n",
              "244416  458707       18150  2020-03-15 16:19:00                  NaN  14.751   \n",
              "244417  458708       18150  2021-12-29 08:07:00                  NaN  14.751   \n",
              "244418  485671       18150  2022-02-24 10:14:40  2022-02-27 22:45:40  14.751   \n",
              "244419  485672       18150  2020-07-23 07:12:00                  NaN  14.751   \n",
              "244420  485673       18150  2020-06-29 03:56:00                  NaN  14.751   \n",
              "\n",
              "       product_category                                       product_name  \\\n",
              "0           Tops & Tees              Quiksilver Waterman Men's On The Rise   \n",
              "1           Tops & Tees              Quiksilver Waterman Men's On The Rise   \n",
              "2           Tops & Tees              Quiksilver Waterman Men's On The Rise   \n",
              "3           Tops & Tees              Quiksilver Waterman Men's On The Rise   \n",
              "4           Tops & Tees              Quiksilver Waterman Men's On The Rise   \n",
              "...                 ...                                                ...   \n",
              "244416           Active  3 PAIR -30 BELOW THERMAL WINTER SOCKS (MERINO ...   \n",
              "244417           Active  3 PAIR -30 BELOW THERMAL WINTER SOCKS (MERINO ...   \n",
              "244418           Active  3 PAIR -30 BELOW THERMAL WINTER SOCKS (MERINO ...   \n",
              "244419           Active  3 PAIR -30 BELOW THERMAL WINTER SOCKS (MERINO ...   \n",
              "244420           Active  3 PAIR -30 BELOW THERMAL WINTER SOCKS (MERINO ...   \n",
              "\n",
              "                                 product_brand  product_retail_price  \\\n",
              "0                                          NaN                  25.0   \n",
              "1                                          NaN                  25.0   \n",
              "2                                          NaN                  25.0   \n",
              "3                                          NaN                  25.0   \n",
              "4                                          NaN                  25.0   \n",
              "...                                        ...                   ...   \n",
              "244416  J.B. Icelandic (Extreme Cold Activity)                  33.0   \n",
              "244417  J.B. Icelandic (Extreme Cold Activity)                  33.0   \n",
              "244418  J.B. Icelandic (Extreme Cold Activity)                  33.0   \n",
              "244419  J.B. Icelandic (Extreme Cold Activity)                  33.0   \n",
              "244420  J.B. Icelandic (Extreme Cold Activity)                  33.0   \n",
              "\n",
              "       product_department                       product_sku  \\\n",
              "0                     Men  22811EE19846217512507785E74D12CC   \n",
              "1                     Men  22811EE19846217512507785E74D12CC   \n",
              "2                     Men  22811EE19846217512507785E74D12CC   \n",
              "3                     Men  22811EE19846217512507785E74D12CC   \n",
              "4                     Men  22811EE19846217512507785E74D12CC   \n",
              "...                   ...                               ...   \n",
              "244416                Men  CD4B78A5026AAFF9159F31E5C5997089   \n",
              "244417                Men  CD4B78A5026AAFF9159F31E5C5997089   \n",
              "244418                Men  CD4B78A5026AAFF9159F31E5C5997089   \n",
              "244419                Men  CD4B78A5026AAFF9159F31E5C5997089   \n",
              "244420                Men  CD4B78A5026AAFF9159F31E5C5997089   \n",
              "\n",
              "        product_distribution_center_id  dist_center_id        name  latitude  \\\n",
              "0                                    3               3  Houston TX   29.7604   \n",
              "1                                    3               3  Houston TX   29.7604   \n",
              "2                                    3               3  Houston TX   29.7604   \n",
              "3                                    3               3  Houston TX   29.7604   \n",
              "4                                    3               3  Houston TX   29.7604   \n",
              "...                                ...             ...         ...       ...   \n",
              "244416                               3               3  Houston TX   29.7604   \n",
              "244417                               3               3  Houston TX   29.7604   \n",
              "244418                               3               3  Houston TX   29.7604   \n",
              "244419                               3               3  Houston TX   29.7604   \n",
              "244420                               3               3  Houston TX   29.7604   \n",
              "\n",
              "        longitude  \n",
              "0        -95.3698  \n",
              "1        -95.3698  \n",
              "2        -95.3698  \n",
              "3        -95.3698  \n",
              "4        -95.3698  \n",
              "...           ...  \n",
              "244416   -95.3698  \n",
              "244417   -95.3698  \n",
              "244418   -95.3698  \n",
              "244419   -95.3698  \n",
              "244420   -95.3698  \n",
              "\n",
              "[244421 rows x 16 columns]"
            ],
            "text/html": [
              "\n",
              "  <div id=\"df-309647df-5288-492a-b385-8791c39fa031\">\n",
              "    <div class=\"colab-df-container\">\n",
              "      <div>\n",
              "<style scoped>\n",
              "    .dataframe tbody tr th:only-of-type {\n",
              "        vertical-align: middle;\n",
              "    }\n",
              "\n",
              "    .dataframe tbody tr th {\n",
              "        vertical-align: top;\n",
              "    }\n",
              "\n",
              "    .dataframe thead th {\n",
              "        text-align: right;\n",
              "    }\n",
              "</style>\n",
              "<table border=\"1\" class=\"dataframe\">\n",
              "  <thead>\n",
              "    <tr style=\"text-align: right;\">\n",
              "      <th></th>\n",
              "      <th>id</th>\n",
              "      <th>product_id</th>\n",
              "      <th>created_at</th>\n",
              "      <th>sold_at</th>\n",
              "      <th>cost</th>\n",
              "      <th>product_category</th>\n",
              "      <th>product_name</th>\n",
              "      <th>product_brand</th>\n",
              "      <th>product_retail_price</th>\n",
              "      <th>product_department</th>\n",
              "      <th>product_sku</th>\n",
              "      <th>product_distribution_center_id</th>\n",
              "      <th>dist_center_id</th>\n",
              "      <th>name</th>\n",
              "      <th>latitude</th>\n",
              "      <th>longitude</th>\n",
              "    </tr>\n",
              "  </thead>\n",
              "  <tbody>\n",
              "    <tr>\n",
              "      <th>0</th>\n",
              "      <td>90967</td>\n",
              "      <td>16898</td>\n",
              "      <td>2021-07-19 02:20:10</td>\n",
              "      <td>2021-07-20 14:34:10</td>\n",
              "      <td>13.925</td>\n",
              "      <td>Tops &amp; Tees</td>\n",
              "      <td>Quiksilver Waterman Men's On The Rise</td>\n",
              "      <td>NaN</td>\n",
              "      <td>25.0</td>\n",
              "      <td>Men</td>\n",
              "      <td>22811EE19846217512507785E74D12CC</td>\n",
              "      <td>3</td>\n",
              "      <td>3</td>\n",
              "      <td>Houston TX</td>\n",
              "      <td>29.7604</td>\n",
              "      <td>-95.3698</td>\n",
              "    </tr>\n",
              "    <tr>\n",
              "      <th>1</th>\n",
              "      <td>90968</td>\n",
              "      <td>16898</td>\n",
              "      <td>2020-04-13 07:46:00</td>\n",
              "      <td>NaN</td>\n",
              "      <td>13.925</td>\n",
              "      <td>Tops &amp; Tees</td>\n",
              "      <td>Quiksilver Waterman Men's On The Rise</td>\n",
              "      <td>NaN</td>\n",
              "      <td>25.0</td>\n",
              "      <td>Men</td>\n",
              "      <td>22811EE19846217512507785E74D12CC</td>\n",
              "      <td>3</td>\n",
              "      <td>3</td>\n",
              "      <td>Houston TX</td>\n",
              "      <td>29.7604</td>\n",
              "      <td>-95.3698</td>\n",
              "    </tr>\n",
              "    <tr>\n",
              "      <th>2</th>\n",
              "      <td>90969</td>\n",
              "      <td>16898</td>\n",
              "      <td>2020-09-02 17:43:00</td>\n",
              "      <td>NaN</td>\n",
              "      <td>13.925</td>\n",
              "      <td>Tops &amp; Tees</td>\n",
              "      <td>Quiksilver Waterman Men's On The Rise</td>\n",
              "      <td>NaN</td>\n",
              "      <td>25.0</td>\n",
              "      <td>Men</td>\n",
              "      <td>22811EE19846217512507785E74D12CC</td>\n",
              "      <td>3</td>\n",
              "      <td>3</td>\n",
              "      <td>Houston TX</td>\n",
              "      <td>29.7604</td>\n",
              "      <td>-95.3698</td>\n",
              "    </tr>\n",
              "    <tr>\n",
              "      <th>3</th>\n",
              "      <td>90970</td>\n",
              "      <td>16898</td>\n",
              "      <td>2021-08-19 15:17:00</td>\n",
              "      <td>NaN</td>\n",
              "      <td>13.925</td>\n",
              "      <td>Tops &amp; Tees</td>\n",
              "      <td>Quiksilver Waterman Men's On The Rise</td>\n",
              "      <td>NaN</td>\n",
              "      <td>25.0</td>\n",
              "      <td>Men</td>\n",
              "      <td>22811EE19846217512507785E74D12CC</td>\n",
              "      <td>3</td>\n",
              "      <td>3</td>\n",
              "      <td>Houston TX</td>\n",
              "      <td>29.7604</td>\n",
              "      <td>-95.3698</td>\n",
              "    </tr>\n",
              "    <tr>\n",
              "      <th>4</th>\n",
              "      <td>96715</td>\n",
              "      <td>16898</td>\n",
              "      <td>2020-05-09 11:16:10</td>\n",
              "      <td>2020-06-23 23:59:10</td>\n",
              "      <td>13.925</td>\n",
              "      <td>Tops &amp; Tees</td>\n",
              "      <td>Quiksilver Waterman Men's On The Rise</td>\n",
              "      <td>NaN</td>\n",
              "      <td>25.0</td>\n",
              "      <td>Men</td>\n",
              "      <td>22811EE19846217512507785E74D12CC</td>\n",
              "      <td>3</td>\n",
              "      <td>3</td>\n",
              "      <td>Houston TX</td>\n",
              "      <td>29.7604</td>\n",
              "      <td>-95.3698</td>\n",
              "    </tr>\n",
              "    <tr>\n",
              "      <th>...</th>\n",
              "      <td>...</td>\n",
              "      <td>...</td>\n",
              "      <td>...</td>\n",
              "      <td>...</td>\n",
              "      <td>...</td>\n",
              "      <td>...</td>\n",
              "      <td>...</td>\n",
              "      <td>...</td>\n",
              "      <td>...</td>\n",
              "      <td>...</td>\n",
              "      <td>...</td>\n",
              "      <td>...</td>\n",
              "      <td>...</td>\n",
              "      <td>...</td>\n",
              "      <td>...</td>\n",
              "      <td>...</td>\n",
              "    </tr>\n",
              "    <tr>\n",
              "      <th>244416</th>\n",
              "      <td>458707</td>\n",
              "      <td>18150</td>\n",
              "      <td>2020-03-15 16:19:00</td>\n",
              "      <td>NaN</td>\n",
              "      <td>14.751</td>\n",
              "      <td>Active</td>\n",
              "      <td>3 PAIR -30 BELOW THERMAL WINTER SOCKS (MERINO ...</td>\n",
              "      <td>J.B. Icelandic (Extreme Cold Activity)</td>\n",
              "      <td>33.0</td>\n",
              "      <td>Men</td>\n",
              "      <td>CD4B78A5026AAFF9159F31E5C5997089</td>\n",
              "      <td>3</td>\n",
              "      <td>3</td>\n",
              "      <td>Houston TX</td>\n",
              "      <td>29.7604</td>\n",
              "      <td>-95.3698</td>\n",
              "    </tr>\n",
              "    <tr>\n",
              "      <th>244417</th>\n",
              "      <td>458708</td>\n",
              "      <td>18150</td>\n",
              "      <td>2021-12-29 08:07:00</td>\n",
              "      <td>NaN</td>\n",
              "      <td>14.751</td>\n",
              "      <td>Active</td>\n",
              "      <td>3 PAIR -30 BELOW THERMAL WINTER SOCKS (MERINO ...</td>\n",
              "      <td>J.B. Icelandic (Extreme Cold Activity)</td>\n",
              "      <td>33.0</td>\n",
              "      <td>Men</td>\n",
              "      <td>CD4B78A5026AAFF9159F31E5C5997089</td>\n",
              "      <td>3</td>\n",
              "      <td>3</td>\n",
              "      <td>Houston TX</td>\n",
              "      <td>29.7604</td>\n",
              "      <td>-95.3698</td>\n",
              "    </tr>\n",
              "    <tr>\n",
              "      <th>244418</th>\n",
              "      <td>485671</td>\n",
              "      <td>18150</td>\n",
              "      <td>2022-02-24 10:14:40</td>\n",
              "      <td>2022-02-27 22:45:40</td>\n",
              "      <td>14.751</td>\n",
              "      <td>Active</td>\n",
              "      <td>3 PAIR -30 BELOW THERMAL WINTER SOCKS (MERINO ...</td>\n",
              "      <td>J.B. Icelandic (Extreme Cold Activity)</td>\n",
              "      <td>33.0</td>\n",
              "      <td>Men</td>\n",
              "      <td>CD4B78A5026AAFF9159F31E5C5997089</td>\n",
              "      <td>3</td>\n",
              "      <td>3</td>\n",
              "      <td>Houston TX</td>\n",
              "      <td>29.7604</td>\n",
              "      <td>-95.3698</td>\n",
              "    </tr>\n",
              "    <tr>\n",
              "      <th>244419</th>\n",
              "      <td>485672</td>\n",
              "      <td>18150</td>\n",
              "      <td>2020-07-23 07:12:00</td>\n",
              "      <td>NaN</td>\n",
              "      <td>14.751</td>\n",
              "      <td>Active</td>\n",
              "      <td>3 PAIR -30 BELOW THERMAL WINTER SOCKS (MERINO ...</td>\n",
              "      <td>J.B. Icelandic (Extreme Cold Activity)</td>\n",
              "      <td>33.0</td>\n",
              "      <td>Men</td>\n",
              "      <td>CD4B78A5026AAFF9159F31E5C5997089</td>\n",
              "      <td>3</td>\n",
              "      <td>3</td>\n",
              "      <td>Houston TX</td>\n",
              "      <td>29.7604</td>\n",
              "      <td>-95.3698</td>\n",
              "    </tr>\n",
              "    <tr>\n",
              "      <th>244420</th>\n",
              "      <td>485673</td>\n",
              "      <td>18150</td>\n",
              "      <td>2020-06-29 03:56:00</td>\n",
              "      <td>NaN</td>\n",
              "      <td>14.751</td>\n",
              "      <td>Active</td>\n",
              "      <td>3 PAIR -30 BELOW THERMAL WINTER SOCKS (MERINO ...</td>\n",
              "      <td>J.B. Icelandic (Extreme Cold Activity)</td>\n",
              "      <td>33.0</td>\n",
              "      <td>Men</td>\n",
              "      <td>CD4B78A5026AAFF9159F31E5C5997089</td>\n",
              "      <td>3</td>\n",
              "      <td>3</td>\n",
              "      <td>Houston TX</td>\n",
              "      <td>29.7604</td>\n",
              "      <td>-95.3698</td>\n",
              "    </tr>\n",
              "  </tbody>\n",
              "</table>\n",
              "<p>244421 rows × 16 columns</p>\n",
              "</div>\n",
              "      <button class=\"colab-df-convert\" onclick=\"convertToInteractive('df-309647df-5288-492a-b385-8791c39fa031')\"\n",
              "              title=\"Convert this dataframe to an interactive table.\"\n",
              "              style=\"display:none;\">\n",
              "        \n",
              "  <svg xmlns=\"http://www.w3.org/2000/svg\" height=\"24px\"viewBox=\"0 0 24 24\"\n",
              "       width=\"24px\">\n",
              "    <path d=\"M0 0h24v24H0V0z\" fill=\"none\"/>\n",
              "    <path d=\"M18.56 5.44l.94 2.06.94-2.06 2.06-.94-2.06-.94-.94-2.06-.94 2.06-2.06.94zm-11 1L8.5 8.5l.94-2.06 2.06-.94-2.06-.94L8.5 2.5l-.94 2.06-2.06.94zm10 10l.94 2.06.94-2.06 2.06-.94-2.06-.94-.94-2.06-.94 2.06-2.06.94z\"/><path d=\"M17.41 7.96l-1.37-1.37c-.4-.4-.92-.59-1.43-.59-.52 0-1.04.2-1.43.59L10.3 9.45l-7.72 7.72c-.78.78-.78 2.05 0 2.83L4 21.41c.39.39.9.59 1.41.59.51 0 1.02-.2 1.41-.59l7.78-7.78 2.81-2.81c.8-.78.8-2.07 0-2.86zM5.41 20L4 18.59l7.72-7.72 1.47 1.35L5.41 20z\"/>\n",
              "  </svg>\n",
              "      </button>\n",
              "      \n",
              "  <style>\n",
              "    .colab-df-container {\n",
              "      display:flex;\n",
              "      flex-wrap:wrap;\n",
              "      gap: 12px;\n",
              "    }\n",
              "\n",
              "    .colab-df-convert {\n",
              "      background-color: #E8F0FE;\n",
              "      border: none;\n",
              "      border-radius: 50%;\n",
              "      cursor: pointer;\n",
              "      display: none;\n",
              "      fill: #1967D2;\n",
              "      height: 32px;\n",
              "      padding: 0 0 0 0;\n",
              "      width: 32px;\n",
              "    }\n",
              "\n",
              "    .colab-df-convert:hover {\n",
              "      background-color: #E2EBFA;\n",
              "      box-shadow: 0px 1px 2px rgba(60, 64, 67, 0.3), 0px 1px 3px 1px rgba(60, 64, 67, 0.15);\n",
              "      fill: #174EA6;\n",
              "    }\n",
              "\n",
              "    [theme=dark] .colab-df-convert {\n",
              "      background-color: #3B4455;\n",
              "      fill: #D2E3FC;\n",
              "    }\n",
              "\n",
              "    [theme=dark] .colab-df-convert:hover {\n",
              "      background-color: #434B5C;\n",
              "      box-shadow: 0px 1px 3px 1px rgba(0, 0, 0, 0.15);\n",
              "      filter: drop-shadow(0px 1px 2px rgba(0, 0, 0, 0.3));\n",
              "      fill: #FFFFFF;\n",
              "    }\n",
              "  </style>\n",
              "\n",
              "      <script>\n",
              "        const buttonEl =\n",
              "          document.querySelector('#df-309647df-5288-492a-b385-8791c39fa031 button.colab-df-convert');\n",
              "        buttonEl.style.display =\n",
              "          google.colab.kernel.accessAllowed ? 'block' : 'none';\n",
              "\n",
              "        async function convertToInteractive(key) {\n",
              "          const element = document.querySelector('#df-309647df-5288-492a-b385-8791c39fa031');\n",
              "          const dataTable =\n",
              "            await google.colab.kernel.invokeFunction('convertToInteractive',\n",
              "                                                     [key], {});\n",
              "          if (!dataTable) return;\n",
              "\n",
              "          const docLinkHtml = 'Like what you see? Visit the ' +\n",
              "            '<a target=\"_blank\" href=https://colab.research.google.com/notebooks/data_table.ipynb>data table notebook</a>'\n",
              "            + ' to learn more about interactive tables.';\n",
              "          element.innerHTML = '';\n",
              "          dataTable['output_type'] = 'display_data';\n",
              "          await google.colab.output.renderOutput(dataTable, element);\n",
              "          const docLink = document.createElement('div');\n",
              "          docLink.innerHTML = docLinkHtml;\n",
              "          element.appendChild(docLink);\n",
              "        }\n",
              "      </script>\n",
              "    </div>\n",
              "  </div>\n",
              "  "
            ]
          },
          "metadata": {},
          "execution_count": 4
        }
      ],
      "source": [
        "dfprodm"
      ]
    },
    {
      "cell_type": "markdown",
      "metadata": {
        "id": "5B5IhjSnS1A-"
      },
      "source": [
        "drop kolom yang tidak mengandung informasi khusus untuk modelling"
      ]
    },
    {
      "cell_type": "code",
      "execution_count": null,
      "metadata": {
        "id": "fzX4jyf9iqc3"
      },
      "outputs": [],
      "source": [
        "del dfprodm['id']\n",
        "del dfprodm['product_id']\n",
        "del dfprodm['sold_at']\n",
        "del dfprodm['created_at']\n",
        "del dfprodm['product_brand']\n",
        "del dfprodm['product_name']\n",
        "del dfprodm['product_distribution_center_id']\n",
        "del dfprodm['product_sku']\n",
        "del dfprodm['dist_center_id']\n",
        "del dfprodm['latitude']\n",
        "del dfprodm['longitude']"
      ]
    },
    {
      "cell_type": "code",
      "execution_count": null,
      "metadata": {
        "colab": {
          "base_uri": "https://localhost:8080/"
        },
        "id": "Gn6hdZK5-hcR",
        "outputId": "38f83aa6-968d-4170-def7-9414be5379bc"
      },
      "outputs": [
        {
          "output_type": "execute_result",
          "data": {
            "text/plain": [
              "            id  product_id           created_at              sold_at  \\\n",
              "0       179253        9482  2022-02-02 04:03:26  2022-02-07 03:30:26   \n",
              "1       179254        9482  2020-08-27 07:42:00                  NaN   \n",
              "2       242620        9482  2022-03-18 17:50:30  2022-05-03 12:35:30   \n",
              "3       242621        9482  2020-08-01 14:35:00                  NaN   \n",
              "4       242622        9482  2021-10-12 03:52:00                  NaN   \n",
              "...        ...         ...                  ...                  ...   \n",
              "242968  234443       14392  2020-04-09 17:38:00                  NaN   \n",
              "242969  290890       14392  2021-03-18 14:42:49  2021-05-15 04:49:49   \n",
              "242970  290891       14392  2022-04-25 03:04:00                  NaN   \n",
              "242971  301361       14392  2021-05-15 11:44:11  2021-06-27 04:00:11   \n",
              "242972  301362       14392  2020-06-22 15:50:00                  NaN   \n",
              "\n",
              "             cost product_category  \\\n",
              "0        5.712000  Socks & Hosiery   \n",
              "1        5.712000  Socks & Hosiery   \n",
              "2        5.712000  Socks & Hosiery   \n",
              "3        5.712000  Socks & Hosiery   \n",
              "4        5.712000  Socks & Hosiery   \n",
              "...           ...              ...   \n",
              "242968  15.752521        Maternity   \n",
              "242969  15.752521        Maternity   \n",
              "242970  15.752521        Maternity   \n",
              "242971  15.752521        Maternity   \n",
              "242972  15.752521        Maternity   \n",
              "\n",
              "                                             product_name  \\\n",
              "0                KEEN Women Bellingham Low Ultralite Sock   \n",
              "1                KEEN Women Bellingham Low Ultralite Sock   \n",
              "2                KEEN Women Bellingham Low Ultralite Sock   \n",
              "3                KEEN Women Bellingham Low Ultralite Sock   \n",
              "4                KEEN Women Bellingham Low Ultralite Sock   \n",
              "...                                                   ...   \n",
              "242968  La Leche League International Pullover Nursing...   \n",
              "242969  La Leche League International Pullover Nursing...   \n",
              "242970  La Leche League International Pullover Nursing...   \n",
              "242971  La Leche League International Pullover Nursing...   \n",
              "242972  La Leche League International Pullover Nursing...   \n",
              "\n",
              "                                    product_brand  product_retail_price  \\\n",
              "0                                             NaN             16.000000   \n",
              "1                                             NaN             16.000000   \n",
              "2                                             NaN             16.000000   \n",
              "3                                             NaN             16.000000   \n",
              "4                                             NaN             16.000000   \n",
              "...                                           ...                   ...   \n",
              "242968  La Leche League Sports Nurising Bra White             35.720001   \n",
              "242969  La Leche League Sports Nurising Bra White             35.720001   \n",
              "242970  La Leche League Sports Nurising Bra White             35.720001   \n",
              "242971  La Leche League Sports Nurising Bra White             35.720001   \n",
              "242972  La Leche League Sports Nurising Bra White             35.720001   \n",
              "\n",
              "       product_department                       product_sku  \\\n",
              "0                   Women  C5A3C867A3DFB776552DCFC804D4937E   \n",
              "1                   Women  C5A3C867A3DFB776552DCFC804D4937E   \n",
              "2                   Women  C5A3C867A3DFB776552DCFC804D4937E   \n",
              "3                   Women  C5A3C867A3DFB776552DCFC804D4937E   \n",
              "4                   Women  C5A3C867A3DFB776552DCFC804D4937E   \n",
              "...                   ...                               ...   \n",
              "242968              Women  625D2D3101C23C47A46984741C232FED   \n",
              "242969              Women  625D2D3101C23C47A46984741C232FED   \n",
              "242970              Women  625D2D3101C23C47A46984741C232FED   \n",
              "242971              Women  625D2D3101C23C47A46984741C232FED   \n",
              "242972              Women  625D2D3101C23C47A46984741C232FED   \n",
              "\n",
              "        product_distribution_center_id  dist_center_id           name  \\\n",
              "0                                    3               3     Houston TX   \n",
              "1                                    3               3     Houston TX   \n",
              "2                                    3               3     Houston TX   \n",
              "3                                    3               3     Houston TX   \n",
              "4                                    3               3     Houston TX   \n",
              "...                                ...             ...            ...   \n",
              "242968                               9               9  Charleston SC   \n",
              "242969                               9               9  Charleston SC   \n",
              "242970                               9               9  Charleston SC   \n",
              "242971                               9               9  Charleston SC   \n",
              "242972                               9               9  Charleston SC   \n",
              "\n",
              "        latitude  longitude  \n",
              "0        29.7604   -95.3698  \n",
              "1        29.7604   -95.3698  \n",
              "2        29.7604   -95.3698  \n",
              "3        29.7604   -95.3698  \n",
              "4        29.7604   -95.3698  \n",
              "...          ...        ...  \n",
              "242968   32.7833   -79.9333  \n",
              "242969   32.7833   -79.9333  \n",
              "242970   32.7833   -79.9333  \n",
              "242971   32.7833   -79.9333  \n",
              "242972   32.7833   -79.9333  \n",
              "\n",
              "[242973 rows x 16 columns]"
            ],
            "text/html": [
              "\n",
              "  <div id=\"df-318b91b9-c388-4ff4-9e3b-3c37fa3565b2\">\n",
              "    <div class=\"colab-df-container\">\n",
              "      <div>\n",
              "<style scoped>\n",
              "    .dataframe tbody tr th:only-of-type {\n",
              "        vertical-align: middle;\n",
              "    }\n",
              "\n",
              "    .dataframe tbody tr th {\n",
              "        vertical-align: top;\n",
              "    }\n",
              "\n",
              "    .dataframe thead th {\n",
              "        text-align: right;\n",
              "    }\n",
              "</style>\n",
              "<table border=\"1\" class=\"dataframe\">\n",
              "  <thead>\n",
              "    <tr style=\"text-align: right;\">\n",
              "      <th></th>\n",
              "      <th>id</th>\n",
              "      <th>product_id</th>\n",
              "      <th>created_at</th>\n",
              "      <th>sold_at</th>\n",
              "      <th>cost</th>\n",
              "      <th>product_category</th>\n",
              "      <th>product_name</th>\n",
              "      <th>product_brand</th>\n",
              "      <th>product_retail_price</th>\n",
              "      <th>product_department</th>\n",
              "      <th>product_sku</th>\n",
              "      <th>product_distribution_center_id</th>\n",
              "      <th>dist_center_id</th>\n",
              "      <th>name</th>\n",
              "      <th>latitude</th>\n",
              "      <th>longitude</th>\n",
              "    </tr>\n",
              "  </thead>\n",
              "  <tbody>\n",
              "    <tr>\n",
              "      <th>0</th>\n",
              "      <td>179253</td>\n",
              "      <td>9482</td>\n",
              "      <td>2022-02-02 04:03:26</td>\n",
              "      <td>2022-02-07 03:30:26</td>\n",
              "      <td>5.712000</td>\n",
              "      <td>Socks &amp; Hosiery</td>\n",
              "      <td>KEEN Women Bellingham Low Ultralite Sock</td>\n",
              "      <td>NaN</td>\n",
              "      <td>16.000000</td>\n",
              "      <td>Women</td>\n",
              "      <td>C5A3C867A3DFB776552DCFC804D4937E</td>\n",
              "      <td>3</td>\n",
              "      <td>3</td>\n",
              "      <td>Houston TX</td>\n",
              "      <td>29.7604</td>\n",
              "      <td>-95.3698</td>\n",
              "    </tr>\n",
              "    <tr>\n",
              "      <th>1</th>\n",
              "      <td>179254</td>\n",
              "      <td>9482</td>\n",
              "      <td>2020-08-27 07:42:00</td>\n",
              "      <td>NaN</td>\n",
              "      <td>5.712000</td>\n",
              "      <td>Socks &amp; Hosiery</td>\n",
              "      <td>KEEN Women Bellingham Low Ultralite Sock</td>\n",
              "      <td>NaN</td>\n",
              "      <td>16.000000</td>\n",
              "      <td>Women</td>\n",
              "      <td>C5A3C867A3DFB776552DCFC804D4937E</td>\n",
              "      <td>3</td>\n",
              "      <td>3</td>\n",
              "      <td>Houston TX</td>\n",
              "      <td>29.7604</td>\n",
              "      <td>-95.3698</td>\n",
              "    </tr>\n",
              "    <tr>\n",
              "      <th>2</th>\n",
              "      <td>242620</td>\n",
              "      <td>9482</td>\n",
              "      <td>2022-03-18 17:50:30</td>\n",
              "      <td>2022-05-03 12:35:30</td>\n",
              "      <td>5.712000</td>\n",
              "      <td>Socks &amp; Hosiery</td>\n",
              "      <td>KEEN Women Bellingham Low Ultralite Sock</td>\n",
              "      <td>NaN</td>\n",
              "      <td>16.000000</td>\n",
              "      <td>Women</td>\n",
              "      <td>C5A3C867A3DFB776552DCFC804D4937E</td>\n",
              "      <td>3</td>\n",
              "      <td>3</td>\n",
              "      <td>Houston TX</td>\n",
              "      <td>29.7604</td>\n",
              "      <td>-95.3698</td>\n",
              "    </tr>\n",
              "    <tr>\n",
              "      <th>3</th>\n",
              "      <td>242621</td>\n",
              "      <td>9482</td>\n",
              "      <td>2020-08-01 14:35:00</td>\n",
              "      <td>NaN</td>\n",
              "      <td>5.712000</td>\n",
              "      <td>Socks &amp; Hosiery</td>\n",
              "      <td>KEEN Women Bellingham Low Ultralite Sock</td>\n",
              "      <td>NaN</td>\n",
              "      <td>16.000000</td>\n",
              "      <td>Women</td>\n",
              "      <td>C5A3C867A3DFB776552DCFC804D4937E</td>\n",
              "      <td>3</td>\n",
              "      <td>3</td>\n",
              "      <td>Houston TX</td>\n",
              "      <td>29.7604</td>\n",
              "      <td>-95.3698</td>\n",
              "    </tr>\n",
              "    <tr>\n",
              "      <th>4</th>\n",
              "      <td>242622</td>\n",
              "      <td>9482</td>\n",
              "      <td>2021-10-12 03:52:00</td>\n",
              "      <td>NaN</td>\n",
              "      <td>5.712000</td>\n",
              "      <td>Socks &amp; Hosiery</td>\n",
              "      <td>KEEN Women Bellingham Low Ultralite Sock</td>\n",
              "      <td>NaN</td>\n",
              "      <td>16.000000</td>\n",
              "      <td>Women</td>\n",
              "      <td>C5A3C867A3DFB776552DCFC804D4937E</td>\n",
              "      <td>3</td>\n",
              "      <td>3</td>\n",
              "      <td>Houston TX</td>\n",
              "      <td>29.7604</td>\n",
              "      <td>-95.3698</td>\n",
              "    </tr>\n",
              "    <tr>\n",
              "      <th>...</th>\n",
              "      <td>...</td>\n",
              "      <td>...</td>\n",
              "      <td>...</td>\n",
              "      <td>...</td>\n",
              "      <td>...</td>\n",
              "      <td>...</td>\n",
              "      <td>...</td>\n",
              "      <td>...</td>\n",
              "      <td>...</td>\n",
              "      <td>...</td>\n",
              "      <td>...</td>\n",
              "      <td>...</td>\n",
              "      <td>...</td>\n",
              "      <td>...</td>\n",
              "      <td>...</td>\n",
              "      <td>...</td>\n",
              "    </tr>\n",
              "    <tr>\n",
              "      <th>242968</th>\n",
              "      <td>234443</td>\n",
              "      <td>14392</td>\n",
              "      <td>2020-04-09 17:38:00</td>\n",
              "      <td>NaN</td>\n",
              "      <td>15.752521</td>\n",
              "      <td>Maternity</td>\n",
              "      <td>La Leche League International Pullover Nursing...</td>\n",
              "      <td>La Leche League Sports Nurising Bra White</td>\n",
              "      <td>35.720001</td>\n",
              "      <td>Women</td>\n",
              "      <td>625D2D3101C23C47A46984741C232FED</td>\n",
              "      <td>9</td>\n",
              "      <td>9</td>\n",
              "      <td>Charleston SC</td>\n",
              "      <td>32.7833</td>\n",
              "      <td>-79.9333</td>\n",
              "    </tr>\n",
              "    <tr>\n",
              "      <th>242969</th>\n",
              "      <td>290890</td>\n",
              "      <td>14392</td>\n",
              "      <td>2021-03-18 14:42:49</td>\n",
              "      <td>2021-05-15 04:49:49</td>\n",
              "      <td>15.752521</td>\n",
              "      <td>Maternity</td>\n",
              "      <td>La Leche League International Pullover Nursing...</td>\n",
              "      <td>La Leche League Sports Nurising Bra White</td>\n",
              "      <td>35.720001</td>\n",
              "      <td>Women</td>\n",
              "      <td>625D2D3101C23C47A46984741C232FED</td>\n",
              "      <td>9</td>\n",
              "      <td>9</td>\n",
              "      <td>Charleston SC</td>\n",
              "      <td>32.7833</td>\n",
              "      <td>-79.9333</td>\n",
              "    </tr>\n",
              "    <tr>\n",
              "      <th>242970</th>\n",
              "      <td>290891</td>\n",
              "      <td>14392</td>\n",
              "      <td>2022-04-25 03:04:00</td>\n",
              "      <td>NaN</td>\n",
              "      <td>15.752521</td>\n",
              "      <td>Maternity</td>\n",
              "      <td>La Leche League International Pullover Nursing...</td>\n",
              "      <td>La Leche League Sports Nurising Bra White</td>\n",
              "      <td>35.720001</td>\n",
              "      <td>Women</td>\n",
              "      <td>625D2D3101C23C47A46984741C232FED</td>\n",
              "      <td>9</td>\n",
              "      <td>9</td>\n",
              "      <td>Charleston SC</td>\n",
              "      <td>32.7833</td>\n",
              "      <td>-79.9333</td>\n",
              "    </tr>\n",
              "    <tr>\n",
              "      <th>242971</th>\n",
              "      <td>301361</td>\n",
              "      <td>14392</td>\n",
              "      <td>2021-05-15 11:44:11</td>\n",
              "      <td>2021-06-27 04:00:11</td>\n",
              "      <td>15.752521</td>\n",
              "      <td>Maternity</td>\n",
              "      <td>La Leche League International Pullover Nursing...</td>\n",
              "      <td>La Leche League Sports Nurising Bra White</td>\n",
              "      <td>35.720001</td>\n",
              "      <td>Women</td>\n",
              "      <td>625D2D3101C23C47A46984741C232FED</td>\n",
              "      <td>9</td>\n",
              "      <td>9</td>\n",
              "      <td>Charleston SC</td>\n",
              "      <td>32.7833</td>\n",
              "      <td>-79.9333</td>\n",
              "    </tr>\n",
              "    <tr>\n",
              "      <th>242972</th>\n",
              "      <td>301362</td>\n",
              "      <td>14392</td>\n",
              "      <td>2020-06-22 15:50:00</td>\n",
              "      <td>NaN</td>\n",
              "      <td>15.752521</td>\n",
              "      <td>Maternity</td>\n",
              "      <td>La Leche League International Pullover Nursing...</td>\n",
              "      <td>La Leche League Sports Nurising Bra White</td>\n",
              "      <td>35.720001</td>\n",
              "      <td>Women</td>\n",
              "      <td>625D2D3101C23C47A46984741C232FED</td>\n",
              "      <td>9</td>\n",
              "      <td>9</td>\n",
              "      <td>Charleston SC</td>\n",
              "      <td>32.7833</td>\n",
              "      <td>-79.9333</td>\n",
              "    </tr>\n",
              "  </tbody>\n",
              "</table>\n",
              "<p>242973 rows × 16 columns</p>\n",
              "</div>\n",
              "      <button class=\"colab-df-convert\" onclick=\"convertToInteractive('df-318b91b9-c388-4ff4-9e3b-3c37fa3565b2')\"\n",
              "              title=\"Convert this dataframe to an interactive table.\"\n",
              "              style=\"display:none;\">\n",
              "        \n",
              "  <svg xmlns=\"http://www.w3.org/2000/svg\" height=\"24px\"viewBox=\"0 0 24 24\"\n",
              "       width=\"24px\">\n",
              "    <path d=\"M0 0h24v24H0V0z\" fill=\"none\"/>\n",
              "    <path d=\"M18.56 5.44l.94 2.06.94-2.06 2.06-.94-2.06-.94-.94-2.06-.94 2.06-2.06.94zm-11 1L8.5 8.5l.94-2.06 2.06-.94-2.06-.94L8.5 2.5l-.94 2.06-2.06.94zm10 10l.94 2.06.94-2.06 2.06-.94-2.06-.94-.94-2.06-.94 2.06-2.06.94z\"/><path d=\"M17.41 7.96l-1.37-1.37c-.4-.4-.92-.59-1.43-.59-.52 0-1.04.2-1.43.59L10.3 9.45l-7.72 7.72c-.78.78-.78 2.05 0 2.83L4 21.41c.39.39.9.59 1.41.59.51 0 1.02-.2 1.41-.59l7.78-7.78 2.81-2.81c.8-.78.8-2.07 0-2.86zM5.41 20L4 18.59l7.72-7.72 1.47 1.35L5.41 20z\"/>\n",
              "  </svg>\n",
              "      </button>\n",
              "      \n",
              "  <style>\n",
              "    .colab-df-container {\n",
              "      display:flex;\n",
              "      flex-wrap:wrap;\n",
              "      gap: 12px;\n",
              "    }\n",
              "\n",
              "    .colab-df-convert {\n",
              "      background-color: #E8F0FE;\n",
              "      border: none;\n",
              "      border-radius: 50%;\n",
              "      cursor: pointer;\n",
              "      display: none;\n",
              "      fill: #1967D2;\n",
              "      height: 32px;\n",
              "      padding: 0 0 0 0;\n",
              "      width: 32px;\n",
              "    }\n",
              "\n",
              "    .colab-df-convert:hover {\n",
              "      background-color: #E2EBFA;\n",
              "      box-shadow: 0px 1px 2px rgba(60, 64, 67, 0.3), 0px 1px 3px 1px rgba(60, 64, 67, 0.15);\n",
              "      fill: #174EA6;\n",
              "    }\n",
              "\n",
              "    [theme=dark] .colab-df-convert {\n",
              "      background-color: #3B4455;\n",
              "      fill: #D2E3FC;\n",
              "    }\n",
              "\n",
              "    [theme=dark] .colab-df-convert:hover {\n",
              "      background-color: #434B5C;\n",
              "      box-shadow: 0px 1px 3px 1px rgba(0, 0, 0, 0.15);\n",
              "      filter: drop-shadow(0px 1px 2px rgba(0, 0, 0, 0.3));\n",
              "      fill: #FFFFFF;\n",
              "    }\n",
              "  </style>\n",
              "\n",
              "      <script>\n",
              "        const buttonEl =\n",
              "          document.querySelector('#df-318b91b9-c388-4ff4-9e3b-3c37fa3565b2 button.colab-df-convert');\n",
              "        buttonEl.style.display =\n",
              "          google.colab.kernel.accessAllowed ? 'block' : 'none';\n",
              "\n",
              "        async function convertToInteractive(key) {\n",
              "          const element = document.querySelector('#df-318b91b9-c388-4ff4-9e3b-3c37fa3565b2');\n",
              "          const dataTable =\n",
              "            await google.colab.kernel.invokeFunction('convertToInteractive',\n",
              "                                                     [key], {});\n",
              "          if (!dataTable) return;\n",
              "\n",
              "          const docLinkHtml = 'Like what you see? Visit the ' +\n",
              "            '<a target=\"_blank\" href=https://colab.research.google.com/notebooks/data_table.ipynb>data table notebook</a>'\n",
              "            + ' to learn more about interactive tables.';\n",
              "          element.innerHTML = '';\n",
              "          dataTable['output_type'] = 'display_data';\n",
              "          await google.colab.output.renderOutput(dataTable, element);\n",
              "          const docLink = document.createElement('div');\n",
              "          docLink.innerHTML = docLinkHtml;\n",
              "          element.appendChild(docLink);\n",
              "        }\n",
              "      </script>\n",
              "    </div>\n",
              "  </div>\n",
              "  "
            ]
          },
          "metadata": {},
          "execution_count": 6
        }
      ],
      "source": [
        "dfprodw"
      ]
    },
    {
      "cell_type": "markdown",
      "metadata": {
        "id": "r3XoE_9NS6Ta"
      },
      "source": [
        "drop kolom yang tidak mengandung informasi khusus untuk modelling"
      ]
    },
    {
      "cell_type": "code",
      "execution_count": null,
      "metadata": {
        "id": "48iR8lQW-lqI"
      },
      "outputs": [],
      "source": [
        "del dfprodw['id']\n",
        "del dfprodw['product_id']\n",
        "del dfprodw['sold_at']\n",
        "del dfprodw['created_at']\n",
        "del dfprodw['product_brand']\n",
        "del dfprodw['product_name']\n",
        "del dfprodw['product_distribution_center_id']\n",
        "del dfprodw['product_sku']\n",
        "del dfprodw['dist_center_id']\n",
        "del dfprodw['latitude']\n",
        "del dfprodw['longitude']"
      ]
    },
    {
      "cell_type": "markdown",
      "metadata": {
        "id": "4SmS68TDHEDk"
      },
      "source": [
        "#**DATA INFO**"
      ]
    },
    {
      "cell_type": "code",
      "execution_count": null,
      "metadata": {
        "colab": {
          "base_uri": "https://localhost:8080/"
        },
        "id": "jo6jI6Ly9Fn-",
        "outputId": "c1b16f87-ef09-46d1-da17-21cb30b70291"
      },
      "outputs": [
        {
          "output_type": "stream",
          "name": "stdout",
          "text": [
            "<class 'pandas.core.frame.DataFrame'>\n",
            "RangeIndex: 244421 entries, 0 to 244420\n",
            "Data columns (total 5 columns):\n",
            " #   Column                Non-Null Count   Dtype  \n",
            "---  ------                --------------   -----  \n",
            " 0   cost                  244421 non-null  float64\n",
            " 1   product_category      244421 non-null  object \n",
            " 2   product_retail_price  244421 non-null  float64\n",
            " 3   product_department    244421 non-null  object \n",
            " 4   name                  244421 non-null  object \n",
            "dtypes: float64(2), object(3)\n",
            "memory usage: 9.3+ MB\n"
          ]
        }
      ],
      "source": [
        "dfprodm.info()"
      ]
    },
    {
      "cell_type": "markdown",
      "metadata": {
        "id": "IE6tuENgInbE"
      },
      "source": [
        "Total data: 244420 baris"
      ]
    },
    {
      "cell_type": "code",
      "execution_count": null,
      "metadata": {
        "colab": {
          "base_uri": "https://localhost:8080/"
        },
        "id": "kAt8G5gve0Qn",
        "outputId": "09b53d1b-fb5b-4bd7-e073-00b849cb2ca0"
      },
      "outputs": [
        {
          "output_type": "stream",
          "name": "stdout",
          "text": [
            "<class 'pandas.core.frame.DataFrame'>\n",
            "RangeIndex: 242973 entries, 0 to 242972\n",
            "Data columns (total 5 columns):\n",
            " #   Column                Non-Null Count   Dtype  \n",
            "---  ------                --------------   -----  \n",
            " 0   cost                  242973 non-null  float64\n",
            " 1   product_category      242973 non-null  object \n",
            " 2   product_retail_price  242973 non-null  float64\n",
            " 3   product_department    242973 non-null  object \n",
            " 4   name                  242973 non-null  object \n",
            "dtypes: float64(2), object(3)\n",
            "memory usage: 9.3+ MB\n"
          ]
        }
      ],
      "source": [
        "dfprodw.info()"
      ]
    },
    {
      "cell_type": "markdown",
      "metadata": {
        "id": "l2NtUpP2fsCR"
      },
      "source": [
        "Total data: 242972 baris"
      ]
    },
    {
      "cell_type": "markdown",
      "metadata": {
        "id": "Yj4uoKsFHZD0"
      },
      "source": [
        "#**HANDLING MISSING VALUE**"
      ]
    },
    {
      "cell_type": "markdown",
      "metadata": {
        "id": "lg1gFHpuTLUo"
      },
      "source": [
        "##**MEN**"
      ]
    },
    {
      "cell_type": "code",
      "execution_count": null,
      "metadata": {
        "colab": {
          "base_uri": "https://localhost:8080/"
        },
        "id": "_7ENr6LxD76e",
        "outputId": "8623d6ed-6c5b-4fbc-b608-b3682b54d65b"
      },
      "outputs": [
        {
          "output_type": "execute_result",
          "data": {
            "text/plain": [
              "cost                    0\n",
              "product_category        0\n",
              "product_retail_price    0\n",
              "product_department      0\n",
              "name                    0\n",
              "dtype: int64"
            ]
          },
          "metadata": {},
          "execution_count": 10
        }
      ],
      "source": [
        "dfprodm.isna().sum()"
      ]
    },
    {
      "cell_type": "markdown",
      "metadata": {
        "id": "1x_e1XSeI0qF"
      },
      "source": [
        "Tidak terdapat missing value pada tabel dfprodm"
      ]
    },
    {
      "cell_type": "markdown",
      "metadata": {
        "id": "vdNhwDXkTPWz"
      },
      "source": [
        "##**WOMEN**"
      ]
    },
    {
      "cell_type": "code",
      "execution_count": null,
      "metadata": {
        "colab": {
          "base_uri": "https://localhost:8080/"
        },
        "id": "K3hNiM18_dDq",
        "outputId": "34878560-6727-4bb2-ab38-9658174c10fb"
      },
      "outputs": [
        {
          "output_type": "execute_result",
          "data": {
            "text/plain": [
              "cost                    0\n",
              "product_category        0\n",
              "product_retail_price    0\n",
              "product_department      0\n",
              "name                    0\n",
              "dtype: int64"
            ]
          },
          "metadata": {},
          "execution_count": 11
        }
      ],
      "source": [
        "dfprodw.isna().sum()"
      ]
    },
    {
      "cell_type": "markdown",
      "metadata": {
        "id": "1gO8MAuMTIbS"
      },
      "source": [
        "Tidak terdapat missing value pada tabel dfprodw"
      ]
    },
    {
      "cell_type": "markdown",
      "metadata": {
        "id": "wKRGV2Q4I_jr"
      },
      "source": [
        "#**HANDLING OUTLIER**"
      ]
    },
    {
      "cell_type": "markdown",
      "metadata": {
        "id": "odlp88aS_kQ1"
      },
      "source": [
        "##**MEN**"
      ]
    },
    {
      "cell_type": "markdown",
      "metadata": {
        "id": "W86TG0YOJDzj"
      },
      "source": [
        "Pemisahan data numerical (int dan float) dan categorical (object)"
      ]
    },
    {
      "cell_type": "code",
      "execution_count": null,
      "metadata": {
        "colab": {
          "base_uri": "https://localhost:8080/"
        },
        "id": "D4Y3CiYFOZtS",
        "outputId": "9a8aa0bb-4d8b-4310-abe1-b9afa7fc92d6"
      },
      "outputs": [
        {
          "output_type": "stream",
          "name": "stdout",
          "text": [
            "['cost', 'product_retail_price']\n",
            "['product_category', 'product_department', 'name']\n"
          ]
        }
      ],
      "source": [
        "num_m=dfprodm.select_dtypes(include='number').columns.tolist()\n",
        "cat_m=dfprodm.select_dtypes(include='object').columns.tolist()\n",
        "print(num_m)\n",
        "print(cat_m)"
      ]
    },
    {
      "cell_type": "markdown",
      "metadata": {
        "id": "FNDzgSb8JKZ3"
      },
      "source": [
        "Box Plot guna melihat outlier pada data numerical"
      ]
    },
    {
      "cell_type": "code",
      "execution_count": null,
      "metadata": {
        "colab": {
          "base_uri": "https://localhost:8080/"
        },
        "id": "Hjh_zcAWlNMA",
        "outputId": "b5da27a9-fa8e-4c79-a02a-14f97e4dcbda"
      },
      "outputs": [
        {
          "output_type": "display_data",
          "data": {
            "text/plain": [
              "<Figure size 1800x648 with 1 Axes>"
            ],
            "image/png": "[encoded data removed]"
          },
          "metadata": {
            "needs_background": "light"
          }
        }
      ],
      "source": [
        "dfprodm[num_m].plot(kind='box',figsize=(25,9))\n",
        "plt.grid(False)\n",
        "plt.show()"
      ]
    },
    {
      "cell_type": "markdown",
      "metadata": {
        "id": "nI6cC9WZJPHI"
      },
      "source": [
        "Terdapat outlier pada kolom cost dan product_retail_price"
      ]
    },
    {
      "cell_type": "markdown",
      "metadata": {
        "id": "5CfcaUV_JkDU"
      },
      "source": [
        "Statistik Deskriptif data numerical sebelum handling outlier"
      ]
    },
    {
      "cell_type": "code",
      "execution_count": null,
      "metadata": {
        "colab": {
          "base_uri": "https://localhost:8080/"
        },
        "id": "wwfrQzDlPemt",
        "outputId": "1e84b53e-6230-41a1-b990-a75bad7d4d6e"
      },
      "outputs": [
        {
          "output_type": "execute_result",
          "data": {
            "text/plain": [
              "                         count       mean        std    min       25%  \\\n",
              "cost                  244421.0  30.615779  32.327968  0.606  12.53582   \n",
              "product_retail_price  244421.0  63.559768  69.703563  1.500  25.00000   \n",
              "\n",
              "                            50%        75%         max  \n",
              "cost                  21.886879  36.070500  557.151002  \n",
              "product_retail_price  44.500000  71.800003  999.000000  "
            ],
            "text/html": [
              "\n",
              "  <div id=\"df-68ddf0f4-3da9-445a-b8ed-3704e64767f5\">\n",
              "    <div class=\"colab-df-container\">\n",
              "      <div>\n",
              "<style scoped>\n",
              "    .dataframe tbody tr th:only-of-type {\n",
              "        vertical-align: middle;\n",
              "    }\n",
              "\n",
              "    .dataframe tbody tr th {\n",
              "        vertical-align: top;\n",
              "    }\n",
              "\n",
              "    .dataframe thead th {\n",
              "        text-align: right;\n",
              "    }\n",
              "</style>\n",
              "<table border=\"1\" class=\"dataframe\">\n",
              "  <thead>\n",
              "    <tr style=\"text-align: right;\">\n",
              "      <th></th>\n",
              "      <th>count</th>\n",
              "      <th>mean</th>\n",
              "      <th>std</th>\n",
              "      <th>min</th>\n",
              "      <th>25%</th>\n",
              "      <th>50%</th>\n",
              "      <th>75%</th>\n",
              "      <th>max</th>\n",
              "    </tr>\n",
              "  </thead>\n",
              "  <tbody>\n",
              "    <tr>\n",
              "      <th>cost</th>\n",
              "      <td>244421.0</td>\n",
              "      <td>30.615779</td>\n",
              "      <td>32.327968</td>\n",
              "      <td>0.606</td>\n",
              "      <td>12.53582</td>\n",
              "      <td>21.886879</td>\n",
              "      <td>36.070500</td>\n",
              "      <td>557.151002</td>\n",
              "    </tr>\n",
              "    <tr>\n",
              "      <th>product_retail_price</th>\n",
              "      <td>244421.0</td>\n",
              "      <td>63.559768</td>\n",
              "      <td>69.703563</td>\n",
              "      <td>1.500</td>\n",
              "      <td>25.00000</td>\n",
              "      <td>44.500000</td>\n",
              "      <td>71.800003</td>\n",
              "      <td>999.000000</td>\n",
              "    </tr>\n",
              "  </tbody>\n",
              "</table>\n",
              "</div>\n",
              "      <button class=\"colab-df-convert\" onclick=\"convertToInteractive('df-68ddf0f4-3da9-445a-b8ed-3704e64767f5')\"\n",
              "              title=\"Convert this dataframe to an interactive table.\"\n",
              "              style=\"display:none;\">\n",
              "        \n",
              "  <svg xmlns=\"http://www.w3.org/2000/svg\" height=\"24px\"viewBox=\"0 0 24 24\"\n",
              "       width=\"24px\">\n",
              "    <path d=\"M0 0h24v24H0V0z\" fill=\"none\"/>\n",
              "    <path d=\"M18.56 5.44l.94 2.06.94-2.06 2.06-.94-2.06-.94-.94-2.06-.94 2.06-2.06.94zm-11 1L8.5 8.5l.94-2.06 2.06-.94-2.06-.94L8.5 2.5l-.94 2.06-2.06.94zm10 10l.94 2.06.94-2.06 2.06-.94-2.06-.94-.94-2.06-.94 2.06-2.06.94z\"/><path d=\"M17.41 7.96l-1.37-1.37c-.4-.4-.92-.59-1.43-.59-.52 0-1.04.2-1.43.59L10.3 9.45l-7.72 7.72c-.78.78-.78 2.05 0 2.83L4 21.41c.39.39.9.59 1.41.59.51 0 1.02-.2 1.41-.59l7.78-7.78 2.81-2.81c.8-.78.8-2.07 0-2.86zM5.41 20L4 18.59l7.72-7.72 1.47 1.35L5.41 20z\"/>\n",
              "  </svg>\n",
              "      </button>\n",
              "      \n",
              "  <style>\n",
              "    .colab-df-container {\n",
              "      display:flex;\n",
              "      flex-wrap:wrap;\n",
              "      gap: 12px;\n",
              "    }\n",
              "\n",
              "    .colab-df-convert {\n",
              "      background-color: #E8F0FE;\n",
              "      border: none;\n",
              "      border-radius: 50%;\n",
              "      cursor: pointer;\n",
              "      display: none;\n",
              "      fill: #1967D2;\n",
              "      height: 32px;\n",
              "      padding: 0 0 0 0;\n",
              "      width: 32px;\n",
              "    }\n",
              "\n",
              "    .colab-df-convert:hover {\n",
              "      background-color: #E2EBFA;\n",
              "      box-shadow: 0px 1px 2px rgba(60, 64, 67, 0.3), 0px 1px 3px 1px rgba(60, 64, 67, 0.15);\n",
              "      fill: #174EA6;\n",
              "    }\n",
              "\n",
              "    [theme=dark] .colab-df-convert {\n",
              "      background-color: #3B4455;\n",
              "      fill: #D2E3FC;\n",
              "    }\n",
              "\n",
              "    [theme=dark] .colab-df-convert:hover {\n",
              "      background-color: #434B5C;\n",
              "      box-shadow: 0px 1px 3px 1px rgba(0, 0, 0, 0.15);\n",
              "      filter: drop-shadow(0px 1px 2px rgba(0, 0, 0, 0.3));\n",
              "      fill: #FFFFFF;\n",
              "    }\n",
              "  </style>\n",
              "\n",
              "      <script>\n",
              "        const buttonEl =\n",
              "          document.querySelector('#df-68ddf0f4-3da9-445a-b8ed-3704e64767f5 button.colab-df-convert');\n",
              "        buttonEl.style.display =\n",
              "          google.colab.kernel.accessAllowed ? 'block' : 'none';\n",
              "\n",
              "        async function convertToInteractive(key) {\n",
              "          const element = document.querySelector('#df-68ddf0f4-3da9-445a-b8ed-3704e64767f5');\n",
              "          const dataTable =\n",
              "            await google.colab.kernel.invokeFunction('convertToInteractive',\n",
              "                                                     [key], {});\n",
              "          if (!dataTable) return;\n",
              "\n",
              "          const docLinkHtml = 'Like what you see? Visit the ' +\n",
              "            '<a target=\"_blank\" href=https://colab.research.google.com/notebooks/data_table.ipynb>data table notebook</a>'\n",
              "            + ' to learn more about interactive tables.';\n",
              "          element.innerHTML = '';\n",
              "          dataTable['output_type'] = 'display_data';\n",
              "          await google.colab.output.renderOutput(dataTable, element);\n",
              "          const docLink = document.createElement('div');\n",
              "          docLink.innerHTML = docLinkHtml;\n",
              "          element.appendChild(docLink);\n",
              "        }\n",
              "      </script>\n",
              "    </div>\n",
              "  </div>\n",
              "  "
            ]
          },
          "metadata": {},
          "execution_count": 14
        }
      ],
      "source": [
        "dfprodm[num_m].describe().T"
      ]
    },
    {
      "cell_type": "markdown",
      "metadata": {
        "id": "h_nDO58eJtyb"
      },
      "source": [
        "Handling outlier menggunakan metode IQR"
      ]
    },
    {
      "cell_type": "code",
      "execution_count": null,
      "metadata": {
        "colab": {
          "base_uri": "https://localhost:8080/"
        },
        "id": "la6GMhQZl8vB",
        "outputId": "084da08e-00f9-4785-a63f-9c7f3d592daf"
      },
      "outputs": [
        {
          "output_type": "stream",
          "name": "stderr",
          "text": [
            "/usr/local/lib/python3.7/dist-packages/ipykernel_launcher.py:6: FutureWarning: Automatic reindexing on DataFrame vs Series comparisons is deprecated and will raise ValueError in a future version.  Do `left, right = left.align(right, axis=1, copy=False)` before e.g. `left == right`\n",
            "  \n",
            "/usr/local/lib/python3.7/dist-packages/ipykernel_launcher.py:7: FutureWarning: Automatic reindexing on DataFrame vs Series comparisons is deprecated and will raise ValueError in a future version.  Do `left, right = left.align(right, axis=1, copy=False)` before e.g. `left == right`\n",
            "  import sys\n"
          ]
        },
        {
          "output_type": "display_data",
          "data": {
            "text/plain": [
              "<Figure size 1800x648 with 1 Axes>"
            ],
            "image/png": "[encoded data removed]"
          },
          "metadata": {
            "needs_background": "light"
          }
        }
      ],
      "source": [
        "q1=dfprodm[['cost','product_retail_price']].quantile(0.25)\n",
        "q3=dfprodm[['cost','product_retail_price']].quantile(0.75)\n",
        "IQR=q3-q1\n",
        "max=q3+1.5*IQR\n",
        "min=q1-1.5*IQR\n",
        "dfprodm=dfprodm.mask(dfprodm>max,max,axis=1)\n",
        "dfprodm=dfprodm.mask(dfprodm<min,min,axis=1)\n",
        "dfprodm[num_m].plot(kind='box',figsize=(25,9))\n",
        "plt.grid(False)\n",
        "plt.show()"
      ]
    },
    {
      "cell_type": "markdown",
      "metadata": {
        "id": "ZeV2tgtPJxbP"
      },
      "source": [
        "Sudah tidak terdapat outlier pada data"
      ]
    },
    {
      "cell_type": "markdown",
      "metadata": {
        "id": "jRiTW4amJ0WP"
      },
      "source": [
        "Statistik Deskriptif data numerical setelah handling outlier"
      ]
    },
    {
      "cell_type": "code",
      "execution_count": null,
      "metadata": {
        "colab": {
          "base_uri": "https://localhost:8080/"
        },
        "id": "S1ujvg0FnYGk",
        "outputId": "4b8cd3b7-e512-4305-bd27-675b3e12903c"
      },
      "outputs": [
        {
          "output_type": "execute_result",
          "data": {
            "text/plain": [
              "                         count       mean        std    min       25%  \\\n",
              "cost                  244421.0  27.395622  19.278637  0.606  12.53582   \n",
              "product_retail_price  244421.0  55.737394  39.144100  1.500  25.00000   \n",
              "\n",
              "                            50%        75%         max  \n",
              "cost                  21.886879  36.070500   71.372520  \n",
              "product_retail_price  44.500000  71.800003  142.000008  "
            ],
            "text/html": [
              "\n",
              "  <div id=\"df-9636fd18-1d1f-4d9b-bb03-37c8ab6ae0e6\">\n",
              "    <div class=\"colab-df-container\">\n",
              "      <div>\n",
              "<style scoped>\n",
              "    .dataframe tbody tr th:only-of-type {\n",
              "        vertical-align: middle;\n",
              "    }\n",
              "\n",
              "    .dataframe tbody tr th {\n",
              "        vertical-align: top;\n",
              "    }\n",
              "\n",
              "    .dataframe thead th {\n",
              "        text-align: right;\n",
              "    }\n",
              "</style>\n",
              "<table border=\"1\" class=\"dataframe\">\n",
              "  <thead>\n",
              "    <tr style=\"text-align: right;\">\n",
              "      <th></th>\n",
              "      <th>count</th>\n",
              "      <th>mean</th>\n",
              "      <th>std</th>\n",
              "      <th>min</th>\n",
              "      <th>25%</th>\n",
              "      <th>50%</th>\n",
              "      <th>75%</th>\n",
              "      <th>max</th>\n",
              "    </tr>\n",
              "  </thead>\n",
              "  <tbody>\n",
              "    <tr>\n",
              "      <th>cost</th>\n",
              "      <td>244421.0</td>\n",
              "      <td>27.395622</td>\n",
              "      <td>19.278637</td>\n",
              "      <td>0.606</td>\n",
              "      <td>12.53582</td>\n",
              "      <td>21.886879</td>\n",
              "      <td>36.070500</td>\n",
              "      <td>71.372520</td>\n",
              "    </tr>\n",
              "    <tr>\n",
              "      <th>product_retail_price</th>\n",
              "      <td>244421.0</td>\n",
              "      <td>55.737394</td>\n",
              "      <td>39.144100</td>\n",
              "      <td>1.500</td>\n",
              "      <td>25.00000</td>\n",
              "      <td>44.500000</td>\n",
              "      <td>71.800003</td>\n",
              "      <td>142.000008</td>\n",
              "    </tr>\n",
              "  </tbody>\n",
              "</table>\n",
              "</div>\n",
              "      <button class=\"colab-df-convert\" onclick=\"convertToInteractive('df-9636fd18-1d1f-4d9b-bb03-37c8ab6ae0e6')\"\n",
              "              title=\"Convert this dataframe to an interactive table.\"\n",
              "              style=\"display:none;\">\n",
              "        \n",
              "  <svg xmlns=\"http://www.w3.org/2000/svg\" height=\"24px\"viewBox=\"0 0 24 24\"\n",
              "       width=\"24px\">\n",
              "    <path d=\"M0 0h24v24H0V0z\" fill=\"none\"/>\n",
              "    <path d=\"M18.56 5.44l.94 2.06.94-2.06 2.06-.94-2.06-.94-.94-2.06-.94 2.06-2.06.94zm-11 1L8.5 8.5l.94-2.06 2.06-.94-2.06-.94L8.5 2.5l-.94 2.06-2.06.94zm10 10l.94 2.06.94-2.06 2.06-.94-2.06-.94-.94-2.06-.94 2.06-2.06.94z\"/><path d=\"M17.41 7.96l-1.37-1.37c-.4-.4-.92-.59-1.43-.59-.52 0-1.04.2-1.43.59L10.3 9.45l-7.72 7.72c-.78.78-.78 2.05 0 2.83L4 21.41c.39.39.9.59 1.41.59.51 0 1.02-.2 1.41-.59l7.78-7.78 2.81-2.81c.8-.78.8-2.07 0-2.86zM5.41 20L4 18.59l7.72-7.72 1.47 1.35L5.41 20z\"/>\n",
              "  </svg>\n",
              "      </button>\n",
              "      \n",
              "  <style>\n",
              "    .colab-df-container {\n",
              "      display:flex;\n",
              "      flex-wrap:wrap;\n",
              "      gap: 12px;\n",
              "    }\n",
              "\n",
              "    .colab-df-convert {\n",
              "      background-color: #E8F0FE;\n",
              "      border: none;\n",
              "      border-radius: 50%;\n",
              "      cursor: pointer;\n",
              "      display: none;\n",
              "      fill: #1967D2;\n",
              "      height: 32px;\n",
              "      padding: 0 0 0 0;\n",
              "      width: 32px;\n",
              "    }\n",
              "\n",
              "    .colab-df-convert:hover {\n",
              "      background-color: #E2EBFA;\n",
              "      box-shadow: 0px 1px 2px rgba(60, 64, 67, 0.3), 0px 1px 3px 1px rgba(60, 64, 67, 0.15);\n",
              "      fill: #174EA6;\n",
              "    }\n",
              "\n",
              "    [theme=dark] .colab-df-convert {\n",
              "      background-color: #3B4455;\n",
              "      fill: #D2E3FC;\n",
              "    }\n",
              "\n",
              "    [theme=dark] .colab-df-convert:hover {\n",
              "      background-color: #434B5C;\n",
              "      box-shadow: 0px 1px 3px 1px rgba(0, 0, 0, 0.15);\n",
              "      filter: drop-shadow(0px 1px 2px rgba(0, 0, 0, 0.3));\n",
              "      fill: #FFFFFF;\n",
              "    }\n",
              "  </style>\n",
              "\n",
              "      <script>\n",
              "        const buttonEl =\n",
              "          document.querySelector('#df-9636fd18-1d1f-4d9b-bb03-37c8ab6ae0e6 button.colab-df-convert');\n",
              "        buttonEl.style.display =\n",
              "          google.colab.kernel.accessAllowed ? 'block' : 'none';\n",
              "\n",
              "        async function convertToInteractive(key) {\n",
              "          const element = document.querySelector('#df-9636fd18-1d1f-4d9b-bb03-37c8ab6ae0e6');\n",
              "          const dataTable =\n",
              "            await google.colab.kernel.invokeFunction('convertToInteractive',\n",
              "                                                     [key], {});\n",
              "          if (!dataTable) return;\n",
              "\n",
              "          const docLinkHtml = 'Like what you see? Visit the ' +\n",
              "            '<a target=\"_blank\" href=https://colab.research.google.com/notebooks/data_table.ipynb>data table notebook</a>'\n",
              "            + ' to learn more about interactive tables.';\n",
              "          element.innerHTML = '';\n",
              "          dataTable['output_type'] = 'display_data';\n",
              "          await google.colab.output.renderOutput(dataTable, element);\n",
              "          const docLink = document.createElement('div');\n",
              "          docLink.innerHTML = docLinkHtml;\n",
              "          element.appendChild(docLink);\n",
              "        }\n",
              "      </script>\n",
              "    </div>\n",
              "  </div>\n",
              "  "
            ]
          },
          "metadata": {},
          "execution_count": 16
        }
      ],
      "source": [
        "dfprodm[num_m].describe().T"
      ]
    },
    {
      "cell_type": "markdown",
      "metadata": {
        "id": "GesLzTdJJ7n4"
      },
      "source": [
        "Statistik Deskriptif data categorical"
      ]
    },
    {
      "cell_type": "code",
      "execution_count": null,
      "metadata": {
        "colab": {
          "base_uri": "https://localhost:8080/"
        },
        "id": "0fOVSuX_QdKq",
        "outputId": "b7587374-bef1-4128-a24f-845d173e9043"
      },
      "outputs": [
        {
          "output_type": "execute_result",
          "data": {
            "text/plain": [
              "                     count unique         top    freq\n",
              "product_category    244421     14       Jeans   20916\n",
              "product_department  244421      1         Men  244421\n",
              "name                244421     10  Memphis TN   32475"
            ],
            "text/html": [
              "\n",
              "  <div id=\"df-8bd130b3-e785-478d-a78b-57853e5634d2\">\n",
              "    <div class=\"colab-df-container\">\n",
              "      <div>\n",
              "<style scoped>\n",
              "    .dataframe tbody tr th:only-of-type {\n",
              "        vertical-align: middle;\n",
              "    }\n",
              "\n",
              "    .dataframe tbody tr th {\n",
              "        vertical-align: top;\n",
              "    }\n",
              "\n",
              "    .dataframe thead th {\n",
              "        text-align: right;\n",
              "    }\n",
              "</style>\n",
              "<table border=\"1\" class=\"dataframe\">\n",
              "  <thead>\n",
              "    <tr style=\"text-align: right;\">\n",
              "      <th></th>\n",
              "      <th>count</th>\n",
              "      <th>unique</th>\n",
              "      <th>top</th>\n",
              "      <th>freq</th>\n",
              "    </tr>\n",
              "  </thead>\n",
              "  <tbody>\n",
              "    <tr>\n",
              "      <th>product_category</th>\n",
              "      <td>244421</td>\n",
              "      <td>14</td>\n",
              "      <td>Jeans</td>\n",
              "      <td>20916</td>\n",
              "    </tr>\n",
              "    <tr>\n",
              "      <th>product_department</th>\n",
              "      <td>244421</td>\n",
              "      <td>1</td>\n",
              "      <td>Men</td>\n",
              "      <td>244421</td>\n",
              "    </tr>\n",
              "    <tr>\n",
              "      <th>name</th>\n",
              "      <td>244421</td>\n",
              "      <td>10</td>\n",
              "      <td>Memphis TN</td>\n",
              "      <td>32475</td>\n",
              "    </tr>\n",
              "  </tbody>\n",
              "</table>\n",
              "</div>\n",
              "      <button class=\"colab-df-convert\" onclick=\"convertToInteractive('df-8bd130b3-e785-478d-a78b-57853e5634d2')\"\n",
              "              title=\"Convert this dataframe to an interactive table.\"\n",
              "              style=\"display:none;\">\n",
              "        \n",
              "  <svg xmlns=\"http://www.w3.org/2000/svg\" height=\"24px\"viewBox=\"0 0 24 24\"\n",
              "       width=\"24px\">\n",
              "    <path d=\"M0 0h24v24H0V0z\" fill=\"none\"/>\n",
              "    <path d=\"M18.56 5.44l.94 2.06.94-2.06 2.06-.94-2.06-.94-.94-2.06-.94 2.06-2.06.94zm-11 1L8.5 8.5l.94-2.06 2.06-.94-2.06-.94L8.5 2.5l-.94 2.06-2.06.94zm10 10l.94 2.06.94-2.06 2.06-.94-2.06-.94-.94-2.06-.94 2.06-2.06.94z\"/><path d=\"M17.41 7.96l-1.37-1.37c-.4-.4-.92-.59-1.43-.59-.52 0-1.04.2-1.43.59L10.3 9.45l-7.72 7.72c-.78.78-.78 2.05 0 2.83L4 21.41c.39.39.9.59 1.41.59.51 0 1.02-.2 1.41-.59l7.78-7.78 2.81-2.81c.8-.78.8-2.07 0-2.86zM5.41 20L4 18.59l7.72-7.72 1.47 1.35L5.41 20z\"/>\n",
              "  </svg>\n",
              "      </button>\n",
              "      \n",
              "  <style>\n",
              "    .colab-df-container {\n",
              "      display:flex;\n",
              "      flex-wrap:wrap;\n",
              "      gap: 12px;\n",
              "    }\n",
              "\n",
              "    .colab-df-convert {\n",
              "      background-color: #E8F0FE;\n",
              "      border: none;\n",
              "      border-radius: 50%;\n",
              "      cursor: pointer;\n",
              "      display: none;\n",
              "      fill: #1967D2;\n",
              "      height: 32px;\n",
              "      padding: 0 0 0 0;\n",
              "      width: 32px;\n",
              "    }\n",
              "\n",
              "    .colab-df-convert:hover {\n",
              "      background-color: #E2EBFA;\n",
              "      box-shadow: 0px 1px 2px rgba(60, 64, 67, 0.3), 0px 1px 3px 1px rgba(60, 64, 67, 0.15);\n",
              "      fill: #174EA6;\n",
              "    }\n",
              "\n",
              "    [theme=dark] .colab-df-convert {\n",
              "      background-color: #3B4455;\n",
              "      fill: #D2E3FC;\n",
              "    }\n",
              "\n",
              "    [theme=dark] .colab-df-convert:hover {\n",
              "      background-color: #434B5C;\n",
              "      box-shadow: 0px 1px 3px 1px rgba(0, 0, 0, 0.15);\n",
              "      filter: drop-shadow(0px 1px 2px rgba(0, 0, 0, 0.3));\n",
              "      fill: #FFFFFF;\n",
              "    }\n",
              "  </style>\n",
              "\n",
              "      <script>\n",
              "        const buttonEl =\n",
              "          document.querySelector('#df-8bd130b3-e785-478d-a78b-57853e5634d2 button.colab-df-convert');\n",
              "        buttonEl.style.display =\n",
              "          google.colab.kernel.accessAllowed ? 'block' : 'none';\n",
              "\n",
              "        async function convertToInteractive(key) {\n",
              "          const element = document.querySelector('#df-8bd130b3-e785-478d-a78b-57853e5634d2');\n",
              "          const dataTable =\n",
              "            await google.colab.kernel.invokeFunction('convertToInteractive',\n",
              "                                                     [key], {});\n",
              "          if (!dataTable) return;\n",
              "\n",
              "          const docLinkHtml = 'Like what you see? Visit the ' +\n",
              "            '<a target=\"_blank\" href=https://colab.research.google.com/notebooks/data_table.ipynb>data table notebook</a>'\n",
              "            + ' to learn more about interactive tables.';\n",
              "          element.innerHTML = '';\n",
              "          dataTable['output_type'] = 'display_data';\n",
              "          await google.colab.output.renderOutput(dataTable, element);\n",
              "          const docLink = document.createElement('div');\n",
              "          docLink.innerHTML = docLinkHtml;\n",
              "          element.appendChild(docLink);\n",
              "        }\n",
              "      </script>\n",
              "    </div>\n",
              "  </div>\n",
              "  "
            ]
          },
          "metadata": {},
          "execution_count": 17
        }
      ],
      "source": [
        "dfprodm[cat_m].describe().T"
      ]
    },
    {
      "cell_type": "markdown",
      "metadata": {
        "id": "2ef-bBh4Afyl"
      },
      "source": [
        "##**WOMEN**"
      ]
    },
    {
      "cell_type": "markdown",
      "metadata": {
        "id": "rSqUjoY9Td_B"
      },
      "source": [
        "Pemisahan data numerical dan categorical"
      ]
    },
    {
      "cell_type": "code",
      "execution_count": null,
      "metadata": {
        "colab": {
          "base_uri": "https://localhost:8080/"
        },
        "id": "ERE2fik9Aijy",
        "outputId": "b75e78f8-d9e9-4295-cdf2-56b0e45b4d48"
      },
      "outputs": [
        {
          "output_type": "stream",
          "name": "stdout",
          "text": [
            "['cost', 'product_retail_price']\n",
            "['product_category', 'product_department', 'name']\n"
          ]
        }
      ],
      "source": [
        "num_w=dfprodw.select_dtypes(include='number').columns.tolist()\n",
        "cat_w=dfprodw.select_dtypes(include='object').columns.tolist()\n",
        "print(num_w)\n",
        "print(cat_w)"
      ]
    },
    {
      "cell_type": "markdown",
      "metadata": {
        "id": "dbxS8luiThSU"
      },
      "source": [
        "Pembuatan boxplot guna melihat outlier"
      ]
    },
    {
      "cell_type": "code",
      "execution_count": null,
      "metadata": {
        "colab": {
          "base_uri": "https://localhost:8080/"
        },
        "id": "vtIs34gpAojr",
        "outputId": "5607d5be-f6ac-4bfd-e658-007f3df2dbed"
      },
      "outputs": [
        {
          "output_type": "display_data",
          "data": {
            "text/plain": [
              "<Figure size 1800x648 with 1 Axes>"
            ],
            "image/png": "[encoded data removed]"
          },
          "metadata": {
            "needs_background": "light"
          }
        }
      ],
      "source": [
        "dfprodw[num_w].plot(kind='box',figsize=(25,9))\n",
        "plt.grid(False)\n",
        "plt.show()"
      ]
    },
    {
      "cell_type": "markdown",
      "metadata": {
        "id": "cNylApYHTkmw"
      },
      "source": [
        "Terdapat outlier pada cost dan product_retail_price"
      ]
    },
    {
      "cell_type": "markdown",
      "metadata": {
        "id": "UPOJJCiBToIl"
      },
      "source": [
        "Statistik deskriptif sebelum handling outlier"
      ]
    },
    {
      "cell_type": "code",
      "execution_count": null,
      "metadata": {
        "colab": {
          "base_uri": "https://localhost:8080/"
        },
        "id": "LK7H4eMJBNu1",
        "outputId": "94537583-a07d-4d98-943c-070e96110536"
      },
      "outputs": [
        {
          "output_type": "execute_result",
          "data": {
            "text/plain": [
              "                         count       mean        std     min       25%  \\\n",
              "cost                  242973.0  26.865828  28.697105  0.0083  10.13727   \n",
              "product_retail_price  242973.0  55.963333  61.543285  0.0200  20.99000   \n",
              "\n",
              "                            50%     75%      max  \n",
              "cost                  18.299451  33.075  512.001  \n",
              "product_retail_price  37.599998  69.000  903.000  "
            ],
            "text/html": [
              "\n",
              "  <div id=\"df-72c87a25-795b-4ed3-94c0-9c596d27be83\">\n",
              "    <div class=\"colab-df-container\">\n",
              "      <div>\n",
              "<style scoped>\n",
              "    .dataframe tbody tr th:only-of-type {\n",
              "        vertical-align: middle;\n",
              "    }\n",
              "\n",
              "    .dataframe tbody tr th {\n",
              "        vertical-align: top;\n",
              "    }\n",
              "\n",
              "    .dataframe thead th {\n",
              "        text-align: right;\n",
              "    }\n",
              "</style>\n",
              "<table border=\"1\" class=\"dataframe\">\n",
              "  <thead>\n",
              "    <tr style=\"text-align: right;\">\n",
              "      <th></th>\n",
              "      <th>count</th>\n",
              "      <th>mean</th>\n",
              "      <th>std</th>\n",
              "      <th>min</th>\n",
              "      <th>25%</th>\n",
              "      <th>50%</th>\n",
              "      <th>75%</th>\n",
              "      <th>max</th>\n",
              "    </tr>\n",
              "  </thead>\n",
              "  <tbody>\n",
              "    <tr>\n",
              "      <th>cost</th>\n",
              "      <td>242973.0</td>\n",
              "      <td>26.865828</td>\n",
              "      <td>28.697105</td>\n",
              "      <td>0.0083</td>\n",
              "      <td>10.13727</td>\n",
              "      <td>18.299451</td>\n",
              "      <td>33.075</td>\n",
              "      <td>512.001</td>\n",
              "    </tr>\n",
              "    <tr>\n",
              "      <th>product_retail_price</th>\n",
              "      <td>242973.0</td>\n",
              "      <td>55.963333</td>\n",
              "      <td>61.543285</td>\n",
              "      <td>0.0200</td>\n",
              "      <td>20.99000</td>\n",
              "      <td>37.599998</td>\n",
              "      <td>69.000</td>\n",
              "      <td>903.000</td>\n",
              "    </tr>\n",
              "  </tbody>\n",
              "</table>\n",
              "</div>\n",
              "      <button class=\"colab-df-convert\" onclick=\"convertToInteractive('df-72c87a25-795b-4ed3-94c0-9c596d27be83')\"\n",
              "              title=\"Convert this dataframe to an interactive table.\"\n",
              "              style=\"display:none;\">\n",
              "        \n",
              "  <svg xmlns=\"http://www.w3.org/2000/svg\" height=\"24px\"viewBox=\"0 0 24 24\"\n",
              "       width=\"24px\">\n",
              "    <path d=\"M0 0h24v24H0V0z\" fill=\"none\"/>\n",
              "    <path d=\"M18.56 5.44l.94 2.06.94-2.06 2.06-.94-2.06-.94-.94-2.06-.94 2.06-2.06.94zm-11 1L8.5 8.5l.94-2.06 2.06-.94-2.06-.94L8.5 2.5l-.94 2.06-2.06.94zm10 10l.94 2.06.94-2.06 2.06-.94-2.06-.94-.94-2.06-.94 2.06-2.06.94z\"/><path d=\"M17.41 7.96l-1.37-1.37c-.4-.4-.92-.59-1.43-.59-.52 0-1.04.2-1.43.59L10.3 9.45l-7.72 7.72c-.78.78-.78 2.05 0 2.83L4 21.41c.39.39.9.59 1.41.59.51 0 1.02-.2 1.41-.59l7.78-7.78 2.81-2.81c.8-.78.8-2.07 0-2.86zM5.41 20L4 18.59l7.72-7.72 1.47 1.35L5.41 20z\"/>\n",
              "  </svg>\n",
              "      </button>\n",
              "      \n",
              "  <style>\n",
              "    .colab-df-container {\n",
              "      display:flex;\n",
              "      flex-wrap:wrap;\n",
              "      gap: 12px;\n",
              "    }\n",
              "\n",
              "    .colab-df-convert {\n",
              "      background-color: #E8F0FE;\n",
              "      border: none;\n",
              "      border-radius: 50%;\n",
              "      cursor: pointer;\n",
              "      display: none;\n",
              "      fill: #1967D2;\n",
              "      height: 32px;\n",
              "      padding: 0 0 0 0;\n",
              "      width: 32px;\n",
              "    }\n",
              "\n",
              "    .colab-df-convert:hover {\n",
              "      background-color: #E2EBFA;\n",
              "      box-shadow: 0px 1px 2px rgba(60, 64, 67, 0.3), 0px 1px 3px 1px rgba(60, 64, 67, 0.15);\n",
              "      fill: #174EA6;\n",
              "    }\n",
              "\n",
              "    [theme=dark] .colab-df-convert {\n",
              "      background-color: #3B4455;\n",
              "      fill: #D2E3FC;\n",
              "    }\n",
              "\n",
              "    [theme=dark] .colab-df-convert:hover {\n",
              "      background-color: #434B5C;\n",
              "      box-shadow: 0px 1px 3px 1px rgba(0, 0, 0, 0.15);\n",
              "      filter: drop-shadow(0px 1px 2px rgba(0, 0, 0, 0.3));\n",
              "      fill: #FFFFFF;\n",
              "    }\n",
              "  </style>\n",
              "\n",
              "      <script>\n",
              "        const buttonEl =\n",
              "          document.querySelector('#df-72c87a25-795b-4ed3-94c0-9c596d27be83 button.colab-df-convert');\n",
              "        buttonEl.style.display =\n",
              "          google.colab.kernel.accessAllowed ? 'block' : 'none';\n",
              "\n",
              "        async function convertToInteractive(key) {\n",
              "          const element = document.querySelector('#df-72c87a25-795b-4ed3-94c0-9c596d27be83');\n",
              "          const dataTable =\n",
              "            await google.colab.kernel.invokeFunction('convertToInteractive',\n",
              "                                                     [key], {});\n",
              "          if (!dataTable) return;\n",
              "\n",
              "          const docLinkHtml = 'Like what you see? Visit the ' +\n",
              "            '<a target=\"_blank\" href=https://colab.research.google.com/notebooks/data_table.ipynb>data table notebook</a>'\n",
              "            + ' to learn more about interactive tables.';\n",
              "          element.innerHTML = '';\n",
              "          dataTable['output_type'] = 'display_data';\n",
              "          await google.colab.output.renderOutput(dataTable, element);\n",
              "          const docLink = document.createElement('div');\n",
              "          docLink.innerHTML = docLinkHtml;\n",
              "          element.appendChild(docLink);\n",
              "        }\n",
              "      </script>\n",
              "    </div>\n",
              "  </div>\n",
              "  "
            ]
          },
          "metadata": {},
          "execution_count": 20
        }
      ],
      "source": [
        "dfprodw[num_w].describe().T"
      ]
    },
    {
      "cell_type": "markdown",
      "metadata": {
        "id": "goXTOMK4TtGL"
      },
      "source": [
        "Handling outlier dengan metode IQR"
      ]
    },
    {
      "cell_type": "code",
      "execution_count": null,
      "metadata": {
        "colab": {
          "base_uri": "https://localhost:8080/"
        },
        "id": "p2cgx6iYBSRt",
        "outputId": "a3308441-0537-42c2-e3e9-e7759b7094e6"
      },
      "outputs": [
        {
          "output_type": "stream",
          "name": "stderr",
          "text": [
            "/usr/local/lib/python3.7/dist-packages/ipykernel_launcher.py:6: FutureWarning: Automatic reindexing on DataFrame vs Series comparisons is deprecated and will raise ValueError in a future version.  Do `left, right = left.align(right, axis=1, copy=False)` before e.g. `left == right`\n",
            "  \n",
            "/usr/local/lib/python3.7/dist-packages/ipykernel_launcher.py:7: FutureWarning: Automatic reindexing on DataFrame vs Series comparisons is deprecated and will raise ValueError in a future version.  Do `left, right = left.align(right, axis=1, copy=False)` before e.g. `left == right`\n",
            "  import sys\n"
          ]
        },
        {
          "output_type": "display_data",
          "data": {
            "text/plain": [
              "<Figure size 1800x648 with 1 Axes>"
            ],
            "image/png": "[encoded data removed]"
          },
          "metadata": {
            "needs_background": "light"
          }
        }
      ],
      "source": [
        "q1=dfprodw[['cost','product_retail_price']].quantile(0.25)\n",
        "q3=dfprodw[['cost','product_retail_price']].quantile(0.75)\n",
        "IQR=q3-q1\n",
        "max=q3+1.5*IQR\n",
        "min=q1-1.5*IQR\n",
        "dfprodw=dfprodw.mask(dfprodw>max,max,axis=1)\n",
        "dfprodw=dfprodw.mask(dfprodw<min,min,axis=1)\n",
        "dfprodw[num_w].plot(kind='box',figsize=(25,9))\n",
        "plt.grid(False)\n",
        "plt.show()"
      ]
    },
    {
      "cell_type": "markdown",
      "metadata": {
        "id": "PSVjmtFkTvyo"
      },
      "source": [
        "Statistik deskriptif setelah handling outlier"
      ]
    },
    {
      "cell_type": "code",
      "execution_count": null,
      "metadata": {
        "colab": {
          "base_uri": "https://localhost:8080/"
        },
        "id": "RZx4BfXIBf8G",
        "outputId": "6a8f79de-558b-402e-e3f8-2ea4c06c4ae8"
      },
      "outputs": [
        {
          "output_type": "execute_result",
          "data": {
            "text/plain": [
              "                         count       mean        std     min       25%  \\\n",
              "cost                  242973.0  24.280999  18.716433  0.0083  10.13727   \n",
              "product_retail_price  242973.0  50.430202  39.206171  0.0200  20.99000   \n",
              "\n",
              "                            50%     75%         max  \n",
              "cost                  18.299451  33.075   67.481596  \n",
              "product_retail_price  37.599998  69.000  141.015000  "
            ],
            "text/html": [
              "\n",
              "  <div id=\"df-231bba5a-b020-4546-9df6-a71cef08b1ab\">\n",
              "    <div class=\"colab-df-container\">\n",
              "      <div>\n",
              "<style scoped>\n",
              "    .dataframe tbody tr th:only-of-type {\n",
              "        vertical-align: middle;\n",
              "    }\n",
              "\n",
              "    .dataframe tbody tr th {\n",
              "        vertical-align: top;\n",
              "    }\n",
              "\n",
              "    .dataframe thead th {\n",
              "        text-align: right;\n",
              "    }\n",
              "</style>\n",
              "<table border=\"1\" class=\"dataframe\">\n",
              "  <thead>\n",
              "    <tr style=\"text-align: right;\">\n",
              "      <th></th>\n",
              "      <th>count</th>\n",
              "      <th>mean</th>\n",
              "      <th>std</th>\n",
              "      <th>min</th>\n",
              "      <th>25%</th>\n",
              "      <th>50%</th>\n",
              "      <th>75%</th>\n",
              "      <th>max</th>\n",
              "    </tr>\n",
              "  </thead>\n",
              "  <tbody>\n",
              "    <tr>\n",
              "      <th>cost</th>\n",
              "      <td>242973.0</td>\n",
              "      <td>24.280999</td>\n",
              "      <td>18.716433</td>\n",
              "      <td>0.0083</td>\n",
              "      <td>10.13727</td>\n",
              "      <td>18.299451</td>\n",
              "      <td>33.075</td>\n",
              "      <td>67.481596</td>\n",
              "    </tr>\n",
              "    <tr>\n",
              "      <th>product_retail_price</th>\n",
              "      <td>242973.0</td>\n",
              "      <td>50.430202</td>\n",
              "      <td>39.206171</td>\n",
              "      <td>0.0200</td>\n",
              "      <td>20.99000</td>\n",
              "      <td>37.599998</td>\n",
              "      <td>69.000</td>\n",
              "      <td>141.015000</td>\n",
              "    </tr>\n",
              "  </tbody>\n",
              "</table>\n",
              "</div>\n",
              "      <button class=\"colab-df-convert\" onclick=\"convertToInteractive('df-231bba5a-b020-4546-9df6-a71cef08b1ab')\"\n",
              "              title=\"Convert this dataframe to an interactive table.\"\n",
              "              style=\"display:none;\">\n",
              "        \n",
              "  <svg xmlns=\"http://www.w3.org/2000/svg\" height=\"24px\"viewBox=\"0 0 24 24\"\n",
              "       width=\"24px\">\n",
              "    <path d=\"M0 0h24v24H0V0z\" fill=\"none\"/>\n",
              "    <path d=\"M18.56 5.44l.94 2.06.94-2.06 2.06-.94-2.06-.94-.94-2.06-.94 2.06-2.06.94zm-11 1L8.5 8.5l.94-2.06 2.06-.94-2.06-.94L8.5 2.5l-.94 2.06-2.06.94zm10 10l.94 2.06.94-2.06 2.06-.94-2.06-.94-.94-2.06-.94 2.06-2.06.94z\"/><path d=\"M17.41 7.96l-1.37-1.37c-.4-.4-.92-.59-1.43-.59-.52 0-1.04.2-1.43.59L10.3 9.45l-7.72 7.72c-.78.78-.78 2.05 0 2.83L4 21.41c.39.39.9.59 1.41.59.51 0 1.02-.2 1.41-.59l7.78-7.78 2.81-2.81c.8-.78.8-2.07 0-2.86zM5.41 20L4 18.59l7.72-7.72 1.47 1.35L5.41 20z\"/>\n",
              "  </svg>\n",
              "      </button>\n",
              "      \n",
              "  <style>\n",
              "    .colab-df-container {\n",
              "      display:flex;\n",
              "      flex-wrap:wrap;\n",
              "      gap: 12px;\n",
              "    }\n",
              "\n",
              "    .colab-df-convert {\n",
              "      background-color: #E8F0FE;\n",
              "      border: none;\n",
              "      border-radius: 50%;\n",
              "      cursor: pointer;\n",
              "      display: none;\n",
              "      fill: #1967D2;\n",
              "      height: 32px;\n",
              "      padding: 0 0 0 0;\n",
              "      width: 32px;\n",
              "    }\n",
              "\n",
              "    .colab-df-convert:hover {\n",
              "      background-color: #E2EBFA;\n",
              "      box-shadow: 0px 1px 2px rgba(60, 64, 67, 0.3), 0px 1px 3px 1px rgba(60, 64, 67, 0.15);\n",
              "      fill: #174EA6;\n",
              "    }\n",
              "\n",
              "    [theme=dark] .colab-df-convert {\n",
              "      background-color: #3B4455;\n",
              "      fill: #D2E3FC;\n",
              "    }\n",
              "\n",
              "    [theme=dark] .colab-df-convert:hover {\n",
              "      background-color: #434B5C;\n",
              "      box-shadow: 0px 1px 3px 1px rgba(0, 0, 0, 0.15);\n",
              "      filter: drop-shadow(0px 1px 2px rgba(0, 0, 0, 0.3));\n",
              "      fill: #FFFFFF;\n",
              "    }\n",
              "  </style>\n",
              "\n",
              "      <script>\n",
              "        const buttonEl =\n",
              "          document.querySelector('#df-231bba5a-b020-4546-9df6-a71cef08b1ab button.colab-df-convert');\n",
              "        buttonEl.style.display =\n",
              "          google.colab.kernel.accessAllowed ? 'block' : 'none';\n",
              "\n",
              "        async function convertToInteractive(key) {\n",
              "          const element = document.querySelector('#df-231bba5a-b020-4546-9df6-a71cef08b1ab');\n",
              "          const dataTable =\n",
              "            await google.colab.kernel.invokeFunction('convertToInteractive',\n",
              "                                                     [key], {});\n",
              "          if (!dataTable) return;\n",
              "\n",
              "          const docLinkHtml = 'Like what you see? Visit the ' +\n",
              "            '<a target=\"_blank\" href=https://colab.research.google.com/notebooks/data_table.ipynb>data table notebook</a>'\n",
              "            + ' to learn more about interactive tables.';\n",
              "          element.innerHTML = '';\n",
              "          dataTable['output_type'] = 'display_data';\n",
              "          await google.colab.output.renderOutput(dataTable, element);\n",
              "          const docLink = document.createElement('div');\n",
              "          docLink.innerHTML = docLinkHtml;\n",
              "          element.appendChild(docLink);\n",
              "        }\n",
              "      </script>\n",
              "    </div>\n",
              "  </div>\n",
              "  "
            ]
          },
          "metadata": {},
          "execution_count": 22
        }
      ],
      "source": [
        "dfprodw[num_w].describe().T"
      ]
    },
    {
      "cell_type": "markdown",
      "metadata": {
        "id": "wz8s9k2hTyQ5"
      },
      "source": [
        "Statistik deskriptif data kategorikal"
      ]
    },
    {
      "cell_type": "code",
      "execution_count": null,
      "metadata": {
        "colab": {
          "base_uri": "https://localhost:8080/"
        },
        "id": "fM2WyrEFBqJk",
        "outputId": "5a971303-08c9-468c-e09d-6e41c3791fd1"
      },
      "outputs": [
        {
          "output_type": "execute_result",
          "data": {
            "text/plain": [
              "                     count unique         top    freq\n",
              "product_category    242973     22   Intimates   36319\n",
              "product_department  242973      1       Women  242973\n",
              "name                242973     10  Chicago IL   38201"
            ],
            "text/html": [
              "\n",
              "  <div id=\"df-429bb68a-047e-4d0c-a29b-e2d06ccc9acd\">\n",
              "    <div class=\"colab-df-container\">\n",
              "      <div>\n",
              "<style scoped>\n",
              "    .dataframe tbody tr th:only-of-type {\n",
              "        vertical-align: middle;\n",
              "    }\n",
              "\n",
              "    .dataframe tbody tr th {\n",
              "        vertical-align: top;\n",
              "    }\n",
              "\n",
              "    .dataframe thead th {\n",
              "        text-align: right;\n",
              "    }\n",
              "</style>\n",
              "<table border=\"1\" class=\"dataframe\">\n",
              "  <thead>\n",
              "    <tr style=\"text-align: right;\">\n",
              "      <th></th>\n",
              "      <th>count</th>\n",
              "      <th>unique</th>\n",
              "      <th>top</th>\n",
              "      <th>freq</th>\n",
              "    </tr>\n",
              "  </thead>\n",
              "  <tbody>\n",
              "    <tr>\n",
              "      <th>product_category</th>\n",
              "      <td>242973</td>\n",
              "      <td>22</td>\n",
              "      <td>Intimates</td>\n",
              "      <td>36319</td>\n",
              "    </tr>\n",
              "    <tr>\n",
              "      <th>product_department</th>\n",
              "      <td>242973</td>\n",
              "      <td>1</td>\n",
              "      <td>Women</td>\n",
              "      <td>242973</td>\n",
              "    </tr>\n",
              "    <tr>\n",
              "      <th>name</th>\n",
              "      <td>242973</td>\n",
              "      <td>10</td>\n",
              "      <td>Chicago IL</td>\n",
              "      <td>38201</td>\n",
              "    </tr>\n",
              "  </tbody>\n",
              "</table>\n",
              "</div>\n",
              "      <button class=\"colab-df-convert\" onclick=\"convertToInteractive('df-429bb68a-047e-4d0c-a29b-e2d06ccc9acd')\"\n",
              "              title=\"Convert this dataframe to an interactive table.\"\n",
              "              style=\"display:none;\">\n",
              "        \n",
              "  <svg xmlns=\"http://www.w3.org/2000/svg\" height=\"24px\"viewBox=\"0 0 24 24\"\n",
              "       width=\"24px\">\n",
              "    <path d=\"M0 0h24v24H0V0z\" fill=\"none\"/>\n",
              "    <path d=\"M18.56 5.44l.94 2.06.94-2.06 2.06-.94-2.06-.94-.94-2.06-.94 2.06-2.06.94zm-11 1L8.5 8.5l.94-2.06 2.06-.94-2.06-.94L8.5 2.5l-.94 2.06-2.06.94zm10 10l.94 2.06.94-2.06 2.06-.94-2.06-.94-.94-2.06-.94 2.06-2.06.94z\"/><path d=\"M17.41 7.96l-1.37-1.37c-.4-.4-.92-.59-1.43-.59-.52 0-1.04.2-1.43.59L10.3 9.45l-7.72 7.72c-.78.78-.78 2.05 0 2.83L4 21.41c.39.39.9.59 1.41.59.51 0 1.02-.2 1.41-.59l7.78-7.78 2.81-2.81c.8-.78.8-2.07 0-2.86zM5.41 20L4 18.59l7.72-7.72 1.47 1.35L5.41 20z\"/>\n",
              "  </svg>\n",
              "      </button>\n",
              "      \n",
              "  <style>\n",
              "    .colab-df-container {\n",
              "      display:flex;\n",
              "      flex-wrap:wrap;\n",
              "      gap: 12px;\n",
              "    }\n",
              "\n",
              "    .colab-df-convert {\n",
              "      background-color: #E8F0FE;\n",
              "      border: none;\n",
              "      border-radius: 50%;\n",
              "      cursor: pointer;\n",
              "      display: none;\n",
              "      fill: #1967D2;\n",
              "      height: 32px;\n",
              "      padding: 0 0 0 0;\n",
              "      width: 32px;\n",
              "    }\n",
              "\n",
              "    .colab-df-convert:hover {\n",
              "      background-color: #E2EBFA;\n",
              "      box-shadow: 0px 1px 2px rgba(60, 64, 67, 0.3), 0px 1px 3px 1px rgba(60, 64, 67, 0.15);\n",
              "      fill: #174EA6;\n",
              "    }\n",
              "\n",
              "    [theme=dark] .colab-df-convert {\n",
              "      background-color: #3B4455;\n",
              "      fill: #D2E3FC;\n",
              "    }\n",
              "\n",
              "    [theme=dark] .colab-df-convert:hover {\n",
              "      background-color: #434B5C;\n",
              "      box-shadow: 0px 1px 3px 1px rgba(0, 0, 0, 0.15);\n",
              "      filter: drop-shadow(0px 1px 2px rgba(0, 0, 0, 0.3));\n",
              "      fill: #FFFFFF;\n",
              "    }\n",
              "  </style>\n",
              "\n",
              "      <script>\n",
              "        const buttonEl =\n",
              "          document.querySelector('#df-429bb68a-047e-4d0c-a29b-e2d06ccc9acd button.colab-df-convert');\n",
              "        buttonEl.style.display =\n",
              "          google.colab.kernel.accessAllowed ? 'block' : 'none';\n",
              "\n",
              "        async function convertToInteractive(key) {\n",
              "          const element = document.querySelector('#df-429bb68a-047e-4d0c-a29b-e2d06ccc9acd');\n",
              "          const dataTable =\n",
              "            await google.colab.kernel.invokeFunction('convertToInteractive',\n",
              "                                                     [key], {});\n",
              "          if (!dataTable) return;\n",
              "\n",
              "          const docLinkHtml = 'Like what you see? Visit the ' +\n",
              "            '<a target=\"_blank\" href=https://colab.research.google.com/notebooks/data_table.ipynb>data table notebook</a>'\n",
              "            + ' to learn more about interactive tables.';\n",
              "          element.innerHTML = '';\n",
              "          dataTable['output_type'] = 'display_data';\n",
              "          await google.colab.output.renderOutput(dataTable, element);\n",
              "          const docLink = document.createElement('div');\n",
              "          docLink.innerHTML = docLinkHtml;\n",
              "          element.appendChild(docLink);\n",
              "        }\n",
              "      </script>\n",
              "    </div>\n",
              "  </div>\n",
              "  "
            ]
          },
          "metadata": {},
          "execution_count": 23
        }
      ],
      "source": [
        "dfprodw[cat_w].describe().T"
      ]
    },
    {
      "cell_type": "markdown",
      "metadata": {
        "id": "bQe7BvbkJ-0G"
      },
      "source": [
        "#**EXPLORATORY DATA ANALYSIS**"
      ]
    },
    {
      "cell_type": "markdown",
      "metadata": {
        "id": "E-oLM90VAcUX"
      },
      "source": [
        "##**MEN**"
      ]
    },
    {
      "cell_type": "markdown",
      "metadata": {
        "id": "4LXIAl7LKKZe"
      },
      "source": [
        "Heatmap untuk mengetahui korelasi antar kolom data numerical"
      ]
    },
    {
      "cell_type": "code",
      "execution_count": null,
      "metadata": {
        "colab": {
          "base_uri": "https://localhost:8080/"
        },
        "id": "euysHdxqQ30s",
        "outputId": "a5b1be4d-47ef-4d97-a436-71d10ad44541"
      },
      "outputs": [
        {
          "output_type": "display_data",
          "data": {
            "text/plain": [
              "<Figure size 432x288 with 2 Axes>"
            ],
            "image/png": "[encoded data removed]"
          },
          "metadata": {
            "needs_background": "light"
          }
        }
      ],
      "source": [
        "sns.heatmap(dfprodm.corr(),annot=True,fmt='.2f')\n",
        "plt.show()"
      ]
    },
    {
      "cell_type": "markdown",
      "metadata": {
        "id": "gWMw5ZU9KCy5"
      },
      "source": [
        "Terdapat korelasi tinggi antara cost dan product_retail_price (0.98)"
      ]
    },
    {
      "cell_type": "markdown",
      "metadata": {
        "id": "j_j0itALKRJ4"
      },
      "source": [
        "Jumlah tiap product category"
      ]
    },
    {
      "cell_type": "code",
      "execution_count": null,
      "metadata": {
        "colab": {
          "base_uri": "https://localhost:8080/"
        },
        "id": "BO2Qr1rQRFz8",
        "outputId": "097ef567-2783-4b7d-aece-5a18698bef19"
      },
      "outputs": [
        {
          "output_type": "stream",
          "name": "stderr",
          "text": [
            "/usr/local/lib/python3.7/dist-packages/seaborn/_decorators.py:43: FutureWarning: Pass the following variable as a keyword arg: x. From version 0.12, the only valid positional argument will be `data`, and passing other arguments without an explicit keyword will result in an error or misinterpretation.\n",
            "  FutureWarning\n"
          ]
        },
        {
          "output_type": "display_data",
          "data": {
            "text/plain": [
              "<Figure size 2520x432 with 1 Axes>"
            ],
            "image/png": "[encoded data removed]"
          },
          "metadata": {
            "needs_background": "light"
          }
        }
      ],
      "source": [
        "plt.figure(figsize=(35,6))\n",
        "sns.countplot('product_category',data=dfprodm)\n",
        "plt.title('Jumlah tiap product category')\n",
        "plt.show()"
      ]
    },
    {
      "cell_type": "markdown",
      "metadata": {
        "id": "L3lDDxzpLMuo"
      },
      "source": [
        "Jumlah terbanyak pada kategori jeans"
      ]
    },
    {
      "cell_type": "markdown",
      "metadata": {
        "id": "YxYwS3JRKhe0"
      },
      "source": [
        "Jumlah tiap produk pada tiap product distribution center"
      ]
    },
    {
      "cell_type": "code",
      "execution_count": null,
      "metadata": {
        "colab": {
          "base_uri": "https://localhost:8080/"
        },
        "id": "ZSINGV53Smei",
        "outputId": "1d871c11-4a48-427c-f4e5-6fda980d0712"
      },
      "outputs": [
        {
          "output_type": "stream",
          "name": "stderr",
          "text": [
            "/usr/local/lib/python3.7/dist-packages/seaborn/_decorators.py:43: FutureWarning: Pass the following variable as a keyword arg: x. From version 0.12, the only valid positional argument will be `data`, and passing other arguments without an explicit keyword will result in an error or misinterpretation.\n",
            "  FutureWarning\n"
          ]
        },
        {
          "output_type": "display_data",
          "data": {
            "text/plain": [
              "<Figure size 1800x432 with 1 Axes>"
            ],
            "image/png": "[encoded data removed]"
          },
          "metadata": {
            "needs_background": "light"
          }
        }
      ],
      "source": [
        "plt.figure(figsize=(25,6))\n",
        "sns.countplot('name',data=dfprodm)\n",
        "plt.title('Jumlah tiap produk pada tiap product distribution center')\n",
        "plt.show()"
      ]
    },
    {
      "cell_type": "markdown",
      "metadata": {
        "id": "Su91tDSBLX8w"
      },
      "source": [
        "Produk terbanyak didistribusikan dari Memphis TN"
      ]
    },
    {
      "cell_type": "markdown",
      "metadata": {
        "id": "BkGgli-qKzh1"
      },
      "source": [
        "Jumlah tiap produk pada tiap distribution center tiap product category"
      ]
    },
    {
      "cell_type": "code",
      "execution_count": null,
      "metadata": {
        "colab": {
          "base_uri": "https://localhost:8080/"
        },
        "id": "U37PD2WKAzfM",
        "outputId": "cd42abae-4ce4-4477-aa6c-d0b680eb531d"
      },
      "outputs": [
        {
          "output_type": "stream",
          "name": "stderr",
          "text": [
            "/usr/local/lib/python3.7/dist-packages/seaborn/_decorators.py:43: FutureWarning: Pass the following variable as a keyword arg: x. From version 0.12, the only valid positional argument will be `data`, and passing other arguments without an explicit keyword will result in an error or misinterpretation.\n",
            "  FutureWarning\n"
          ]
        },
        {
          "output_type": "display_data",
          "data": {
            "text/plain": [
              "<Figure size 3600x432 with 1 Axes>"
            ],
            "image/png": "[encoded data removed]"
          },
          "metadata": {
            "needs_background": "light"
          }
        }
      ],
      "source": [
        "plt.figure(figsize=(50,6))\n",
        "sns.countplot('product_category',data=dfprodm,hue='name')\n",
        "plt.title('Jumlah tiap produk pada tiap distribution center tiap product category')\n",
        "plt.legend(loc='best')\n",
        "plt.show()"
      ]
    },
    {
      "cell_type": "markdown",
      "metadata": {
        "id": "7JPUsVufClkj"
      },
      "source": [
        "##**WOMEN**"
      ]
    },
    {
      "cell_type": "markdown",
      "metadata": {
        "id": "4N_SYMyKUB96"
      },
      "source": [
        "Heatmap untuk melihat korelasi antar kolom numerical"
      ]
    },
    {
      "cell_type": "code",
      "execution_count": null,
      "metadata": {
        "colab": {
          "base_uri": "https://localhost:8080/"
        },
        "id": "EGYgFC5wCpWR",
        "outputId": "8c66c8dd-f0b5-4f7a-8861-895a84e081f1"
      },
      "outputs": [
        {
          "output_type": "display_data",
          "data": {
            "text/plain": [
              "<Figure size 432x288 with 2 Axes>"
            ],
            "image/png": "[encoded data removed]"
          },
          "metadata": {
            "needs_background": "light"
          }
        }
      ],
      "source": [
        "sns.heatmap(dfprodw.corr(),annot=True,fmt='.2f')\n",
        "plt.show()"
      ]
    },
    {
      "cell_type": "markdown",
      "metadata": {
        "id": "XR4c_bv5UIoc"
      },
      "source": [
        "Terdapat korelasi tinggi antara cost dan product_retail_price"
      ]
    },
    {
      "cell_type": "markdown",
      "metadata": {
        "id": "VrRZwpphUNcR"
      },
      "source": [
        "Jumlah tiap product category"
      ]
    },
    {
      "cell_type": "code",
      "execution_count": null,
      "metadata": {
        "colab": {
          "base_uri": "https://localhost:8080/"
        },
        "id": "s7kX2c5zCzFY",
        "outputId": "1ca86d6a-4fa3-4c31-e4da-c510ebbc3792"
      },
      "outputs": [
        {
          "output_type": "stream",
          "name": "stderr",
          "text": [
            "/usr/local/lib/python3.7/dist-packages/seaborn/_decorators.py:43: FutureWarning: Pass the following variable as a keyword arg: x. From version 0.12, the only valid positional argument will be `data`, and passing other arguments without an explicit keyword will result in an error or misinterpretation.\n",
            "  FutureWarning\n"
          ]
        },
        {
          "output_type": "display_data",
          "data": {
            "text/plain": [
              "<Figure size 2520x432 with 1 Axes>"
            ],
            "image/png": "[encoded data removed]"
          },
          "metadata": {
            "needs_background": "light"
          }
        }
      ],
      "source": [
        "plt.figure(figsize=(35,6))\n",
        "sns.countplot('product_category',data=dfprodw)\n",
        "plt.title('Jumlah tiap product category')\n",
        "plt.show()"
      ]
    },
    {
      "cell_type": "markdown",
      "metadata": {
        "id": "lMkdDz7xUQK7"
      },
      "source": [
        "Product category terbanyak adalah intimates"
      ]
    },
    {
      "cell_type": "markdown",
      "metadata": {
        "id": "VqbhQx9cUVGY"
      },
      "source": [
        "Jumlah tiap produk pada tiap product distribution center"
      ]
    },
    {
      "cell_type": "code",
      "execution_count": null,
      "metadata": {
        "colab": {
          "base_uri": "https://localhost:8080/"
        },
        "id": "QEwru7WnC_DV",
        "outputId": "95066637-2bb4-4f1e-f8c5-301ca0c67718"
      },
      "outputs": [
        {
          "output_type": "stream",
          "name": "stderr",
          "text": [
            "/usr/local/lib/python3.7/dist-packages/seaborn/_decorators.py:43: FutureWarning: Pass the following variable as a keyword arg: x. From version 0.12, the only valid positional argument will be `data`, and passing other arguments without an explicit keyword will result in an error or misinterpretation.\n",
            "  FutureWarning\n"
          ]
        },
        {
          "output_type": "display_data",
          "data": {
            "text/plain": [
              "<Figure size 1800x432 with 1 Axes>"
            ],
            "image/png": "[encoded data removed]"
          },
          "metadata": {
            "needs_background": "light"
          }
        }
      ],
      "source": [
        "plt.figure(figsize=(25,6))\n",
        "sns.countplot('name',data=dfprodw)\n",
        "plt.title('Jumlah tiap produk pada tiap product distribution center')\n",
        "plt.show()"
      ]
    },
    {
      "cell_type": "markdown",
      "metadata": {
        "id": "LqV2ozlCUYEM"
      },
      "source": [
        "Jumlah tiap produk tertinggi didistribusikan dari Chicago IL"
      ]
    },
    {
      "cell_type": "markdown",
      "metadata": {
        "id": "4fKb8BOhUdm4"
      },
      "source": [
        "Jumlah tiap produk pada tiap distribution center tiap product category"
      ]
    },
    {
      "cell_type": "code",
      "execution_count": null,
      "metadata": {
        "colab": {
          "base_uri": "https://localhost:8080/"
        },
        "id": "oGp9jYZ5DDAh",
        "outputId": "cd3b713b-b0bf-4365-9847-2661efc7c1c3"
      },
      "outputs": [
        {
          "output_type": "stream",
          "name": "stderr",
          "text": [
            "/usr/local/lib/python3.7/dist-packages/seaborn/_decorators.py:43: FutureWarning: Pass the following variable as a keyword arg: x. From version 0.12, the only valid positional argument will be `data`, and passing other arguments without an explicit keyword will result in an error or misinterpretation.\n",
            "  FutureWarning\n"
          ]
        },
        {
          "output_type": "display_data",
          "data": {
            "text/plain": [
              "<Figure size 3600x432 with 1 Axes>"
            ],
            "image/png": "[encoded data removed]"
          },
          "metadata": {
            "needs_background": "light"
          }
        }
      ],
      "source": [
        " "
      ]
    },
    {
      "cell_type": "markdown",
      "metadata": {
        "id": "v3YUgGxLFYNE"
      },
      "source": [
        "#**MODEL DEVELOPMENT**"
      ]
    },
    {
      "cell_type": "markdown",
      "metadata": {
        "id": "Cp2A9grxR5wJ"
      },
      "source": [
        "Import library sklearn"
      ]
    },
    {
      "cell_type": "code",
      "execution_count": null,
      "metadata": {
        "id": "bfNaHSyUFFt2"
      },
      "outputs": [],
      "source": [
        "from sklearn.cluster import KMeans, MiniBatchKMeans\n",
        "from sklearn.metrics import silhouette_score\n",
        "from sklearn.preprocessing import StandardScaler, OneHotEncoder"
      ]
    },
    {
      "cell_type": "markdown",
      "metadata": {
        "id": "iUEgwaueDO2x"
      },
      "source": [
        "##**MEN**"
      ]
    },
    {
      "cell_type": "markdown",
      "metadata": {
        "id": "vQ5bczgzSB6c"
      },
      "source": [
        "eliminasi kolom product_department"
      ]
    },
    {
      "cell_type": "code",
      "execution_count": null,
      "metadata": {
        "id": "TQ7R-27sryUI"
      },
      "outputs": [],
      "source": [
        "dfprodm.drop(columns=['product_department'],inplace=True)"
      ]
    },
    {
      "cell_type": "code",
      "execution_count": null,
      "metadata": {
        "colab": {
          "base_uri": "https://localhost:8080/",
          "height": 424
        },
        "id": "Mu0i_zZ-Eqyr",
        "outputId": "bbda487d-e4a6-4cc7-cab6-bf2fa5d8e6c7"
      },
      "outputs": [
        {
          "output_type": "execute_result",
          "data": {
            "text/plain": [
              "          cost product_category  product_retail_price        name\n",
              "0       13.925      Tops & Tees                  25.0  Houston TX\n",
              "1       13.925      Tops & Tees                  25.0  Houston TX\n",
              "2       13.925      Tops & Tees                  25.0  Houston TX\n",
              "3       13.925      Tops & Tees                  25.0  Houston TX\n",
              "4       13.925      Tops & Tees                  25.0  Houston TX\n",
              "...        ...              ...                   ...         ...\n",
              "244416  14.751           Active                  33.0  Houston TX\n",
              "244417  14.751           Active                  33.0  Houston TX\n",
              "244418  14.751           Active                  33.0  Houston TX\n",
              "244419  14.751           Active                  33.0  Houston TX\n",
              "244420  14.751           Active                  33.0  Houston TX\n",
              "\n",
              "[244421 rows x 4 columns]"
            ],
            "text/html": [
              "\n",
              "  <div id=\"df-c65b2127-7069-47a2-85f3-e10850a7e87a\">\n",
              "    <div class=\"colab-df-container\">\n",
              "      <div>\n",
              "<style scoped>\n",
              "    .dataframe tbody tr th:only-of-type {\n",
              "        vertical-align: middle;\n",
              "    }\n",
              "\n",
              "    .dataframe tbody tr th {\n",
              "        vertical-align: top;\n",
              "    }\n",
              "\n",
              "    .dataframe thead th {\n",
              "        text-align: right;\n",
              "    }\n",
              "</style>\n",
              "<table border=\"1\" class=\"dataframe\">\n",
              "  <thead>\n",
              "    <tr style=\"text-align: right;\">\n",
              "      <th></th>\n",
              "      <th>cost</th>\n",
              "      <th>product_category</th>\n",
              "      <th>product_retail_price</th>\n",
              "      <th>name</th>\n",
              "    </tr>\n",
              "  </thead>\n",
              "  <tbody>\n",
              "    <tr>\n",
              "      <th>0</th>\n",
              "      <td>13.925</td>\n",
              "      <td>Tops &amp; Tees</td>\n",
              "      <td>25.0</td>\n",
              "      <td>Houston TX</td>\n",
              "    </tr>\n",
              "    <tr>\n",
              "      <th>1</th>\n",
              "      <td>13.925</td>\n",
              "      <td>Tops &amp; Tees</td>\n",
              "      <td>25.0</td>\n",
              "      <td>Houston TX</td>\n",
              "    </tr>\n",
              "    <tr>\n",
              "      <th>2</th>\n",
              "      <td>13.925</td>\n",
              "      <td>Tops &amp; Tees</td>\n",
              "      <td>25.0</td>\n",
              "      <td>Houston TX</td>\n",
              "    </tr>\n",
              "    <tr>\n",
              "      <th>3</th>\n",
              "      <td>13.925</td>\n",
              "      <td>Tops &amp; Tees</td>\n",
              "      <td>25.0</td>\n",
              "      <td>Houston TX</td>\n",
              "    </tr>\n",
              "    <tr>\n",
              "      <th>4</th>\n",
              "      <td>13.925</td>\n",
              "      <td>Tops &amp; Tees</td>\n",
              "      <td>25.0</td>\n",
              "      <td>Houston TX</td>\n",
              "    </tr>\n",
              "    <tr>\n",
              "      <th>...</th>\n",
              "      <td>...</td>\n",
              "      <td>...</td>\n",
              "      <td>...</td>\n",
              "      <td>...</td>\n",
              "    </tr>\n",
              "    <tr>\n",
              "      <th>244416</th>\n",
              "      <td>14.751</td>\n",
              "      <td>Active</td>\n",
              "      <td>33.0</td>\n",
              "      <td>Houston TX</td>\n",
              "    </tr>\n",
              "    <tr>\n",
              "      <th>244417</th>\n",
              "      <td>14.751</td>\n",
              "      <td>Active</td>\n",
              "      <td>33.0</td>\n",
              "      <td>Houston TX</td>\n",
              "    </tr>\n",
              "    <tr>\n",
              "      <th>244418</th>\n",
              "      <td>14.751</td>\n",
              "      <td>Active</td>\n",
              "      <td>33.0</td>\n",
              "      <td>Houston TX</td>\n",
              "    </tr>\n",
              "    <tr>\n",
              "      <th>244419</th>\n",
              "      <td>14.751</td>\n",
              "      <td>Active</td>\n",
              "      <td>33.0</td>\n",
              "      <td>Houston TX</td>\n",
              "    </tr>\n",
              "    <tr>\n",
              "      <th>244420</th>\n",
              "      <td>14.751</td>\n",
              "      <td>Active</td>\n",
              "      <td>33.0</td>\n",
              "      <td>Houston TX</td>\n",
              "    </tr>\n",
              "  </tbody>\n",
              "</table>\n",
              "<p>244421 rows × 4 columns</p>\n",
              "</div>\n",
              "      <button class=\"colab-df-convert\" onclick=\"convertToInteractive('df-c65b2127-7069-47a2-85f3-e10850a7e87a')\"\n",
              "              title=\"Convert this dataframe to an interactive table.\"\n",
              "              style=\"display:none;\">\n",
              "        \n",
              "  <svg xmlns=\"http://www.w3.org/2000/svg\" height=\"24px\"viewBox=\"0 0 24 24\"\n",
              "       width=\"24px\">\n",
              "    <path d=\"M0 0h24v24H0V0z\" fill=\"none\"/>\n",
              "    <path d=\"M18.56 5.44l.94 2.06.94-2.06 2.06-.94-2.06-.94-.94-2.06-.94 2.06-2.06.94zm-11 1L8.5 8.5l.94-2.06 2.06-.94-2.06-.94L8.5 2.5l-.94 2.06-2.06.94zm10 10l.94 2.06.94-2.06 2.06-.94-2.06-.94-.94-2.06-.94 2.06-2.06.94z\"/><path d=\"M17.41 7.96l-1.37-1.37c-.4-.4-.92-.59-1.43-.59-.52 0-1.04.2-1.43.59L10.3 9.45l-7.72 7.72c-.78.78-.78 2.05 0 2.83L4 21.41c.39.39.9.59 1.41.59.51 0 1.02-.2 1.41-.59l7.78-7.78 2.81-2.81c.8-.78.8-2.07 0-2.86zM5.41 20L4 18.59l7.72-7.72 1.47 1.35L5.41 20z\"/>\n",
              "  </svg>\n",
              "      </button>\n",
              "      \n",
              "  <style>\n",
              "    .colab-df-container {\n",
              "      display:flex;\n",
              "      flex-wrap:wrap;\n",
              "      gap: 12px;\n",
              "    }\n",
              "\n",
              "    .colab-df-convert {\n",
              "      background-color: #E8F0FE;\n",
              "      border: none;\n",
              "      border-radius: 50%;\n",
              "      cursor: pointer;\n",
              "      display: none;\n",
              "      fill: #1967D2;\n",
              "      height: 32px;\n",
              "      padding: 0 0 0 0;\n",
              "      width: 32px;\n",
              "    }\n",
              "\n",
              "    .colab-df-convert:hover {\n",
              "      background-color: #E2EBFA;\n",
              "      box-shadow: 0px 1px 2px rgba(60, 64, 67, 0.3), 0px 1px 3px 1px rgba(60, 64, 67, 0.15);\n",
              "      fill: #174EA6;\n",
              "    }\n",
              "\n",
              "    [theme=dark] .colab-df-convert {\n",
              "      background-color: #3B4455;\n",
              "      fill: #D2E3FC;\n",
              "    }\n",
              "\n",
              "    [theme=dark] .colab-df-convert:hover {\n",
              "      background-color: #434B5C;\n",
              "      box-shadow: 0px 1px 3px 1px rgba(0, 0, 0, 0.15);\n",
              "      filter: drop-shadow(0px 1px 2px rgba(0, 0, 0, 0.3));\n",
              "      fill: #FFFFFF;\n",
              "    }\n",
              "  </style>\n",
              "\n",
              "      <script>\n",
              "        const buttonEl =\n",
              "          document.querySelector('#df-c65b2127-7069-47a2-85f3-e10850a7e87a button.colab-df-convert');\n",
              "        buttonEl.style.display =\n",
              "          google.colab.kernel.accessAllowed ? 'block' : 'none';\n",
              "\n",
              "        async function convertToInteractive(key) {\n",
              "          const element = document.querySelector('#df-c65b2127-7069-47a2-85f3-e10850a7e87a');\n",
              "          const dataTable =\n",
              "            await google.colab.kernel.invokeFunction('convertToInteractive',\n",
              "                                                     [key], {});\n",
              "          if (!dataTable) return;\n",
              "\n",
              "          const docLinkHtml = 'Like what you see? Visit the ' +\n",
              "            '<a target=\"_blank\" href=https://colab.research.google.com/notebooks/data_table.ipynb>data table notebook</a>'\n",
              "            + ' to learn more about interactive tables.';\n",
              "          element.innerHTML = '';\n",
              "          dataTable['output_type'] = 'display_data';\n",
              "          await google.colab.output.renderOutput(dataTable, element);\n",
              "          const docLink = document.createElement('div');\n",
              "          docLink.innerHTML = docLinkHtml;\n",
              "          element.appendChild(docLink);\n",
              "        }\n",
              "      </script>\n",
              "    </div>\n",
              "  </div>\n",
              "  "
            ]
          },
          "metadata": {},
          "execution_count": 34
        }
      ],
      "source": [
        "dfprodm"
      ]
    },
    {
      "cell_type": "markdown",
      "metadata": {
        "id": "iiiANRw3SIGw"
      },
      "source": [
        "one hot encoding untuk data object serta standard scaler untuk data keseluruhan"
      ]
    },
    {
      "cell_type": "code",
      "execution_count": null,
      "metadata": {
        "colab": {
          "base_uri": "https://localhost:8080/",
          "height": 386
        },
        "id": "mEKXuz3ZErxA",
        "outputId": "b6dd5243-73ea-4d2e-c251-f3571bf7315e"
      },
      "outputs": [
        {
          "output_type": "execute_result",
          "data": {
            "text/plain": [
              "       cost  product_retail_price  product_category_Accessories  \\\n",
              "0 -0.698735             -0.785239                     -0.256959   \n",
              "1 -0.698735             -0.785239                     -0.256959   \n",
              "2 -0.698735             -0.785239                     -0.256959   \n",
              "3 -0.698735             -0.785239                     -0.256959   \n",
              "4 -0.698735             -0.785239                     -0.256959   \n",
              "\n",
              "   product_category_Active  product_category_Fashion Hoodies & Sweatshirts  \\\n",
              "0                -0.247276                                       -0.284482   \n",
              "1                -0.247276                                       -0.284482   \n",
              "2                -0.247276                                       -0.284482   \n",
              "3                -0.247276                                       -0.284482   \n",
              "4                -0.247276                                       -0.284482   \n",
              "\n",
              "   product_category_Jeans  product_category_Outerwear & Coats  \\\n",
              "0               -0.305911                            -0.25742   \n",
              "1               -0.305911                            -0.25742   \n",
              "2               -0.305911                            -0.25742   \n",
              "3               -0.305911                            -0.25742   \n",
              "4               -0.305911                            -0.25742   \n",
              "\n",
              "   product_category_Pants  product_category_Shorts  \\\n",
              "0               -0.291414                -0.278395   \n",
              "1               -0.291414                -0.278395   \n",
              "2               -0.291414                -0.278395   \n",
              "3               -0.291414                -0.278395   \n",
              "4               -0.291414                -0.278395   \n",
              "\n",
              "   product_category_Sleep & Lounge  ...  name_Charleston SC  name_Chicago IL  \\\n",
              "0                         -0.27761  ...           -0.287496        -0.344897   \n",
              "1                         -0.27761  ...           -0.287496        -0.344897   \n",
              "2                         -0.27761  ...           -0.287496        -0.344897   \n",
              "3                         -0.27761  ...           -0.287496        -0.344897   \n",
              "4                         -0.27761  ...           -0.287496        -0.344897   \n",
              "\n",
              "   name_Houston TX  name_Los Angeles CA  name_Memphis TN  name_Mobile AL  \\\n",
              "0          2.72736            -0.341725        -0.391437       -0.348666   \n",
              "1          2.72736            -0.341725        -0.391437       -0.348666   \n",
              "2          2.72736            -0.341725        -0.391437       -0.348666   \n",
              "3          2.72736            -0.341725        -0.391437       -0.348666   \n",
              "4          2.72736            -0.341725        -0.391437       -0.348666   \n",
              "\n",
              "   name_New Orleans LA  name_Philadelphia PA  \\\n",
              "0            -0.258746             -0.338911   \n",
              "1            -0.258746             -0.338911   \n",
              "2            -0.258746             -0.338911   \n",
              "3            -0.258746             -0.338911   \n",
              "4            -0.258746             -0.338911   \n",
              "\n",
              "   name_Port Authority of New York/New Jersey NY/NJ  name_Savannah GA  \n",
              "0                                         -0.352821         -0.287904  \n",
              "1                                         -0.352821         -0.287904  \n",
              "2                                         -0.352821         -0.287904  \n",
              "3                                         -0.352821         -0.287904  \n",
              "4                                         -0.352821         -0.287904  \n",
              "\n",
              "[5 rows x 26 columns]"
            ],
            "text/html": [
              "\n",
              "  <div id=\"df-b971a1c4-b290-48a9-b8bb-cec7078d05cb\">\n",
              "    <div class=\"colab-df-container\">\n",
              "      <div>\n",
              "<style scoped>\n",
              "    .dataframe tbody tr th:only-of-type {\n",
              "        vertical-align: middle;\n",
              "    }\n",
              "\n",
              "    .dataframe tbody tr th {\n",
              "        vertical-align: top;\n",
              "    }\n",
              "\n",
              "    .dataframe thead th {\n",
              "        text-align: right;\n",
              "    }\n",
              "</style>\n",
              "<table border=\"1\" class=\"dataframe\">\n",
              "  <thead>\n",
              "    <tr style=\"text-align: right;\">\n",
              "      <th></th>\n",
              "      <th>cost</th>\n",
              "      <th>product_retail_price</th>\n",
              "      <th>product_category_Accessories</th>\n",
              "      <th>product_category_Active</th>\n",
              "      <th>product_category_Fashion Hoodies &amp; Sweatshirts</th>\n",
              "      <th>product_category_Jeans</th>\n",
              "      <th>product_category_Outerwear &amp; Coats</th>\n",
              "      <th>product_category_Pants</th>\n",
              "      <th>product_category_Shorts</th>\n",
              "      <th>product_category_Sleep &amp; Lounge</th>\n",
              "      <th>...</th>\n",
              "      <th>name_Charleston SC</th>\n",
              "      <th>name_Chicago IL</th>\n",
              "      <th>name_Houston TX</th>\n",
              "      <th>name_Los Angeles CA</th>\n",
              "      <th>name_Memphis TN</th>\n",
              "      <th>name_Mobile AL</th>\n",
              "      <th>name_New Orleans LA</th>\n",
              "      <th>name_Philadelphia PA</th>\n",
              "      <th>name_Port Authority of New York/New Jersey NY/NJ</th>\n",
              "      <th>name_Savannah GA</th>\n",
              "    </tr>\n",
              "  </thead>\n",
              "  <tbody>\n",
              "    <tr>\n",
              "      <th>0</th>\n",
              "      <td>-0.698735</td>\n",
              "      <td>-0.785239</td>\n",
              "      <td>-0.256959</td>\n",
              "      <td>-0.247276</td>\n",
              "      <td>-0.284482</td>\n",
              "      <td>-0.305911</td>\n",
              "      <td>-0.25742</td>\n",
              "      <td>-0.291414</td>\n",
              "      <td>-0.278395</td>\n",
              "      <td>-0.27761</td>\n",
              "      <td>...</td>\n",
              "      <td>-0.287496</td>\n",
              "      <td>-0.344897</td>\n",
              "      <td>2.72736</td>\n",
              "      <td>-0.341725</td>\n",
              "      <td>-0.391437</td>\n",
              "      <td>-0.348666</td>\n",
              "      <td>-0.258746</td>\n",
              "      <td>-0.338911</td>\n",
              "      <td>-0.352821</td>\n",
              "      <td>-0.287904</td>\n",
              "    </tr>\n",
              "    <tr>\n",
              "      <th>1</th>\n",
              "      <td>-0.698735</td>\n",
              "      <td>-0.785239</td>\n",
              "      <td>-0.256959</td>\n",
              "      <td>-0.247276</td>\n",
              "      <td>-0.284482</td>\n",
              "      <td>-0.305911</td>\n",
              "      <td>-0.25742</td>\n",
              "      <td>-0.291414</td>\n",
              "      <td>-0.278395</td>\n",
              "      <td>-0.27761</td>\n",
              "      <td>...</td>\n",
              "      <td>-0.287496</td>\n",
              "      <td>-0.344897</td>\n",
              "      <td>2.72736</td>\n",
              "      <td>-0.341725</td>\n",
              "      <td>-0.391437</td>\n",
              "      <td>-0.348666</td>\n",
              "      <td>-0.258746</td>\n",
              "      <td>-0.338911</td>\n",
              "      <td>-0.352821</td>\n",
              "      <td>-0.287904</td>\n",
              "    </tr>\n",
              "    <tr>\n",
              "      <th>2</th>\n",
              "      <td>-0.698735</td>\n",
              "      <td>-0.785239</td>\n",
              "      <td>-0.256959</td>\n",
              "      <td>-0.247276</td>\n",
              "      <td>-0.284482</td>\n",
              "      <td>-0.305911</td>\n",
              "      <td>-0.25742</td>\n",
              "      <td>-0.291414</td>\n",
              "      <td>-0.278395</td>\n",
              "      <td>-0.27761</td>\n",
              "      <td>...</td>\n",
              "      <td>-0.287496</td>\n",
              "      <td>-0.344897</td>\n",
              "      <td>2.72736</td>\n",
              "      <td>-0.341725</td>\n",
              "      <td>-0.391437</td>\n",
              "      <td>-0.348666</td>\n",
              "      <td>-0.258746</td>\n",
              "      <td>-0.338911</td>\n",
              "      <td>-0.352821</td>\n",
              "      <td>-0.287904</td>\n",
              "    </tr>\n",
              "    <tr>\n",
              "      <th>3</th>\n",
              "      <td>-0.698735</td>\n",
              "      <td>-0.785239</td>\n",
              "      <td>-0.256959</td>\n",
              "      <td>-0.247276</td>\n",
              "      <td>-0.284482</td>\n",
              "      <td>-0.305911</td>\n",
              "      <td>-0.25742</td>\n",
              "      <td>-0.291414</td>\n",
              "      <td>-0.278395</td>\n",
              "      <td>-0.27761</td>\n",
              "      <td>...</td>\n",
              "      <td>-0.287496</td>\n",
              "      <td>-0.344897</td>\n",
              "      <td>2.72736</td>\n",
              "      <td>-0.341725</td>\n",
              "      <td>-0.391437</td>\n",
              "      <td>-0.348666</td>\n",
              "      <td>-0.258746</td>\n",
              "      <td>-0.338911</td>\n",
              "      <td>-0.352821</td>\n",
              "      <td>-0.287904</td>\n",
              "    </tr>\n",
              "    <tr>\n",
              "      <th>4</th>\n",
              "      <td>-0.698735</td>\n",
              "      <td>-0.785239</td>\n",
              "      <td>-0.256959</td>\n",
              "      <td>-0.247276</td>\n",
              "      <td>-0.284482</td>\n",
              "      <td>-0.305911</td>\n",
              "      <td>-0.25742</td>\n",
              "      <td>-0.291414</td>\n",
              "      <td>-0.278395</td>\n",
              "      <td>-0.27761</td>\n",
              "      <td>...</td>\n",
              "      <td>-0.287496</td>\n",
              "      <td>-0.344897</td>\n",
              "      <td>2.72736</td>\n",
              "      <td>-0.341725</td>\n",
              "      <td>-0.391437</td>\n",
              "      <td>-0.348666</td>\n",
              "      <td>-0.258746</td>\n",
              "      <td>-0.338911</td>\n",
              "      <td>-0.352821</td>\n",
              "      <td>-0.287904</td>\n",
              "    </tr>\n",
              "  </tbody>\n",
              "</table>\n",
              "<p>5 rows × 26 columns</p>\n",
              "</div>\n",
              "      <button class=\"colab-df-convert\" onclick=\"convertToInteractive('df-b971a1c4-b290-48a9-b8bb-cec7078d05cb')\"\n",
              "              title=\"Convert this dataframe to an interactive table.\"\n",
              "              style=\"display:none;\">\n",
              "        \n",
              "  <svg xmlns=\"http://www.w3.org/2000/svg\" height=\"24px\"viewBox=\"0 0 24 24\"\n",
              "       width=\"24px\">\n",
              "    <path d=\"M0 0h24v24H0V0z\" fill=\"none\"/>\n",
              "    <path d=\"M18.56 5.44l.94 2.06.94-2.06 2.06-.94-2.06-.94-.94-2.06-.94 2.06-2.06.94zm-11 1L8.5 8.5l.94-2.06 2.06-.94-2.06-.94L8.5 2.5l-.94 2.06-2.06.94zm10 10l.94 2.06.94-2.06 2.06-.94-2.06-.94-.94-2.06-.94 2.06-2.06.94z\"/><path d=\"M17.41 7.96l-1.37-1.37c-.4-.4-.92-.59-1.43-.59-.52 0-1.04.2-1.43.59L10.3 9.45l-7.72 7.72c-.78.78-.78 2.05 0 2.83L4 21.41c.39.39.9.59 1.41.59.51 0 1.02-.2 1.41-.59l7.78-7.78 2.81-2.81c.8-.78.8-2.07 0-2.86zM5.41 20L4 18.59l7.72-7.72 1.47 1.35L5.41 20z\"/>\n",
              "  </svg>\n",
              "      </button>\n",
              "      \n",
              "  <style>\n",
              "    .colab-df-container {\n",
              "      display:flex;\n",
              "      flex-wrap:wrap;\n",
              "      gap: 12px;\n",
              "    }\n",
              "\n",
              "    .colab-df-convert {\n",
              "      background-color: #E8F0FE;\n",
              "      border: none;\n",
              "      border-radius: 50%;\n",
              "      cursor: pointer;\n",
              "      display: none;\n",
              "      fill: #1967D2;\n",
              "      height: 32px;\n",
              "      padding: 0 0 0 0;\n",
              "      width: 32px;\n",
              "    }\n",
              "\n",
              "    .colab-df-convert:hover {\n",
              "      background-color: #E2EBFA;\n",
              "      box-shadow: 0px 1px 2px rgba(60, 64, 67, 0.3), 0px 1px 3px 1px rgba(60, 64, 67, 0.15);\n",
              "      fill: #174EA6;\n",
              "    }\n",
              "\n",
              "    [theme=dark] .colab-df-convert {\n",
              "      background-color: #3B4455;\n",
              "      fill: #D2E3FC;\n",
              "    }\n",
              "\n",
              "    [theme=dark] .colab-df-convert:hover {\n",
              "      background-color: #434B5C;\n",
              "      box-shadow: 0px 1px 3px 1px rgba(0, 0, 0, 0.15);\n",
              "      filter: drop-shadow(0px 1px 2px rgba(0, 0, 0, 0.3));\n",
              "      fill: #FFFFFF;\n",
              "    }\n",
              "  </style>\n",
              "\n",
              "      <script>\n",
              "        const buttonEl =\n",
              "          document.querySelector('#df-b971a1c4-b290-48a9-b8bb-cec7078d05cb button.colab-df-convert');\n",
              "        buttonEl.style.display =\n",
              "          google.colab.kernel.accessAllowed ? 'block' : 'none';\n",
              "\n",
              "        async function convertToInteractive(key) {\n",
              "          const element = document.querySelector('#df-b971a1c4-b290-48a9-b8bb-cec7078d05cb');\n",
              "          const dataTable =\n",
              "            await google.colab.kernel.invokeFunction('convertToInteractive',\n",
              "                                                     [key], {});\n",
              "          if (!dataTable) return;\n",
              "\n",
              "          const docLinkHtml = 'Like what you see? Visit the ' +\n",
              "            '<a target=\"_blank\" href=https://colab.research.google.com/notebooks/data_table.ipynb>data table notebook</a>'\n",
              "            + ' to learn more about interactive tables.';\n",
              "          element.innerHTML = '';\n",
              "          dataTable['output_type'] = 'display_data';\n",
              "          await google.colab.output.renderOutput(dataTable, element);\n",
              "          const docLink = document.createElement('div');\n",
              "          docLink.innerHTML = docLinkHtml;\n",
              "          element.appendChild(docLink);\n",
              "        }\n",
              "      </script>\n",
              "    </div>\n",
              "  </div>\n",
              "  "
            ]
          },
          "metadata": {},
          "execution_count": 35
        }
      ],
      "source": [
        "encoder = OneHotEncoder()\n",
        "encoder.fit(dfprodm.select_dtypes(include=\"object\"))\n",
        "dfprodm_onehot = pd.DataFrame(encoder.transform(dfprodm.select_dtypes(include=\"object\")).toarray(),columns=encoder.get_feature_names_out())\n",
        "\n",
        "dfprodm_preprocessed = pd.concat([dfprodm.select_dtypes(exclude=\"object\"), dfprodm_onehot],axis=1)\n",
        "\n",
        "scaler = StandardScaler()\n",
        "scaler.fit(dfprodm_preprocessed)\n",
        "dfprodm_scaled = pd.DataFrame(scaler.transform(dfprodm_preprocessed),columns=dfprodm_preprocessed.columns)\n",
        "\n",
        "dfprodm_scaled.head()"
      ]
    },
    {
      "cell_type": "markdown",
      "metadata": {
        "id": "37zrhm0kSYqh"
      },
      "source": [
        "clustering mini batch kmeans dengan k=10"
      ]
    },
    {
      "cell_type": "code",
      "execution_count": null,
      "metadata": {
        "colab": {
          "base_uri": "https://localhost:8080/"
        },
        "id": "BBuUMj91FIYl",
        "outputId": "e2ead78e-2cbc-49bd-8db2-4a06add15eab"
      },
      "outputs": [
        {
          "name": "stdout",
          "output_type": "stream",
          "text": [
            "Done fitting kMeans in 1.458s\n"
          ]
        }
      ],
      "source": [
        "k=10\n",
        "km_10= MiniBatchKMeans(n_clusters=k)\n",
        "\n",
        "km_10.fit(dfprodm_scaled)"
      ]
    },
    {
      "cell_type": "markdown",
      "metadata": {
        "id": "MTWLX14CSeIu"
      },
      "source": [
        "clustering mini batch kmeans dengan k=20"
      ]
    },
    {
      "cell_type": "code",
      "execution_count": null,
      "metadata": {
        "colab": {
          "base_uri": "https://localhost:8080/"
        },
        "id": "AomJqYOnGPSh",
        "outputId": "1118157f-bceb-4869-9fbe-1f4b71093a8c"
      },
      "outputs": [
        {
          "data": {
            "text/plain": [
              "MiniBatchKMeans(n_clusters=20)"
            ]
          },
          "execution_count": 85,
          "metadata": {},
          "output_type": "execute_result"
        }
      ],
      "source": [
        "k=20\n",
        "km_20= MiniBatchKMeans(n_clusters=k)\n",
        "km_20.fit(dfprodm_scaled)"
      ]
    },
    {
      "cell_type": "code",
      "execution_count": null,
      "metadata": {
        "colab": {
          "base_uri": "https://localhost:8080/",
          "height": 424
        },
        "id": "zE04Xum0GbU0",
        "outputId": "a6f3b4d6-a649-4f93-aec9-14b0dfa7baf1"
      },
      "outputs": [
        {
          "data": {
            "text/html": [
              "\n",
              "  <div id=\"df-678a4c32-1ee3-46f6-beed-25ac897d4b36\">\n",
              "    <div class=\"colab-df-container\">\n",
              "      <div>\n",
              "<style scoped>\n",
              "    .dataframe tbody tr th:only-of-type {\n",
              "        vertical-align: middle;\n",
              "    }\n",
              "\n",
              "    .dataframe tbody tr th {\n",
              "        vertical-align: top;\n",
              "    }\n",
              "\n",
              "    .dataframe thead th {\n",
              "        text-align: right;\n",
              "    }\n",
              "</style>\n",
              "<table border=\"1\" class=\"dataframe\">\n",
              "  <thead>\n",
              "    <tr style=\"text-align: right;\">\n",
              "      <th></th>\n",
              "      <th>cost</th>\n",
              "      <th>product_category</th>\n",
              "      <th>product_retail_price</th>\n",
              "      <th>name</th>\n",
              "      <th>clusters_of_10</th>\n",
              "      <th>clusters_of_20</th>\n",
              "    </tr>\n",
              "  </thead>\n",
              "  <tbody>\n",
              "    <tr>\n",
              "      <th>0</th>\n",
              "      <td>13.925</td>\n",
              "      <td>Tops &amp; Tees</td>\n",
              "      <td>25.0</td>\n",
              "      <td>Houston TX</td>\n",
              "      <td>3</td>\n",
              "      <td>7</td>\n",
              "    </tr>\n",
              "    <tr>\n",
              "      <th>1</th>\n",
              "      <td>13.925</td>\n",
              "      <td>Tops &amp; Tees</td>\n",
              "      <td>25.0</td>\n",
              "      <td>Houston TX</td>\n",
              "      <td>3</td>\n",
              "      <td>7</td>\n",
              "    </tr>\n",
              "    <tr>\n",
              "      <th>2</th>\n",
              "      <td>13.925</td>\n",
              "      <td>Tops &amp; Tees</td>\n",
              "      <td>25.0</td>\n",
              "      <td>Houston TX</td>\n",
              "      <td>3</td>\n",
              "      <td>7</td>\n",
              "    </tr>\n",
              "    <tr>\n",
              "      <th>3</th>\n",
              "      <td>13.925</td>\n",
              "      <td>Tops &amp; Tees</td>\n",
              "      <td>25.0</td>\n",
              "      <td>Houston TX</td>\n",
              "      <td>3</td>\n",
              "      <td>7</td>\n",
              "    </tr>\n",
              "    <tr>\n",
              "      <th>4</th>\n",
              "      <td>13.925</td>\n",
              "      <td>Tops &amp; Tees</td>\n",
              "      <td>25.0</td>\n",
              "      <td>Houston TX</td>\n",
              "      <td>3</td>\n",
              "      <td>7</td>\n",
              "    </tr>\n",
              "    <tr>\n",
              "      <th>...</th>\n",
              "      <td>...</td>\n",
              "      <td>...</td>\n",
              "      <td>...</td>\n",
              "      <td>...</td>\n",
              "      <td>...</td>\n",
              "      <td>...</td>\n",
              "    </tr>\n",
              "    <tr>\n",
              "      <th>244416</th>\n",
              "      <td>14.751</td>\n",
              "      <td>Active</td>\n",
              "      <td>33.0</td>\n",
              "      <td>Houston TX</td>\n",
              "      <td>3</td>\n",
              "      <td>12</td>\n",
              "    </tr>\n",
              "    <tr>\n",
              "      <th>244417</th>\n",
              "      <td>14.751</td>\n",
              "      <td>Active</td>\n",
              "      <td>33.0</td>\n",
              "      <td>Houston TX</td>\n",
              "      <td>3</td>\n",
              "      <td>12</td>\n",
              "    </tr>\n",
              "    <tr>\n",
              "      <th>244418</th>\n",
              "      <td>14.751</td>\n",
              "      <td>Active</td>\n",
              "      <td>33.0</td>\n",
              "      <td>Houston TX</td>\n",
              "      <td>3</td>\n",
              "      <td>12</td>\n",
              "    </tr>\n",
              "    <tr>\n",
              "      <th>244419</th>\n",
              "      <td>14.751</td>\n",
              "      <td>Active</td>\n",
              "      <td>33.0</td>\n",
              "      <td>Houston TX</td>\n",
              "      <td>3</td>\n",
              "      <td>12</td>\n",
              "    </tr>\n",
              "    <tr>\n",
              "      <th>244420</th>\n",
              "      <td>14.751</td>\n",
              "      <td>Active</td>\n",
              "      <td>33.0</td>\n",
              "      <td>Houston TX</td>\n",
              "      <td>3</td>\n",
              "      <td>12</td>\n",
              "    </tr>\n",
              "  </tbody>\n",
              "</table>\n",
              "<p>244421 rows × 6 columns</p>\n",
              "</div>\n",
              "      <button class=\"colab-df-convert\" onclick=\"convertToInteractive('df-678a4c32-1ee3-46f6-beed-25ac897d4b36')\"\n",
              "              title=\"Convert this dataframe to an interactive table.\"\n",
              "              style=\"display:none;\">\n",
              "        \n",
              "  <svg xmlns=\"http://www.w3.org/2000/svg\" height=\"24px\"viewBox=\"0 0 24 24\"\n",
              "       width=\"24px\">\n",
              "    <path d=\"M0 0h24v24H0V0z\" fill=\"none\"/>\n",
              "    <path d=\"M18.56 5.44l.94 2.06.94-2.06 2.06-.94-2.06-.94-.94-2.06-.94 2.06-2.06.94zm-11 1L8.5 8.5l.94-2.06 2.06-.94-2.06-.94L8.5 2.5l-.94 2.06-2.06.94zm10 10l.94 2.06.94-2.06 2.06-.94-2.06-.94-.94-2.06-.94 2.06-2.06.94z\"/><path d=\"M17.41 7.96l-1.37-1.37c-.4-.4-.92-.59-1.43-.59-.52 0-1.04.2-1.43.59L10.3 9.45l-7.72 7.72c-.78.78-.78 2.05 0 2.83L4 21.41c.39.39.9.59 1.41.59.51 0 1.02-.2 1.41-.59l7.78-7.78 2.81-2.81c.8-.78.8-2.07 0-2.86zM5.41 20L4 18.59l7.72-7.72 1.47 1.35L5.41 20z\"/>\n",
              "  </svg>\n",
              "      </button>\n",
              "      \n",
              "  <style>\n",
              "    .colab-df-container {\n",
              "      display:flex;\n",
              "      flex-wrap:wrap;\n",
              "      gap: 12px;\n",
              "    }\n",
              "\n",
              "    .colab-df-convert {\n",
              "      background-color: #E8F0FE;\n",
              "      border: none;\n",
              "      border-radius: 50%;\n",
              "      cursor: pointer;\n",
              "      display: none;\n",
              "      fill: #1967D2;\n",
              "      height: 32px;\n",
              "      padding: 0 0 0 0;\n",
              "      width: 32px;\n",
              "    }\n",
              "\n",
              "    .colab-df-convert:hover {\n",
              "      background-color: #E2EBFA;\n",
              "      box-shadow: 0px 1px 2px rgba(60, 64, 67, 0.3), 0px 1px 3px 1px rgba(60, 64, 67, 0.15);\n",
              "      fill: #174EA6;\n",
              "    }\n",
              "\n",
              "    [theme=dark] .colab-df-convert {\n",
              "      background-color: #3B4455;\n",
              "      fill: #D2E3FC;\n",
              "    }\n",
              "\n",
              "    [theme=dark] .colab-df-convert:hover {\n",
              "      background-color: #434B5C;\n",
              "      box-shadow: 0px 1px 3px 1px rgba(0, 0, 0, 0.15);\n",
              "      filter: drop-shadow(0px 1px 2px rgba(0, 0, 0, 0.3));\n",
              "      fill: #FFFFFF;\n",
              "    }\n",
              "  </style>\n",
              "\n",
              "      <script>\n",
              "        const buttonEl =\n",
              "          document.querySelector('#df-678a4c32-1ee3-46f6-beed-25ac897d4b36 button.colab-df-convert');\n",
              "        buttonEl.style.display =\n",
              "          google.colab.kernel.accessAllowed ? 'block' : 'none';\n",
              "\n",
              "        async function convertToInteractive(key) {\n",
              "          const element = document.querySelector('#df-678a4c32-1ee3-46f6-beed-25ac897d4b36');\n",
              "          const dataTable =\n",
              "            await google.colab.kernel.invokeFunction('convertToInteractive',\n",
              "                                                     [key], {});\n",
              "          if (!dataTable) return;\n",
              "\n",
              "          const docLinkHtml = 'Like what you see? Visit the ' +\n",
              "            '<a target=\"_blank\" href=https://colab.research.google.com/notebooks/data_table.ipynb>data table notebook</a>'\n",
              "            + ' to learn more about interactive tables.';\n",
              "          element.innerHTML = '';\n",
              "          dataTable['output_type'] = 'display_data';\n",
              "          await google.colab.output.renderOutput(dataTable, element);\n",
              "          const docLink = document.createElement('div');\n",
              "          docLink.innerHTML = docLinkHtml;\n",
              "          element.appendChild(docLink);\n",
              "        }\n",
              "      </script>\n",
              "    </div>\n",
              "  </div>\n",
              "  "
            ],
            "text/plain": [
              "          cost product_category  product_retail_price        name  \\\n",
              "0       13.925      Tops & Tees                  25.0  Houston TX   \n",
              "1       13.925      Tops & Tees                  25.0  Houston TX   \n",
              "2       13.925      Tops & Tees                  25.0  Houston TX   \n",
              "3       13.925      Tops & Tees                  25.0  Houston TX   \n",
              "4       13.925      Tops & Tees                  25.0  Houston TX   \n",
              "...        ...              ...                   ...         ...   \n",
              "244416  14.751           Active                  33.0  Houston TX   \n",
              "244417  14.751           Active                  33.0  Houston TX   \n",
              "244418  14.751           Active                  33.0  Houston TX   \n",
              "244419  14.751           Active                  33.0  Houston TX   \n",
              "244420  14.751           Active                  33.0  Houston TX   \n",
              "\n",
              "        clusters_of_10  clusters_of_20  \n",
              "0                    3               7  \n",
              "1                    3               7  \n",
              "2                    3               7  \n",
              "3                    3               7  \n",
              "4                    3               7  \n",
              "...                ...             ...  \n",
              "244416               3              12  \n",
              "244417               3              12  \n",
              "244418               3              12  \n",
              "244419               3              12  \n",
              "244420               3              12  \n",
              "\n",
              "[244421 rows x 6 columns]"
            ]
          },
          "execution_count": 86,
          "metadata": {},
          "output_type": "execute_result"
        }
      ],
      "source": [
        "dfprodm=dfprodm.assign(\n",
        "    clusters_of_10=km_10.predict(dfprodm_scaled),\n",
        "    clusters_of_20=km_20.predict(dfprodm_scaled),\n",
        ")\n",
        "\n",
        "dfprodm"
      ]
    },
    {
      "cell_type": "markdown",
      "metadata": {
        "id": "-6ILOYTOU32w"
      },
      "source": [
        "Kardinalitas tiap cluster"
      ]
    },
    {
      "cell_type": "code",
      "execution_count": null,
      "metadata": {
        "colab": {
          "base_uri": "https://localhost:8080/",
          "height": 464
        },
        "id": "oaz8wTPsGvZP",
        "outputId": "49033c11-25ee-471f-b602-c0c392250c15"
      },
      "outputs": [
        {
          "data": {
            "image/png": "[encoded data removed]",
            "text/plain": [
              "<Figure size 1296x432 with 3 Axes>"
            ]
          },
          "metadata": {},
          "output_type": "display_data"
        }
      ],
      "source": [
        "fig,axis = plt.subplots(1,3,figsize=(18, 6))\n",
        "for ax,preds in zip(axis, [\"clusters_of_10\", \"clusters_of_20\"]):\n",
        "    sns.countplot(x=preds, data=dfprodm, ax=ax, palette=\"Paired\")\n",
        "    ax.set_title(preds)\n",
        "plt.suptitle(\"Cluster Cardinality\")\n",
        "plt.show()"
      ]
    },
    {
      "cell_type": "markdown",
      "metadata": {
        "id": "_0ktLXhjU6dw"
      },
      "source": [
        "1. Pada k=10, nampak kardinalitas cluster 2 dan 3 jauh lebih tinggi dari cluster lain\n",
        "2. Pada k=20, nampak cluster 4,13,14, dan 18 memiliki kardinalitas jauh lebih rendah daripada cluster lain"
      ]
    },
    {
      "cell_type": "markdown",
      "metadata": {
        "id": "7tU-2kArVfaM"
      },
      "source": [
        "Magnitude cluster"
      ]
    },
    {
      "cell_type": "code",
      "execution_count": null,
      "metadata": {
        "colab": {
          "base_uri": "https://localhost:8080/",
          "height": 442
        },
        "id": "ds29jRfKH2jw",
        "outputId": "628ab634-ae7a-4498-af38-8e51a19a0d44"
      },
      "outputs": [
        {
          "data": {
            "image/png": "[encoded data removed]",
            "text/plain": [
              "<Figure size 1296x432 with 3 Axes>"
            ]
          },
          "metadata": {},
          "output_type": "display_data"
        }
      ],
      "source": [
        "fig,axis = plt.subplots(1, 3, figsize=(18, 6))\n",
        "for ax,model,name in zip(axis,[km_10, km_20],[\"kmeans_10\",\"kmeans_20\"]):\n",
        "    distances=model.transform(dfprodm_scaled)\n",
        "    preds=model.predict(dfprodm_scaled)\n",
        "    inertia_per_cluster=np.array([sum(dist[c]**2 for dist,c in zip(distances,preds) if c==cluster)\n",
        "        for cluster in range(model.n_clusters)])\n",
        "    ax.bar(x=range(model.n_clusters),height=inertia_per_cluster)\n",
        "    ax.set_title(name)\n",
        "plt.suptitle(\"Cluster Magnitude\")\n",
        "plt.show()"
      ]
    },
    {
      "cell_type": "markdown",
      "metadata": {
        "id": "t-kQL21zVkpA"
      },
      "source": [
        "1. Pada k=10, nampak magnitude cluster 2 dan 3 jauh lebih tinggi dari cluster lain\n",
        "2. Pada k=20, nampak cluster 4,6,13,14, dan 18 memiliki magnitude jauh lebih rendah daripada cluster lain"
      ]
    },
    {
      "cell_type": "markdown",
      "metadata": {
        "id": "YYiQwCAyV-qE"
      },
      "source": [
        "Pemilihan jumlah cluster dengan elbow method"
      ]
    },
    {
      "cell_type": "code",
      "execution_count": null,
      "metadata": {
        "id": "cINYXtnaIVpu"
      },
      "outputs": [],
      "source": [
        "ssd = []\n",
        "\n",
        "for k in range(10, 21):\n",
        "    model=KMeans(n_clusters=k, random_state=19)\n",
        "    model.fit(dfprodm_scaled)\n",
        "\n",
        "    ssd.append(model.inertia_)"
      ]
    },
    {
      "cell_type": "code",
      "execution_count": null,
      "metadata": {
        "colab": {
          "base_uri": "https://localhost:8080/",
          "height": 412
        },
        "id": "Yrgxu-FBI1Ie",
        "outputId": "936a61dc-39a6-4f9f-e722-3ffe333f4b57"
      },
      "outputs": [
        {
          "data": {
            "image/png": "[encoded data removed]",
            "text/plain": [
              "<Figure size 864x432 with 1 Axes>"
            ]
          },
          "metadata": {},
          "output_type": "display_data"
        }
      ],
      "source": [
        "plt.figure(figsize=(12, 6))\n",
        "sns.lineplot(x=range(10, 21), y=ssd)\n",
        "sns.scatterplot(x=range(10, 21), y=ssd)\n",
        "plt.xticks(range(10, 21))\n",
        "plt.show()"
      ]
    },
    {
      "cell_type": "markdown",
      "metadata": {
        "id": "4Srxlab8WDvV"
      },
      "source": [
        "Nampak bahwa jumlah cluster ideal berdasar elbow method adalah 16"
      ]
    },
    {
      "cell_type": "markdown",
      "metadata": {
        "id": "Pgh7YM7FWPjc"
      },
      "source": [
        "Pemilihan jumlah cluster dengan silhouette score"
      ]
    },
    {
      "cell_type": "code",
      "execution_count": null,
      "metadata": {
        "id": "TLesNucVJYsL"
      },
      "outputs": [],
      "source": [
        "silhouette_scores = []\n",
        "\n",
        "for k in range(11, 21):\n",
        "    model = KMeans(n_clusters=k, random_state=11)\n",
        "    model.fit(dfprodm_scaled)\n",
        "\n",
        "    silhouette_scores.append(silhouette_score(dfprodm_scaled, model.labels_))"
      ]
    },
    {
      "cell_type": "code",
      "execution_count": null,
      "metadata": {
        "colab": {
          "base_uri": "https://localhost:8080/",
          "height": 398
        },
        "id": "_2XgCBNwJ_ns",
        "outputId": "ea52f7d5-670a-4f00-e938-0db787bcd4e6"
      },
      "outputs": [
        {
          "data": {
            "image/png": "[encoded data removed]",
            "text/plain": [
              "<Figure size 864x432 with 1 Axes>"
            ]
          },
          "metadata": {},
          "output_type": "display_data"
        }
      ],
      "source": [
        "plt.figure(figsize=(12, 6))\n",
        "sns.lineplot(x=range(11, 21), y=silhouette_scores)\n",
        "sns.scatterplot(x=range(11, 21), y=silhouette_scores)\n",
        "plt.xticks(range(10, 20))\n",
        "plt.show()"
      ]
    },
    {
      "cell_type": "markdown",
      "metadata": {
        "id": "p-vfamp-WVD3"
      },
      "source": [
        "Nampak bahwa jumlah cluster ideal berdasar silhouette score adalah 14"
      ]
    },
    {
      "cell_type": "markdown",
      "metadata": {
        "id": "UaL7lwdqWbeV"
      },
      "source": [
        "Mengambil jumlah cluster ideal=14"
      ]
    },
    {
      "cell_type": "code",
      "execution_count": null,
      "metadata": {
        "colab": {
          "base_uri": "https://localhost:8080/"
        },
        "id": "T99elIHwQis9",
        "outputId": "b6a33796-2d74-4c44-8566-56626a4dc10b"
      },
      "outputs": [
        {
          "data": {
            "text/plain": [
              "MiniBatchKMeans(n_clusters=14)"
            ]
          },
          "execution_count": 123,
          "metadata": {},
          "output_type": "execute_result"
        }
      ],
      "source": [
        "k=14\n",
        "km_14= MiniBatchKMeans(n_clusters=k)\n",
        "km_14.fit(dfprodm_scaled)"
      ]
    },
    {
      "cell_type": "code",
      "execution_count": null,
      "metadata": {
        "colab": {
          "base_uri": "https://localhost:8080/",
          "height": 424
        },
        "id": "vqSBpu-hQu4N",
        "outputId": "d5f09c68-1c3a-4bd3-ce3e-2f487ebb1861"
      },
      "outputs": [
        {
          "data": {
            "text/html": [
              "\n",
              "  <div id=\"df-042c3843-6961-4025-a962-afb29dfbd04b\">\n",
              "    <div class=\"colab-df-container\">\n",
              "      <div>\n",
              "<style scoped>\n",
              "    .dataframe tbody tr th:only-of-type {\n",
              "        vertical-align: middle;\n",
              "    }\n",
              "\n",
              "    .dataframe tbody tr th {\n",
              "        vertical-align: top;\n",
              "    }\n",
              "\n",
              "    .dataframe thead th {\n",
              "        text-align: right;\n",
              "    }\n",
              "</style>\n",
              "<table border=\"1\" class=\"dataframe\">\n",
              "  <thead>\n",
              "    <tr style=\"text-align: right;\">\n",
              "      <th></th>\n",
              "      <th>cost</th>\n",
              "      <th>product_category</th>\n",
              "      <th>product_retail_price</th>\n",
              "      <th>name</th>\n",
              "      <th>clusters_of_14</th>\n",
              "    </tr>\n",
              "  </thead>\n",
              "  <tbody>\n",
              "    <tr>\n",
              "      <th>0</th>\n",
              "      <td>13.925</td>\n",
              "      <td>Tops &amp; Tees</td>\n",
              "      <td>25.0</td>\n",
              "      <td>Houston TX</td>\n",
              "      <td>6</td>\n",
              "    </tr>\n",
              "    <tr>\n",
              "      <th>1</th>\n",
              "      <td>13.925</td>\n",
              "      <td>Tops &amp; Tees</td>\n",
              "      <td>25.0</td>\n",
              "      <td>Houston TX</td>\n",
              "      <td>6</td>\n",
              "    </tr>\n",
              "    <tr>\n",
              "      <th>2</th>\n",
              "      <td>13.925</td>\n",
              "      <td>Tops &amp; Tees</td>\n",
              "      <td>25.0</td>\n",
              "      <td>Houston TX</td>\n",
              "      <td>6</td>\n",
              "    </tr>\n",
              "    <tr>\n",
              "      <th>3</th>\n",
              "      <td>13.925</td>\n",
              "      <td>Tops &amp; Tees</td>\n",
              "      <td>25.0</td>\n",
              "      <td>Houston TX</td>\n",
              "      <td>6</td>\n",
              "    </tr>\n",
              "    <tr>\n",
              "      <th>4</th>\n",
              "      <td>13.925</td>\n",
              "      <td>Tops &amp; Tees</td>\n",
              "      <td>25.0</td>\n",
              "      <td>Houston TX</td>\n",
              "      <td>6</td>\n",
              "    </tr>\n",
              "    <tr>\n",
              "      <th>...</th>\n",
              "      <td>...</td>\n",
              "      <td>...</td>\n",
              "      <td>...</td>\n",
              "      <td>...</td>\n",
              "      <td>...</td>\n",
              "    </tr>\n",
              "    <tr>\n",
              "      <th>244416</th>\n",
              "      <td>14.751</td>\n",
              "      <td>Active</td>\n",
              "      <td>33.0</td>\n",
              "      <td>Houston TX</td>\n",
              "      <td>9</td>\n",
              "    </tr>\n",
              "    <tr>\n",
              "      <th>244417</th>\n",
              "      <td>14.751</td>\n",
              "      <td>Active</td>\n",
              "      <td>33.0</td>\n",
              "      <td>Houston TX</td>\n",
              "      <td>9</td>\n",
              "    </tr>\n",
              "    <tr>\n",
              "      <th>244418</th>\n",
              "      <td>14.751</td>\n",
              "      <td>Active</td>\n",
              "      <td>33.0</td>\n",
              "      <td>Houston TX</td>\n",
              "      <td>9</td>\n",
              "    </tr>\n",
              "    <tr>\n",
              "      <th>244419</th>\n",
              "      <td>14.751</td>\n",
              "      <td>Active</td>\n",
              "      <td>33.0</td>\n",
              "      <td>Houston TX</td>\n",
              "      <td>9</td>\n",
              "    </tr>\n",
              "    <tr>\n",
              "      <th>244420</th>\n",
              "      <td>14.751</td>\n",
              "      <td>Active</td>\n",
              "      <td>33.0</td>\n",
              "      <td>Houston TX</td>\n",
              "      <td>9</td>\n",
              "    </tr>\n",
              "  </tbody>\n",
              "</table>\n",
              "<p>244421 rows × 5 columns</p>\n",
              "</div>\n",
              "      <button class=\"colab-df-convert\" onclick=\"convertToInteractive('df-042c3843-6961-4025-a962-afb29dfbd04b')\"\n",
              "              title=\"Convert this dataframe to an interactive table.\"\n",
              "              style=\"display:none;\">\n",
              "        \n",
              "  <svg xmlns=\"http://www.w3.org/2000/svg\" height=\"24px\"viewBox=\"0 0 24 24\"\n",
              "       width=\"24px\">\n",
              "    <path d=\"M0 0h24v24H0V0z\" fill=\"none\"/>\n",
              "    <path d=\"M18.56 5.44l.94 2.06.94-2.06 2.06-.94-2.06-.94-.94-2.06-.94 2.06-2.06.94zm-11 1L8.5 8.5l.94-2.06 2.06-.94-2.06-.94L8.5 2.5l-.94 2.06-2.06.94zm10 10l.94 2.06.94-2.06 2.06-.94-2.06-.94-.94-2.06-.94 2.06-2.06.94z\"/><path d=\"M17.41 7.96l-1.37-1.37c-.4-.4-.92-.59-1.43-.59-.52 0-1.04.2-1.43.59L10.3 9.45l-7.72 7.72c-.78.78-.78 2.05 0 2.83L4 21.41c.39.39.9.59 1.41.59.51 0 1.02-.2 1.41-.59l7.78-7.78 2.81-2.81c.8-.78.8-2.07 0-2.86zM5.41 20L4 18.59l7.72-7.72 1.47 1.35L5.41 20z\"/>\n",
              "  </svg>\n",
              "      </button>\n",
              "      \n",
              "  <style>\n",
              "    .colab-df-container {\n",
              "      display:flex;\n",
              "      flex-wrap:wrap;\n",
              "      gap: 12px;\n",
              "    }\n",
              "\n",
              "    .colab-df-convert {\n",
              "      background-color: #E8F0FE;\n",
              "      border: none;\n",
              "      border-radius: 50%;\n",
              "      cursor: pointer;\n",
              "      display: none;\n",
              "      fill: #1967D2;\n",
              "      height: 32px;\n",
              "      padding: 0 0 0 0;\n",
              "      width: 32px;\n",
              "    }\n",
              "\n",
              "    .colab-df-convert:hover {\n",
              "      background-color: #E2EBFA;\n",
              "      box-shadow: 0px 1px 2px rgba(60, 64, 67, 0.3), 0px 1px 3px 1px rgba(60, 64, 67, 0.15);\n",
              "      fill: #174EA6;\n",
              "    }\n",
              "\n",
              "    [theme=dark] .colab-df-convert {\n",
              "      background-color: #3B4455;\n",
              "      fill: #D2E3FC;\n",
              "    }\n",
              "\n",
              "    [theme=dark] .colab-df-convert:hover {\n",
              "      background-color: #434B5C;\n",
              "      box-shadow: 0px 1px 3px 1px rgba(0, 0, 0, 0.15);\n",
              "      filter: drop-shadow(0px 1px 2px rgba(0, 0, 0, 0.3));\n",
              "      fill: #FFFFFF;\n",
              "    }\n",
              "  </style>\n",
              "\n",
              "      <script>\n",
              "        const buttonEl =\n",
              "          document.querySelector('#df-042c3843-6961-4025-a962-afb29dfbd04b button.colab-df-convert');\n",
              "        buttonEl.style.display =\n",
              "          google.colab.kernel.accessAllowed ? 'block' : 'none';\n",
              "\n",
              "        async function convertToInteractive(key) {\n",
              "          const element = document.querySelector('#df-042c3843-6961-4025-a962-afb29dfbd04b');\n",
              "          const dataTable =\n",
              "            await google.colab.kernel.invokeFunction('convertToInteractive',\n",
              "                                                     [key], {});\n",
              "          if (!dataTable) return;\n",
              "\n",
              "          const docLinkHtml = 'Like what you see? Visit the ' +\n",
              "            '<a target=\"_blank\" href=https://colab.research.google.com/notebooks/data_table.ipynb>data table notebook</a>'\n",
              "            + ' to learn more about interactive tables.';\n",
              "          element.innerHTML = '';\n",
              "          dataTable['output_type'] = 'display_data';\n",
              "          await google.colab.output.renderOutput(dataTable, element);\n",
              "          const docLink = document.createElement('div');\n",
              "          docLink.innerHTML = docLinkHtml;\n",
              "          element.appendChild(docLink);\n",
              "        }\n",
              "      </script>\n",
              "    </div>\n",
              "  </div>\n",
              "  "
            ],
            "text/plain": [
              "          cost product_category  product_retail_price        name  \\\n",
              "0       13.925      Tops & Tees                  25.0  Houston TX   \n",
              "1       13.925      Tops & Tees                  25.0  Houston TX   \n",
              "2       13.925      Tops & Tees                  25.0  Houston TX   \n",
              "3       13.925      Tops & Tees                  25.0  Houston TX   \n",
              "4       13.925      Tops & Tees                  25.0  Houston TX   \n",
              "...        ...              ...                   ...         ...   \n",
              "244416  14.751           Active                  33.0  Houston TX   \n",
              "244417  14.751           Active                  33.0  Houston TX   \n",
              "244418  14.751           Active                  33.0  Houston TX   \n",
              "244419  14.751           Active                  33.0  Houston TX   \n",
              "244420  14.751           Active                  33.0  Houston TX   \n",
              "\n",
              "        clusters_of_14  \n",
              "0                    6  \n",
              "1                    6  \n",
              "2                    6  \n",
              "3                    6  \n",
              "4                    6  \n",
              "...                ...  \n",
              "244416               9  \n",
              "244417               9  \n",
              "244418               9  \n",
              "244419               9  \n",
              "244420               9  \n",
              "\n",
              "[244421 rows x 5 columns]"
            ]
          },
          "execution_count": 124,
          "metadata": {},
          "output_type": "execute_result"
        }
      ],
      "source": [
        "dfprodm=dfprodm.assign(\n",
        "    clusters_of_14=km_14.predict(dfprodm_scaled),\n",
        ")\n",
        "del dfprodm['clusters_of_10']\n",
        "del dfprodm['clusters_of_20']\n",
        "dfprodm"
      ]
    },
    {
      "cell_type": "markdown",
      "metadata": {
        "id": "bk1yCuseWhK1"
      },
      "source": [
        "Exporting table"
      ]
    },
    {
      "cell_type": "code",
      "execution_count": null,
      "metadata": {
        "id": "9qgkOCcxRijy"
      },
      "outputs": [],
      "source": [
        "dfprodm.to_csv('/content/drive/MyDrive/FINAL PROJECT RG 210/dept_product/inv_distribution_center_men_clustered.csv')"
      ]
    },
    {
      "cell_type": "markdown",
      "metadata": {
        "id": "1Oc518psRRda"
      },
      "source": [
        "##**WOMEN**"
      ]
    },
    {
      "cell_type": "markdown",
      "metadata": {
        "id": "LbD7oRhfWvir"
      },
      "source": [
        "eliminasi kolom product_department"
      ]
    },
    {
      "cell_type": "code",
      "execution_count": null,
      "metadata": {
        "id": "vB8wBaxZa1e3"
      },
      "outputs": [],
      "source": [
        "dfprodw.drop(columns=['product_department'],inplace=True)"
      ]
    },
    {
      "cell_type": "markdown",
      "metadata": {
        "id": "mtLdimvGWpQ9"
      },
      "source": [
        "one hot encoding untuk data object serta standard scaler untuk data keseluruhan"
      ]
    },
    {
      "cell_type": "code",
      "execution_count": null,
      "metadata": {
        "colab": {
          "base_uri": "https://localhost:8080/",
          "height": 386
        },
        "id": "XBoxs_ApbDIg",
        "outputId": "5e861511-89cc-4681-ec4e-95274cae08b2"
      },
      "outputs": [
        {
          "output_type": "execute_result",
          "data": {
            "text/plain": [
              "       cost  product_retail_price  product_category_Accessories  \\\n",
              "0 -0.992125             -0.878185                     -0.220349   \n",
              "1 -0.992125             -0.878185                     -0.220349   \n",
              "2 -0.992125             -0.878185                     -0.220349   \n",
              "3 -0.992125             -0.878185                     -0.220349   \n",
              "4 -0.992125             -0.878185                     -0.220349   \n",
              "\n",
              "   product_category_Active  product_category_Blazers & Jackets  \\\n",
              "0                -0.212873                           -0.189351   \n",
              "1                -0.212873                           -0.189351   \n",
              "2                -0.212873                           -0.189351   \n",
              "3                -0.212873                           -0.189351   \n",
              "4                -0.212873                           -0.189351   \n",
              "\n",
              "   product_category_Clothing Sets  product_category_Dresses  \\\n",
              "0                        -0.05021                 -0.252568   \n",
              "1                        -0.05021                 -0.252568   \n",
              "2                        -0.05021                 -0.252568   \n",
              "3                        -0.05021                 -0.252568   \n",
              "4                        -0.05021                 -0.252568   \n",
              "\n",
              "   product_category_Fashion Hoodies & Sweatshirts  product_category_Intimates  \\\n",
              "0                                       -0.243746                   -0.419223   \n",
              "1                                       -0.243746                   -0.419223   \n",
              "2                                       -0.243746                   -0.419223   \n",
              "3                                       -0.243746                   -0.419223   \n",
              "4                                       -0.243746                   -0.419223   \n",
              "\n",
              "   product_category_Jeans  ...  name_Charleston SC  name_Chicago IL  \\\n",
              "0               -0.241626  ...           -0.341796        -0.431919   \n",
              "1               -0.241626  ...           -0.341796        -0.431919   \n",
              "2               -0.241626  ...           -0.341796        -0.431919   \n",
              "3               -0.241626  ...           -0.341796        -0.431919   \n",
              "4               -0.241626  ...           -0.341796        -0.431919   \n",
              "\n",
              "   name_Houston TX  name_Los Angeles CA  name_Memphis TN  name_Mobile AL  \\\n",
              "0         2.544907            -0.311079        -0.393855       -0.323199   \n",
              "1         2.544907            -0.311079        -0.393855       -0.323199   \n",
              "2         2.544907            -0.311079        -0.393855       -0.323199   \n",
              "3         2.544907            -0.311079        -0.393855       -0.323199   \n",
              "4         2.544907            -0.311079        -0.393855       -0.323199   \n",
              "\n",
              "   name_New Orleans LA  name_Philadelphia PA  \\\n",
              "0            -0.295585              -0.29777   \n",
              "1            -0.295585              -0.29777   \n",
              "2            -0.295585              -0.29777   \n",
              "3            -0.295585              -0.29777   \n",
              "4            -0.295585              -0.29777   \n",
              "\n",
              "   name_Port Authority of New York/New Jersey NY/NJ  name_Savannah GA  \n",
              "0                                         -0.275839         -0.240823  \n",
              "1                                         -0.275839         -0.240823  \n",
              "2                                         -0.275839         -0.240823  \n",
              "3                                         -0.275839         -0.240823  \n",
              "4                                         -0.275839         -0.240823  \n",
              "\n",
              "[5 rows x 34 columns]"
            ],
            "text/html": [
              "\n",
              "  <div id=\"df-353588e2-cdfd-452d-b6f9-e292ae4b7ad8\">\n",
              "    <div class=\"colab-df-container\">\n",
              "      <div>\n",
              "<style scoped>\n",
              "    .dataframe tbody tr th:only-of-type {\n",
              "        vertical-align: middle;\n",
              "    }\n",
              "\n",
              "    .dataframe tbody tr th {\n",
              "        vertical-align: top;\n",
              "    }\n",
              "\n",
              "    .dataframe thead th {\n",
              "        text-align: right;\n",
              "    }\n",
              "</style>\n",
              "<table border=\"1\" class=\"dataframe\">\n",
              "  <thead>\n",
              "    <tr style=\"text-align: right;\">\n",
              "      <th></th>\n",
              "      <th>cost</th>\n",
              "      <th>product_retail_price</th>\n",
              "      <th>product_category_Accessories</th>\n",
              "      <th>product_category_Active</th>\n",
              "      <th>product_category_Blazers &amp; Jackets</th>\n",
              "      <th>product_category_Clothing Sets</th>\n",
              "      <th>product_category_Dresses</th>\n",
              "      <th>product_category_Fashion Hoodies &amp; Sweatshirts</th>\n",
              "      <th>product_category_Intimates</th>\n",
              "      <th>product_category_Jeans</th>\n",
              "      <th>...</th>\n",
              "      <th>name_Charleston SC</th>\n",
              "      <th>name_Chicago IL</th>\n",
              "      <th>name_Houston TX</th>\n",
              "      <th>name_Los Angeles CA</th>\n",
              "      <th>name_Memphis TN</th>\n",
              "      <th>name_Mobile AL</th>\n",
              "      <th>name_New Orleans LA</th>\n",
              "      <th>name_Philadelphia PA</th>\n",
              "      <th>name_Port Authority of New York/New Jersey NY/NJ</th>\n",
              "      <th>name_Savannah GA</th>\n",
              "    </tr>\n",
              "  </thead>\n",
              "  <tbody>\n",
              "    <tr>\n",
              "      <th>0</th>\n",
              "      <td>-0.992125</td>\n",
              "      <td>-0.878185</td>\n",
              "      <td>-0.220349</td>\n",
              "      <td>-0.212873</td>\n",
              "      <td>-0.189351</td>\n",
              "      <td>-0.05021</td>\n",
              "      <td>-0.252568</td>\n",
              "      <td>-0.243746</td>\n",
              "      <td>-0.419223</td>\n",
              "      <td>-0.241626</td>\n",
              "      <td>...</td>\n",
              "      <td>-0.341796</td>\n",
              "      <td>-0.431919</td>\n",
              "      <td>2.544907</td>\n",
              "      <td>-0.311079</td>\n",
              "      <td>-0.393855</td>\n",
              "      <td>-0.323199</td>\n",
              "      <td>-0.295585</td>\n",
              "      <td>-0.29777</td>\n",
              "      <td>-0.275839</td>\n",
              "      <td>-0.240823</td>\n",
              "    </tr>\n",
              "    <tr>\n",
              "      <th>1</th>\n",
              "      <td>-0.992125</td>\n",
              "      <td>-0.878185</td>\n",
              "      <td>-0.220349</td>\n",
              "      <td>-0.212873</td>\n",
              "      <td>-0.189351</td>\n",
              "      <td>-0.05021</td>\n",
              "      <td>-0.252568</td>\n",
              "      <td>-0.243746</td>\n",
              "      <td>-0.419223</td>\n",
              "      <td>-0.241626</td>\n",
              "      <td>...</td>\n",
              "      <td>-0.341796</td>\n",
              "      <td>-0.431919</td>\n",
              "      <td>2.544907</td>\n",
              "      <td>-0.311079</td>\n",
              "      <td>-0.393855</td>\n",
              "      <td>-0.323199</td>\n",
              "      <td>-0.295585</td>\n",
              "      <td>-0.29777</td>\n",
              "      <td>-0.275839</td>\n",
              "      <td>-0.240823</td>\n",
              "    </tr>\n",
              "    <tr>\n",
              "      <th>2</th>\n",
              "      <td>-0.992125</td>\n",
              "      <td>-0.878185</td>\n",
              "      <td>-0.220349</td>\n",
              "      <td>-0.212873</td>\n",
              "      <td>-0.189351</td>\n",
              "      <td>-0.05021</td>\n",
              "      <td>-0.252568</td>\n",
              "      <td>-0.243746</td>\n",
              "      <td>-0.419223</td>\n",
              "      <td>-0.241626</td>\n",
              "      <td>...</td>\n",
              "      <td>-0.341796</td>\n",
              "      <td>-0.431919</td>\n",
              "      <td>2.544907</td>\n",
              "      <td>-0.311079</td>\n",
              "      <td>-0.393855</td>\n",
              "      <td>-0.323199</td>\n",
              "      <td>-0.295585</td>\n",
              "      <td>-0.29777</td>\n",
              "      <td>-0.275839</td>\n",
              "      <td>-0.240823</td>\n",
              "    </tr>\n",
              "    <tr>\n",
              "      <th>3</th>\n",
              "      <td>-0.992125</td>\n",
              "      <td>-0.878185</td>\n",
              "      <td>-0.220349</td>\n",
              "      <td>-0.212873</td>\n",
              "      <td>-0.189351</td>\n",
              "      <td>-0.05021</td>\n",
              "      <td>-0.252568</td>\n",
              "      <td>-0.243746</td>\n",
              "      <td>-0.419223</td>\n",
              "      <td>-0.241626</td>\n",
              "      <td>...</td>\n",
              "      <td>-0.341796</td>\n",
              "      <td>-0.431919</td>\n",
              "      <td>2.544907</td>\n",
              "      <td>-0.311079</td>\n",
              "      <td>-0.393855</td>\n",
              "      <td>-0.323199</td>\n",
              "      <td>-0.295585</td>\n",
              "      <td>-0.29777</td>\n",
              "      <td>-0.275839</td>\n",
              "      <td>-0.240823</td>\n",
              "    </tr>\n",
              "    <tr>\n",
              "      <th>4</th>\n",
              "      <td>-0.992125</td>\n",
              "      <td>-0.878185</td>\n",
              "      <td>-0.220349</td>\n",
              "      <td>-0.212873</td>\n",
              "      <td>-0.189351</td>\n",
              "      <td>-0.05021</td>\n",
              "      <td>-0.252568</td>\n",
              "      <td>-0.243746</td>\n",
              "      <td>-0.419223</td>\n",
              "      <td>-0.241626</td>\n",
              "      <td>...</td>\n",
              "      <td>-0.341796</td>\n",
              "      <td>-0.431919</td>\n",
              "      <td>2.544907</td>\n",
              "      <td>-0.311079</td>\n",
              "      <td>-0.393855</td>\n",
              "      <td>-0.323199</td>\n",
              "      <td>-0.295585</td>\n",
              "      <td>-0.29777</td>\n",
              "      <td>-0.275839</td>\n",
              "      <td>-0.240823</td>\n",
              "    </tr>\n",
              "  </tbody>\n",
              "</table>\n",
              "<p>5 rows × 34 columns</p>\n",
              "</div>\n",
              "      <button class=\"colab-df-convert\" onclick=\"convertToInteractive('df-353588e2-cdfd-452d-b6f9-e292ae4b7ad8')\"\n",
              "              title=\"Convert this dataframe to an interactive table.\"\n",
              "              style=\"display:none;\">\n",
              "        \n",
              "  <svg xmlns=\"http://www.w3.org/2000/svg\" height=\"24px\"viewBox=\"0 0 24 24\"\n",
              "       width=\"24px\">\n",
              "    <path d=\"M0 0h24v24H0V0z\" fill=\"none\"/>\n",
              "    <path d=\"M18.56 5.44l.94 2.06.94-2.06 2.06-.94-2.06-.94-.94-2.06-.94 2.06-2.06.94zm-11 1L8.5 8.5l.94-2.06 2.06-.94-2.06-.94L8.5 2.5l-.94 2.06-2.06.94zm10 10l.94 2.06.94-2.06 2.06-.94-2.06-.94-.94-2.06-.94 2.06-2.06.94z\"/><path d=\"M17.41 7.96l-1.37-1.37c-.4-.4-.92-.59-1.43-.59-.52 0-1.04.2-1.43.59L10.3 9.45l-7.72 7.72c-.78.78-.78 2.05 0 2.83L4 21.41c.39.39.9.59 1.41.59.51 0 1.02-.2 1.41-.59l7.78-7.78 2.81-2.81c.8-.78.8-2.07 0-2.86zM5.41 20L4 18.59l7.72-7.72 1.47 1.35L5.41 20z\"/>\n",
              "  </svg>\n",
              "      </button>\n",
              "      \n",
              "  <style>\n",
              "    .colab-df-container {\n",
              "      display:flex;\n",
              "      flex-wrap:wrap;\n",
              "      gap: 12px;\n",
              "    }\n",
              "\n",
              "    .colab-df-convert {\n",
              "      background-color: #E8F0FE;\n",
              "      border: none;\n",
              "      border-radius: 50%;\n",
              "      cursor: pointer;\n",
              "      display: none;\n",
              "      fill: #1967D2;\n",
              "      height: 32px;\n",
              "      padding: 0 0 0 0;\n",
              "      width: 32px;\n",
              "    }\n",
              "\n",
              "    .colab-df-convert:hover {\n",
              "      background-color: #E2EBFA;\n",
              "      box-shadow: 0px 1px 2px rgba(60, 64, 67, 0.3), 0px 1px 3px 1px rgba(60, 64, 67, 0.15);\n",
              "      fill: #174EA6;\n",
              "    }\n",
              "\n",
              "    [theme=dark] .colab-df-convert {\n",
              "      background-color: #3B4455;\n",
              "      fill: #D2E3FC;\n",
              "    }\n",
              "\n",
              "    [theme=dark] .colab-df-convert:hover {\n",
              "      background-color: #434B5C;\n",
              "      box-shadow: 0px 1px 3px 1px rgba(0, 0, 0, 0.15);\n",
              "      filter: drop-shadow(0px 1px 2px rgba(0, 0, 0, 0.3));\n",
              "      fill: #FFFFFF;\n",
              "    }\n",
              "  </style>\n",
              "\n",
              "      <script>\n",
              "        const buttonEl =\n",
              "          document.querySelector('#df-353588e2-cdfd-452d-b6f9-e292ae4b7ad8 button.colab-df-convert');\n",
              "        buttonEl.style.display =\n",
              "          google.colab.kernel.accessAllowed ? 'block' : 'none';\n",
              "\n",
              "        async function convertToInteractive(key) {\n",
              "          const element = document.querySelector('#df-353588e2-cdfd-452d-b6f9-e292ae4b7ad8');\n",
              "          const dataTable =\n",
              "            await google.colab.kernel.invokeFunction('convertToInteractive',\n",
              "                                                     [key], {});\n",
              "          if (!dataTable) return;\n",
              "\n",
              "          const docLinkHtml = 'Like what you see? Visit the ' +\n",
              "            '<a target=\"_blank\" href=https://colab.research.google.com/notebooks/data_table.ipynb>data table notebook</a>'\n",
              "            + ' to learn more about interactive tables.';\n",
              "          element.innerHTML = '';\n",
              "          dataTable['output_type'] = 'display_data';\n",
              "          await google.colab.output.renderOutput(dataTable, element);\n",
              "          const docLink = document.createElement('div');\n",
              "          docLink.innerHTML = docLinkHtml;\n",
              "          element.appendChild(docLink);\n",
              "        }\n",
              "      </script>\n",
              "    </div>\n",
              "  </div>\n",
              "  "
            ]
          },
          "metadata": {},
          "execution_count": 37
        }
      ],
      "source": [
        "encoder.fit(dfprodw.select_dtypes(include=\"object\"))\n",
        "dfprodw_onehot = pd.DataFrame(encoder.transform(dfprodw.select_dtypes(include=\"object\")).toarray(),columns=encoder.get_feature_names_out())\n",
        "\n",
        "dfprodw_preprocessed = pd.concat([dfprodw.select_dtypes(exclude=\"object\"), dfprodw_onehot],axis=1)\n",
        "\n",
        "scaler.fit(dfprodw_preprocessed)\n",
        "dfprodw_scaled = pd.DataFrame(scaler.transform(dfprodw_preprocessed),columns=dfprodw_preprocessed.columns)\n",
        "\n",
        "dfprodw_scaled.head()"
      ]
    },
    {
      "cell_type": "markdown",
      "metadata": {
        "id": "jp_KoKWVW2md"
      },
      "source": [
        "clustering mini batch kmeans dengan k=10"
      ]
    },
    {
      "cell_type": "code",
      "execution_count": null,
      "metadata": {
        "colab": {
          "base_uri": "https://localhost:8080/"
        },
        "id": "2TbYNsuzc3Bw",
        "outputId": "26704617-7c60-42f4-ebf4-9b02b60111be"
      },
      "outputs": [
        {
          "output_type": "execute_result",
          "data": {
            "text/plain": [
              "MiniBatchKMeans(n_clusters=10)"
            ]
          },
          "metadata": {},
          "execution_count": 38
        }
      ],
      "source": [
        "k=10\n",
        "km_10_w= MiniBatchKMeans(n_clusters=k)\n",
        "\n",
        "km_10_w.fit(dfprodw_scaled)"
      ]
    },
    {
      "cell_type": "markdown",
      "metadata": {
        "id": "QjmDBV13W4Rz"
      },
      "source": [
        "clustering mini batch kmeans dengan k=20"
      ]
    },
    {
      "cell_type": "code",
      "execution_count": null,
      "metadata": {
        "colab": {
          "base_uri": "https://localhost:8080/"
        },
        "id": "43EqrvYXghTz",
        "outputId": "dd932ffd-13aa-4525-9d75-9c2b1a1bde7f"
      },
      "outputs": [
        {
          "output_type": "execute_result",
          "data": {
            "text/plain": [
              "MiniBatchKMeans(n_clusters=20)"
            ]
          },
          "metadata": {},
          "execution_count": 39
        }
      ],
      "source": [
        "k=20\n",
        "km_20_w= MiniBatchKMeans(n_clusters=k)\n",
        "km_20_w.fit(dfprodw_scaled)"
      ]
    },
    {
      "cell_type": "code",
      "execution_count": null,
      "metadata": {
        "colab": {
          "base_uri": "https://localhost:8080/",
          "height": 424
        },
        "id": "6lUk5jG7hIb7",
        "outputId": "5abd0408-e3e9-42b5-8f45-c8fa888b0f98"
      },
      "outputs": [
        {
          "output_type": "execute_result",
          "data": {
            "text/plain": [
              "             cost product_category  product_retail_price           name  \\\n",
              "0        5.712000  Socks & Hosiery             16.000000     Houston TX   \n",
              "1        5.712000  Socks & Hosiery             16.000000     Houston TX   \n",
              "2        5.712000  Socks & Hosiery             16.000000     Houston TX   \n",
              "3        5.712000  Socks & Hosiery             16.000000     Houston TX   \n",
              "4        5.712000  Socks & Hosiery             16.000000     Houston TX   \n",
              "...           ...              ...                   ...            ...   \n",
              "242968  15.752521        Maternity             35.720001  Charleston SC   \n",
              "242969  15.752521        Maternity             35.720001  Charleston SC   \n",
              "242970  15.752521        Maternity             35.720001  Charleston SC   \n",
              "242971  15.752521        Maternity             35.720001  Charleston SC   \n",
              "242972  15.752521        Maternity             35.720001  Charleston SC   \n",
              "\n",
              "        clusters_of_10_w  clusters_of_20_w  \n",
              "0                      0                 9  \n",
              "1                      0                 9  \n",
              "2                      0                 9  \n",
              "3                      0                 9  \n",
              "4                      0                 9  \n",
              "...                  ...               ...  \n",
              "242968                 3                16  \n",
              "242969                 3                16  \n",
              "242970                 3                16  \n",
              "242971                 3                16  \n",
              "242972                 3                16  \n",
              "\n",
              "[242973 rows x 6 columns]"
            ],
            "text/html": [
              "\n",
              "  <div id=\"df-d8a87fab-a1ae-4722-913d-c190f95fc373\">\n",
              "    <div class=\"colab-df-container\">\n",
              "      <div>\n",
              "<style scoped>\n",
              "    .dataframe tbody tr th:only-of-type {\n",
              "        vertical-align: middle;\n",
              "    }\n",
              "\n",
              "    .dataframe tbody tr th {\n",
              "        vertical-align: top;\n",
              "    }\n",
              "\n",
              "    .dataframe thead th {\n",
              "        text-align: right;\n",
              "    }\n",
              "</style>\n",
              "<table border=\"1\" class=\"dataframe\">\n",
              "  <thead>\n",
              "    <tr style=\"text-align: right;\">\n",
              "      <th></th>\n",
              "      <th>cost</th>\n",
              "      <th>product_category</th>\n",
              "      <th>product_retail_price</th>\n",
              "      <th>name</th>\n",
              "      <th>clusters_of_10_w</th>\n",
              "      <th>clusters_of_20_w</th>\n",
              "    </tr>\n",
              "  </thead>\n",
              "  <tbody>\n",
              "    <tr>\n",
              "      <th>0</th>\n",
              "      <td>5.712000</td>\n",
              "      <td>Socks &amp; Hosiery</td>\n",
              "      <td>16.000000</td>\n",
              "      <td>Houston TX</td>\n",
              "      <td>0</td>\n",
              "      <td>9</td>\n",
              "    </tr>\n",
              "    <tr>\n",
              "      <th>1</th>\n",
              "      <td>5.712000</td>\n",
              "      <td>Socks &amp; Hosiery</td>\n",
              "      <td>16.000000</td>\n",
              "      <td>Houston TX</td>\n",
              "      <td>0</td>\n",
              "      <td>9</td>\n",
              "    </tr>\n",
              "    <tr>\n",
              "      <th>2</th>\n",
              "      <td>5.712000</td>\n",
              "      <td>Socks &amp; Hosiery</td>\n",
              "      <td>16.000000</td>\n",
              "      <td>Houston TX</td>\n",
              "      <td>0</td>\n",
              "      <td>9</td>\n",
              "    </tr>\n",
              "    <tr>\n",
              "      <th>3</th>\n",
              "      <td>5.712000</td>\n",
              "      <td>Socks &amp; Hosiery</td>\n",
              "      <td>16.000000</td>\n",
              "      <td>Houston TX</td>\n",
              "      <td>0</td>\n",
              "      <td>9</td>\n",
              "    </tr>\n",
              "    <tr>\n",
              "      <th>4</th>\n",
              "      <td>5.712000</td>\n",
              "      <td>Socks &amp; Hosiery</td>\n",
              "      <td>16.000000</td>\n",
              "      <td>Houston TX</td>\n",
              "      <td>0</td>\n",
              "      <td>9</td>\n",
              "    </tr>\n",
              "    <tr>\n",
              "      <th>...</th>\n",
              "      <td>...</td>\n",
              "      <td>...</td>\n",
              "      <td>...</td>\n",
              "      <td>...</td>\n",
              "      <td>...</td>\n",
              "      <td>...</td>\n",
              "    </tr>\n",
              "    <tr>\n",
              "      <th>242968</th>\n",
              "      <td>15.752521</td>\n",
              "      <td>Maternity</td>\n",
              "      <td>35.720001</td>\n",
              "      <td>Charleston SC</td>\n",
              "      <td>3</td>\n",
              "      <td>16</td>\n",
              "    </tr>\n",
              "    <tr>\n",
              "      <th>242969</th>\n",
              "      <td>15.752521</td>\n",
              "      <td>Maternity</td>\n",
              "      <td>35.720001</td>\n",
              "      <td>Charleston SC</td>\n",
              "      <td>3</td>\n",
              "      <td>16</td>\n",
              "    </tr>\n",
              "    <tr>\n",
              "      <th>242970</th>\n",
              "      <td>15.752521</td>\n",
              "      <td>Maternity</td>\n",
              "      <td>35.720001</td>\n",
              "      <td>Charleston SC</td>\n",
              "      <td>3</td>\n",
              "      <td>16</td>\n",
              "    </tr>\n",
              "    <tr>\n",
              "      <th>242971</th>\n",
              "      <td>15.752521</td>\n",
              "      <td>Maternity</td>\n",
              "      <td>35.720001</td>\n",
              "      <td>Charleston SC</td>\n",
              "      <td>3</td>\n",
              "      <td>16</td>\n",
              "    </tr>\n",
              "    <tr>\n",
              "      <th>242972</th>\n",
              "      <td>15.752521</td>\n",
              "      <td>Maternity</td>\n",
              "      <td>35.720001</td>\n",
              "      <td>Charleston SC</td>\n",
              "      <td>3</td>\n",
              "      <td>16</td>\n",
              "    </tr>\n",
              "  </tbody>\n",
              "</table>\n",
              "<p>242973 rows × 6 columns</p>\n",
              "</div>\n",
              "      <button class=\"colab-df-convert\" onclick=\"convertToInteractive('df-d8a87fab-a1ae-4722-913d-c190f95fc373')\"\n",
              "              title=\"Convert this dataframe to an interactive table.\"\n",
              "              style=\"display:none;\">\n",
              "        \n",
              "  <svg xmlns=\"http://www.w3.org/2000/svg\" height=\"24px\"viewBox=\"0 0 24 24\"\n",
              "       width=\"24px\">\n",
              "    <path d=\"M0 0h24v24H0V0z\" fill=\"none\"/>\n",
              "    <path d=\"M18.56 5.44l.94 2.06.94-2.06 2.06-.94-2.06-.94-.94-2.06-.94 2.06-2.06.94zm-11 1L8.5 8.5l.94-2.06 2.06-.94-2.06-.94L8.5 2.5l-.94 2.06-2.06.94zm10 10l.94 2.06.94-2.06 2.06-.94-2.06-.94-.94-2.06-.94 2.06-2.06.94z\"/><path d=\"M17.41 7.96l-1.37-1.37c-.4-.4-.92-.59-1.43-.59-.52 0-1.04.2-1.43.59L10.3 9.45l-7.72 7.72c-.78.78-.78 2.05 0 2.83L4 21.41c.39.39.9.59 1.41.59.51 0 1.02-.2 1.41-.59l7.78-7.78 2.81-2.81c.8-.78.8-2.07 0-2.86zM5.41 20L4 18.59l7.72-7.72 1.47 1.35L5.41 20z\"/>\n",
              "  </svg>\n",
              "      </button>\n",
              "      \n",
              "  <style>\n",
              "    .colab-df-container {\n",
              "      display:flex;\n",
              "      flex-wrap:wrap;\n",
              "      gap: 12px;\n",
              "    }\n",
              "\n",
              "    .colab-df-convert {\n",
              "      background-color: #E8F0FE;\n",
              "      border: none;\n",
              "      border-radius: 50%;\n",
              "      cursor: pointer;\n",
              "      display: none;\n",
              "      fill: #1967D2;\n",
              "      height: 32px;\n",
              "      padding: 0 0 0 0;\n",
              "      width: 32px;\n",
              "    }\n",
              "\n",
              "    .colab-df-convert:hover {\n",
              "      background-color: #E2EBFA;\n",
              "      box-shadow: 0px 1px 2px rgba(60, 64, 67, 0.3), 0px 1px 3px 1px rgba(60, 64, 67, 0.15);\n",
              "      fill: #174EA6;\n",
              "    }\n",
              "\n",
              "    [theme=dark] .colab-df-convert {\n",
              "      background-color: #3B4455;\n",
              "      fill: #D2E3FC;\n",
              "    }\n",
              "\n",
              "    [theme=dark] .colab-df-convert:hover {\n",
              "      background-color: #434B5C;\n",
              "      box-shadow: 0px 1px 3px 1px rgba(0, 0, 0, 0.15);\n",
              "      filter: drop-shadow(0px 1px 2px rgba(0, 0, 0, 0.3));\n",
              "      fill: #FFFFFF;\n",
              "    }\n",
              "  </style>\n",
              "\n",
              "      <script>\n",
              "        const buttonEl =\n",
              "          document.querySelector('#df-d8a87fab-a1ae-4722-913d-c190f95fc373 button.colab-df-convert');\n",
              "        buttonEl.style.display =\n",
              "          google.colab.kernel.accessAllowed ? 'block' : 'none';\n",
              "\n",
              "        async function convertToInteractive(key) {\n",
              "          const element = document.querySelector('#df-d8a87fab-a1ae-4722-913d-c190f95fc373');\n",
              "          const dataTable =\n",
              "            await google.colab.kernel.invokeFunction('convertToInteractive',\n",
              "                                                     [key], {});\n",
              "          if (!dataTable) return;\n",
              "\n",
              "          const docLinkHtml = 'Like what you see? Visit the ' +\n",
              "            '<a target=\"_blank\" href=https://colab.research.google.com/notebooks/data_table.ipynb>data table notebook</a>'\n",
              "            + ' to learn more about interactive tables.';\n",
              "          element.innerHTML = '';\n",
              "          dataTable['output_type'] = 'display_data';\n",
              "          await google.colab.output.renderOutput(dataTable, element);\n",
              "          const docLink = document.createElement('div');\n",
              "          docLink.innerHTML = docLinkHtml;\n",
              "          element.appendChild(docLink);\n",
              "        }\n",
              "      </script>\n",
              "    </div>\n",
              "  </div>\n",
              "  "
            ]
          },
          "metadata": {},
          "execution_count": 40
        }
      ],
      "source": [
        "dfprodw=dfprodw.assign(\n",
        "    clusters_of_10_w=km_10_w.predict(dfprodw_scaled),\n",
        "    clusters_of_20_w=km_20_w.predict(dfprodw_scaled),\n",
        ")\n",
        "\n",
        "dfprodw"
      ]
    },
    {
      "cell_type": "markdown",
      "metadata": {
        "id": "jgGC3mX2XAfl"
      },
      "source": [
        "Kardinalitas tiap cluster"
      ]
    },
    {
      "cell_type": "code",
      "execution_count": null,
      "metadata": {
        "colab": {
          "base_uri": "https://localhost:8080/",
          "height": 431
        },
        "id": "e4zO0gI8hj4k",
        "outputId": "d533b25a-1052-481e-a614-60e39ba80089"
      },
      "outputs": [
        {
          "output_type": "display_data",
          "data": {
            "text/plain": [
              "<Figure size 1296x432 with 2 Axes>"
            ],
            "image/png": "[encoded data removed]"
          },
          "metadata": {
            "needs_background": "light"
          }
        }
      ],
      "source": [
        "fig,axis = plt.subplots(1,2,figsize=(18, 6))\n",
        "for ax,preds in zip(axis, [\"clusters_of_10_w\", \"clusters_of_20_w\"]):\n",
        "    sns.countplot(x=preds, data=dfprodw, ax=ax, palette=\"Paired\")\n",
        "    ax.set_title(preds)\n",
        "plt.suptitle(\"Cluster Cardinality\")\n",
        "plt.show()"
      ]
    },
    {
      "cell_type": "markdown",
      "metadata": {
        "id": "adDaUZoDXDA3"
      },
      "source": [
        "1. Pada k=10, nampak kardinalitas cluster 2 jauh lebih tinggi dari cluster lain\n",
        "2. Pada k=20, nampak cluster 9 memiliki kardinalitas jauh lebih tinggi daripada cluster lain"
      ]
    },
    {
      "cell_type": "markdown",
      "metadata": {
        "id": "k29NxfFVXMfG"
      },
      "source": [
        "Magnitude tiap cluster"
      ]
    },
    {
      "cell_type": "code",
      "execution_count": null,
      "metadata": {
        "colab": {
          "base_uri": "https://localhost:8080/",
          "height": 414
        },
        "id": "Pu3ihWl4i4cl",
        "outputId": "2b906d82-75a0-4aae-ae75-a0098d290096"
      },
      "outputs": [
        {
          "output_type": "display_data",
          "data": {
            "text/plain": [
              "<Figure size 1296x432 with 2 Axes>"
            ],
            "image/png": "[encoded data removed]"
          },
          "metadata": {
            "needs_background": "light"
          }
        }
      ],
      "source": [
        "fig,axis = plt.subplots(1, 2, figsize=(18, 6))\n",
        "for ax,model,name in zip(axis,[km_10_w, km_20_w],[\"kmeans_10_w\",\"kmeans_20_w\"]):\n",
        "    distances=model.transform(dfprodw_scaled)\n",
        "    preds=model.predict(dfprodw_scaled)\n",
        "    inertia_per_cluster=np.array([sum(dist[c]**2 for dist,c in zip(distances,preds) if c==cluster)\n",
        "        for cluster in range(model.n_clusters)])\n",
        "    ax.bar(x=range(model.n_clusters),height=inertia_per_cluster)\n",
        "    ax.set_title(name)\n",
        "plt.suptitle(\"Cluster Magnitude\")\n",
        "plt.show()"
      ]
    },
    {
      "cell_type": "markdown",
      "metadata": {
        "id": "IBqeLZl5XU0c"
      },
      "source": [
        "1. Pada k=10, nampak magnitude cluster 2 dan 4 jauh lebih tinggi dari cluster lain\n",
        "2. Pada k=20, nampak cluster 4,10,11 memiliki magnitude jauh lebih tinggi daripada cluster lain"
      ]
    },
    {
      "cell_type": "markdown",
      "metadata": {
        "id": "yhzp5cDPXg10"
      },
      "source": [
        "Pemilihan jumlah cluster terbaik menggunakan elbow method"
      ]
    },
    {
      "cell_type": "code",
      "execution_count": null,
      "metadata": {
        "id": "A-V4xquJjhLz"
      },
      "outputs": [],
      "source": [
        "ssd = []\n",
        "\n",
        "for k in range(10, 21):\n",
        "    model=KMeans(n_clusters=k, random_state=19)\n",
        "    model.fit(dfprodw_scaled)\n",
        "\n",
        "    ssd.append(model.inertia_)"
      ]
    },
    {
      "cell_type": "code",
      "execution_count": null,
      "metadata": {
        "colab": {
          "base_uri": "https://localhost:8080/",
          "height": 382
        },
        "id": "ruAmL5YskHyL",
        "outputId": "41334b19-6da9-49ca-b0a9-4d2601627a22"
      },
      "outputs": [
        {
          "output_type": "display_data",
          "data": {
            "text/plain": [
              "<Figure size 864x432 with 1 Axes>"
            ],
            "image/png": "[encoded data removed]"
          },
          "metadata": {
            "needs_background": "light"
          }
        }
      ],
      "source": [
        "plt.figure(figsize=(12, 6))\n",
        "sns.lineplot(x=range(10, 21), y=ssd)\n",
        "sns.scatterplot(x=range(10, 21), y=ssd)\n",
        "plt.xticks(range(10, 21))\n",
        "plt.show()"
      ]
    },
    {
      "cell_type": "markdown",
      "metadata": {
        "id": "I05rZ77gXs20"
      },
      "source": [
        "Nampak bahwa jumlah cluster ideal berdasar elbow method adalah 20"
      ]
    },
    {
      "cell_type": "markdown",
      "metadata": {
        "id": "HAyLR9IFX8Wv"
      },
      "source": [
        "Pemilihan jumlah cluster terbaik menggunakan silhouette score"
      ]
    },
    {
      "cell_type": "code",
      "execution_count": null,
      "metadata": {
        "id": "8XrL0ae1kdiR"
      },
      "outputs": [],
      "source": [
        "silhouette_scores = []\n",
        "\n",
        "for k in range(11, 21):\n",
        "    model = KMeans(n_clusters=k, random_state=11)\n",
        "    model.fit(dfprodw_scaled)\n",
        "\n",
        "    silhouette_scores.append(silhouette_score(dfprodw_scaled, model.labels_))"
      ]
    },
    {
      "cell_type": "code",
      "execution_count": null,
      "metadata": {
        "colab": {
          "base_uri": "https://localhost:8080/"
        },
        "id": "UxP6xnAvlBPn",
        "outputId": "06a48a18-838b-4f9d-c403-3b587981a8a9"
      },
      "outputs": [
        {
          "output_type": "display_data",
          "data": {
            "text/plain": [
              "<Figure size 864x432 with 1 Axes>"
            ],
            "image/png": "[encoded data removed]"
          },
          "metadata": {
            "needs_background": "light"
          }
        }
      ],
      "source": [
        "plt.figure(figsize=(12, 6))\n",
        "sns.lineplot(x=range(11, 21), y=silhouette_scores)\n",
        "sns.scatterplot(x=range(11, 21), y=silhouette_scores)\n",
        "plt.xticks(range(10, 21))\n",
        "plt.show()"
      ]
    },
    {
      "cell_type": "markdown",
      "metadata": {
        "id": "lvlKIdjeYCye"
      },
      "source": [
        "Nampak bahwa jumlah cluster ideal berdasar silhouette score adalah 20"
      ]
    },
    {
      "cell_type": "code",
      "execution_count": null,
      "metadata": {
        "id": "kDtn28mklM5V"
      },
      "outputs": [],
      "source": [
        "del dfprodw['clusters_of_10_w']"
      ]
    },
    {
      "cell_type": "code",
      "execution_count": null,
      "metadata": {
        "colab": {
          "base_uri": "https://localhost:8080/"
        },
        "id": "48GS52jZQLwo",
        "outputId": "dd13b576-3811-443d-b51b-6aafae05e5b3"
      },
      "outputs": [
        {
          "output_type": "execute_result",
          "data": {
            "text/plain": [
              "             cost product_category  product_retail_price           name  \\\n",
              "0        5.712000  Socks & Hosiery             16.000000     Houston TX   \n",
              "1        5.712000  Socks & Hosiery             16.000000     Houston TX   \n",
              "2        5.712000  Socks & Hosiery             16.000000     Houston TX   \n",
              "3        5.712000  Socks & Hosiery             16.000000     Houston TX   \n",
              "4        5.712000  Socks & Hosiery             16.000000     Houston TX   \n",
              "...           ...              ...                   ...            ...   \n",
              "242968  15.752521        Maternity             35.720001  Charleston SC   \n",
              "242969  15.752521        Maternity             35.720001  Charleston SC   \n",
              "242970  15.752521        Maternity             35.720001  Charleston SC   \n",
              "242971  15.752521        Maternity             35.720001  Charleston SC   \n",
              "242972  15.752521        Maternity             35.720001  Charleston SC   \n",
              "\n",
              "        clusters_of_20_w  \n",
              "0                      9  \n",
              "1                      9  \n",
              "2                      9  \n",
              "3                      9  \n",
              "4                      9  \n",
              "...                  ...  \n",
              "242968                16  \n",
              "242969                16  \n",
              "242970                16  \n",
              "242971                16  \n",
              "242972                16  \n",
              "\n",
              "[242973 rows x 5 columns]"
            ],
            "text/html": [
              "\n",
              "  <div id=\"df-6cff5bed-ec05-48a3-b9f9-1a96e7a8a05e\">\n",
              "    <div class=\"colab-df-container\">\n",
              "      <div>\n",
              "<style scoped>\n",
              "    .dataframe tbody tr th:only-of-type {\n",
              "        vertical-align: middle;\n",
              "    }\n",
              "\n",
              "    .dataframe tbody tr th {\n",
              "        vertical-align: top;\n",
              "    }\n",
              "\n",
              "    .dataframe thead th {\n",
              "        text-align: right;\n",
              "    }\n",
              "</style>\n",
              "<table border=\"1\" class=\"dataframe\">\n",
              "  <thead>\n",
              "    <tr style=\"text-align: right;\">\n",
              "      <th></th>\n",
              "      <th>cost</th>\n",
              "      <th>product_category</th>\n",
              "      <th>product_retail_price</th>\n",
              "      <th>name</th>\n",
              "      <th>clusters_of_20_w</th>\n",
              "    </tr>\n",
              "  </thead>\n",
              "  <tbody>\n",
              "    <tr>\n",
              "      <th>0</th>\n",
              "      <td>5.712000</td>\n",
              "      <td>Socks &amp; Hosiery</td>\n",
              "      <td>16.000000</td>\n",
              "      <td>Houston TX</td>\n",
              "      <td>9</td>\n",
              "    </tr>\n",
              "    <tr>\n",
              "      <th>1</th>\n",
              "      <td>5.712000</td>\n",
              "      <td>Socks &amp; Hosiery</td>\n",
              "      <td>16.000000</td>\n",
              "      <td>Houston TX</td>\n",
              "      <td>9</td>\n",
              "    </tr>\n",
              "    <tr>\n",
              "      <th>2</th>\n",
              "      <td>5.712000</td>\n",
              "      <td>Socks &amp; Hosiery</td>\n",
              "      <td>16.000000</td>\n",
              "      <td>Houston TX</td>\n",
              "      <td>9</td>\n",
              "    </tr>\n",
              "    <tr>\n",
              "      <th>3</th>\n",
              "      <td>5.712000</td>\n",
              "      <td>Socks &amp; Hosiery</td>\n",
              "      <td>16.000000</td>\n",
              "      <td>Houston TX</td>\n",
              "      <td>9</td>\n",
              "    </tr>\n",
              "    <tr>\n",
              "      <th>4</th>\n",
              "      <td>5.712000</td>\n",
              "      <td>Socks &amp; Hosiery</td>\n",
              "      <td>16.000000</td>\n",
              "      <td>Houston TX</td>\n",
              "      <td>9</td>\n",
              "    </tr>\n",
              "    <tr>\n",
              "      <th>...</th>\n",
              "      <td>...</td>\n",
              "      <td>...</td>\n",
              "      <td>...</td>\n",
              "      <td>...</td>\n",
              "      <td>...</td>\n",
              "    </tr>\n",
              "    <tr>\n",
              "      <th>242968</th>\n",
              "      <td>15.752521</td>\n",
              "      <td>Maternity</td>\n",
              "      <td>35.720001</td>\n",
              "      <td>Charleston SC</td>\n",
              "      <td>16</td>\n",
              "    </tr>\n",
              "    <tr>\n",
              "      <th>242969</th>\n",
              "      <td>15.752521</td>\n",
              "      <td>Maternity</td>\n",
              "      <td>35.720001</td>\n",
              "      <td>Charleston SC</td>\n",
              "      <td>16</td>\n",
              "    </tr>\n",
              "    <tr>\n",
              "      <th>242970</th>\n",
              "      <td>15.752521</td>\n",
              "      <td>Maternity</td>\n",
              "      <td>35.720001</td>\n",
              "      <td>Charleston SC</td>\n",
              "      <td>16</td>\n",
              "    </tr>\n",
              "    <tr>\n",
              "      <th>242971</th>\n",
              "      <td>15.752521</td>\n",
              "      <td>Maternity</td>\n",
              "      <td>35.720001</td>\n",
              "      <td>Charleston SC</td>\n",
              "      <td>16</td>\n",
              "    </tr>\n",
              "    <tr>\n",
              "      <th>242972</th>\n",
              "      <td>15.752521</td>\n",
              "      <td>Maternity</td>\n",
              "      <td>35.720001</td>\n",
              "      <td>Charleston SC</td>\n",
              "      <td>16</td>\n",
              "    </tr>\n",
              "  </tbody>\n",
              "</table>\n",
              "<p>242973 rows × 5 columns</p>\n",
              "</div>\n",
              "      <button class=\"colab-df-convert\" onclick=\"convertToInteractive('df-6cff5bed-ec05-48a3-b9f9-1a96e7a8a05e')\"\n",
              "              title=\"Convert this dataframe to an interactive table.\"\n",
              "              style=\"display:none;\">\n",
              "        \n",
              "  <svg xmlns=\"http://www.w3.org/2000/svg\" height=\"24px\"viewBox=\"0 0 24 24\"\n",
              "       width=\"24px\">\n",
              "    <path d=\"M0 0h24v24H0V0z\" fill=\"none\"/>\n",
              "    <path d=\"M18.56 5.44l.94 2.06.94-2.06 2.06-.94-2.06-.94-.94-2.06-.94 2.06-2.06.94zm-11 1L8.5 8.5l.94-2.06 2.06-.94-2.06-.94L8.5 2.5l-.94 2.06-2.06.94zm10 10l.94 2.06.94-2.06 2.06-.94-2.06-.94-.94-2.06-.94 2.06-2.06.94z\"/><path d=\"M17.41 7.96l-1.37-1.37c-.4-.4-.92-.59-1.43-.59-.52 0-1.04.2-1.43.59L10.3 9.45l-7.72 7.72c-.78.78-.78 2.05 0 2.83L4 21.41c.39.39.9.59 1.41.59.51 0 1.02-.2 1.41-.59l7.78-7.78 2.81-2.81c.8-.78.8-2.07 0-2.86zM5.41 20L4 18.59l7.72-7.72 1.47 1.35L5.41 20z\"/>\n",
              "  </svg>\n",
              "      </button>\n",
              "      \n",
              "  <style>\n",
              "    .colab-df-container {\n",
              "      display:flex;\n",
              "      flex-wrap:wrap;\n",
              "      gap: 12px;\n",
              "    }\n",
              "\n",
              "    .colab-df-convert {\n",
              "      background-color: #E8F0FE;\n",
              "      border: none;\n",
              "      border-radius: 50%;\n",
              "      cursor: pointer;\n",
              "      display: none;\n",
              "      fill: #1967D2;\n",
              "      height: 32px;\n",
              "      padding: 0 0 0 0;\n",
              "      width: 32px;\n",
              "    }\n",
              "\n",
              "    .colab-df-convert:hover {\n",
              "      background-color: #E2EBFA;\n",
              "      box-shadow: 0px 1px 2px rgba(60, 64, 67, 0.3), 0px 1px 3px 1px rgba(60, 64, 67, 0.15);\n",
              "      fill: #174EA6;\n",
              "    }\n",
              "\n",
              "    [theme=dark] .colab-df-convert {\n",
              "      background-color: #3B4455;\n",
              "      fill: #D2E3FC;\n",
              "    }\n",
              "\n",
              "    [theme=dark] .colab-df-convert:hover {\n",
              "      background-color: #434B5C;\n",
              "      box-shadow: 0px 1px 3px 1px rgba(0, 0, 0, 0.15);\n",
              "      filter: drop-shadow(0px 1px 2px rgba(0, 0, 0, 0.3));\n",
              "      fill: #FFFFFF;\n",
              "    }\n",
              "  </style>\n",
              "\n",
              "      <script>\n",
              "        const buttonEl =\n",
              "          document.querySelector('#df-6cff5bed-ec05-48a3-b9f9-1a96e7a8a05e button.colab-df-convert');\n",
              "        buttonEl.style.display =\n",
              "          google.colab.kernel.accessAllowed ? 'block' : 'none';\n",
              "\n",
              "        async function convertToInteractive(key) {\n",
              "          const element = document.querySelector('#df-6cff5bed-ec05-48a3-b9f9-1a96e7a8a05e');\n",
              "          const dataTable =\n",
              "            await google.colab.kernel.invokeFunction('convertToInteractive',\n",
              "                                                     [key], {});\n",
              "          if (!dataTable) return;\n",
              "\n",
              "          const docLinkHtml = 'Like what you see? Visit the ' +\n",
              "            '<a target=\"_blank\" href=https://colab.research.google.com/notebooks/data_table.ipynb>data table notebook</a>'\n",
              "            + ' to learn more about interactive tables.';\n",
              "          element.innerHTML = '';\n",
              "          dataTable['output_type'] = 'display_data';\n",
              "          await google.colab.output.renderOutput(dataTable, element);\n",
              "          const docLink = document.createElement('div');\n",
              "          docLink.innerHTML = docLinkHtml;\n",
              "          element.appendChild(docLink);\n",
              "        }\n",
              "      </script>\n",
              "    </div>\n",
              "  </div>\n",
              "  "
            ]
          },
          "metadata": {},
          "execution_count": 48
        }
      ],
      "source": [
        "dfprodw"
      ]
    },
    {
      "cell_type": "markdown",
      "metadata": {
        "id": "bSunAL1DYGQU"
      },
      "source": [
        "exporting files"
      ]
    },
    {
      "cell_type": "code",
      "execution_count": null,
      "metadata": {
        "id": "HAIHMcsnQZgC"
      },
      "outputs": [],
      "source": [
        "dfprodw.to_csv('/content/drive/MyDrive/FINAL PROJECT RG 210/dept_product/inv_distribution_center_women_clustered.csv')"
      ]
    },
    {
      "cell_type": "code",
      "execution_count": null,
      "metadata": {
        "id": "IRHvjoNnR2Ah"
      },
      "outputs": [],
      "source": []
    }
  ],
  "metadata": {
    "colab": {
      "provenance": []
    },
    "kernelspec": {
      "display_name": "Python 3",
      "name": "python3"
    },
    "language_info": {
      "name": "python"
    }
  },
  "nbformat": 4,
  "nbformat_minor": 0
}